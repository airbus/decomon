{
 "cells": [
  {
   "cell_type": "markdown",
   "metadata": {},
   "source": [
    "# DECOMON tutorial #2\n",
    "## Local Robustness to sensor noise for Regression"
   ]
  },
  {
   "cell_type": "markdown",
   "metadata": {},
   "source": [
    "### Introduction\n",
    "\n",
    "Embedding simulation models developed during the design\n",
    "of a platform opens a lot of potential new functionalities\n",
    "but requires additional certification. Usually, these models require too much computing power, take too much time to run\n",
    "so we need to build an approximation of these models that can\n",
    "be compatible with operational constraints, hardware constraints, and real-time constraints. Also, we need to prove that\n",
    "the decisions made by the system using the surrogate model\n",
    "instead of the reference one will be safe.\n",
    "\n",
    "A first assessment that can be performed is the **robustness of the prediction given sensor noise**: demonstrating that despite sensor noise, the neural network prediction remains consistent.\n",
    "\n",
    "Local Robustness to **sensoir noise** can be performed efficiently thanks to formal robustness. In this notebook, we demonstrate how to derive deterministic upper and lower bounds of the output prediction of a neural network in the vicinity of a test sample."
   ]
  },
  {
   "cell_type": "markdown",
   "metadata": {},
   "source": [
    "### Toy Example: Electric Motor Temperature\n",
    "\n",
    "We will demonstrate how to perform **Local Robustness to sensoir noise** on a surrogate toy case.\n",
    "A neural network is trained to infer the temperature of a permanent-magnet synchronous motor ([PMSM](https://en.wikipedia.org/wiki/Synchronous_motor#Permanent-magnet_motors) ) given correlated features:\n",
    "\n",
    "+ ambiant: Ambient temperature as measured by a thermal sensor located closely to the stator.\n",
    "+ coolant: Coolant temperature. The motor is water cooled. Measurement is taken at outflow.\n",
    "+ u_d: Voltage d-component\n",
    "+ u_q: Voltage q-component\n",
    "+ motor_speed\n",
    "+ torque: Torque induced by current.\n",
    "+ i_d: Current d-component\n",
    "+ i_q: Current q-component\n",
    "\n",
    "\n",
    "The recorded temperature refers to the Permanent Magnet surface temperature (pm) representing the rotor temperature. This was measured with an infrared with 140 hrs recordings. Distinctive sessions are identified with \"profile_id\". You will find additional information in the [official data repository](https://www.kaggle.com/wkirgsn/electric-motor-temperature)"
   ]
  },
  {
   "cell_type": "markdown",
   "metadata": {},
   "source": [
    "### Preprocessing: downloading the data and the neural network"
   ]
  },
  {
   "cell_type": "code",
   "execution_count": 1,
   "metadata": {},
   "outputs": [],
   "source": [
    "import os\n",
    "import pandas as pd\n",
    "import numpy as np\n",
    "import time\n",
    "from tensorflow.keras.models import Sequential\n",
    "from tensorflow.keras.layers import Dense, Activation\n",
    "import matplotlib.pyplot as plt\n",
    "from numpy.testing import assert_almost_equal"
   ]
  },
  {
   "cell_type": "markdown",
   "metadata": {},
   "source": [
    "you can download directly the data on the [official data repository](https://www.kaggle.com/wkirgsn/electric-motor-temperature). For the sake of context, we display statistical informations of this dataset."
   ]
  },
  {
   "cell_type": "code",
   "execution_count": 2,
   "metadata": {},
   "outputs": [
    {
     "data": {
      "text/html": [
       "<div>\n",
       "<style scoped>\n",
       "    .dataframe tbody tr th:only-of-type {\n",
       "        vertical-align: middle;\n",
       "    }\n",
       "\n",
       "    .dataframe tbody tr th {\n",
       "        vertical-align: top;\n",
       "    }\n",
       "\n",
       "    .dataframe thead th {\n",
       "        text-align: right;\n",
       "    }\n",
       "</style>\n",
       "<table border=\"1\" class=\"dataframe\">\n",
       "  <thead>\n",
       "    <tr style=\"text-align: right;\">\n",
       "      <th></th>\n",
       "      <th>ambient</th>\n",
       "      <th>coolant</th>\n",
       "      <th>u_d</th>\n",
       "      <th>u_q</th>\n",
       "      <th>motor_speed</th>\n",
       "      <th>torque</th>\n",
       "      <th>i_d</th>\n",
       "      <th>i_q</th>\n",
       "      <th>pm</th>\n",
       "      <th>stator_yoke</th>\n",
       "      <th>stator_tooth</th>\n",
       "      <th>stator_winding</th>\n",
       "      <th>profile_id</th>\n",
       "    </tr>\n",
       "  </thead>\n",
       "  <tbody>\n",
       "    <tr>\n",
       "      <th>count</th>\n",
       "      <td>998070.000000</td>\n",
       "      <td>998070.000000</td>\n",
       "      <td>998070.000000</td>\n",
       "      <td>998070.000000</td>\n",
       "      <td>998070.000000</td>\n",
       "      <td>998070.000000</td>\n",
       "      <td>998070.000000</td>\n",
       "      <td>998070.000000</td>\n",
       "      <td>998070.000000</td>\n",
       "      <td>998070.000000</td>\n",
       "      <td>998070.000000</td>\n",
       "      <td>998070.000000</td>\n",
       "      <td>998070.000000</td>\n",
       "    </tr>\n",
       "    <tr>\n",
       "      <th>mean</th>\n",
       "      <td>-0.003905</td>\n",
       "      <td>0.004723</td>\n",
       "      <td>0.004780</td>\n",
       "      <td>-0.005690</td>\n",
       "      <td>-0.006336</td>\n",
       "      <td>-0.003333</td>\n",
       "      <td>0.006043</td>\n",
       "      <td>-0.003194</td>\n",
       "      <td>-0.004396</td>\n",
       "      <td>0.000609</td>\n",
       "      <td>-0.002208</td>\n",
       "      <td>-0.003935</td>\n",
       "      <td>50.732001</td>\n",
       "    </tr>\n",
       "    <tr>\n",
       "      <th>std</th>\n",
       "      <td>0.993127</td>\n",
       "      <td>1.002423</td>\n",
       "      <td>0.997878</td>\n",
       "      <td>1.002330</td>\n",
       "      <td>1.001229</td>\n",
       "      <td>0.997907</td>\n",
       "      <td>0.998994</td>\n",
       "      <td>0.997912</td>\n",
       "      <td>0.995686</td>\n",
       "      <td>1.001049</td>\n",
       "      <td>0.999597</td>\n",
       "      <td>0.998343</td>\n",
       "      <td>22.073125</td>\n",
       "    </tr>\n",
       "    <tr>\n",
       "      <th>min</th>\n",
       "      <td>-8.573954</td>\n",
       "      <td>-1.429349</td>\n",
       "      <td>-1.655373</td>\n",
       "      <td>-1.861463</td>\n",
       "      <td>-1.371529</td>\n",
       "      <td>-3.345953</td>\n",
       "      <td>-3.245874</td>\n",
       "      <td>-3.341639</td>\n",
       "      <td>-2.631991</td>\n",
       "      <td>-1.834688</td>\n",
       "      <td>-2.066143</td>\n",
       "      <td>-2.019973</td>\n",
       "      <td>4.000000</td>\n",
       "    </tr>\n",
       "    <tr>\n",
       "      <th>25%</th>\n",
       "      <td>-0.599385</td>\n",
       "      <td>-1.037925</td>\n",
       "      <td>-0.826359</td>\n",
       "      <td>-0.927390</td>\n",
       "      <td>-0.951892</td>\n",
       "      <td>-0.266917</td>\n",
       "      <td>-0.756296</td>\n",
       "      <td>-0.257269</td>\n",
       "      <td>-0.672308</td>\n",
       "      <td>-0.747265</td>\n",
       "      <td>-0.761951</td>\n",
       "      <td>-0.725622</td>\n",
       "      <td>32.000000</td>\n",
       "    </tr>\n",
       "    <tr>\n",
       "      <th>50%</th>\n",
       "      <td>0.266157</td>\n",
       "      <td>-0.177187</td>\n",
       "      <td>0.267542</td>\n",
       "      <td>-0.099818</td>\n",
       "      <td>-0.140246</td>\n",
       "      <td>-0.187246</td>\n",
       "      <td>0.213935</td>\n",
       "      <td>-0.190076</td>\n",
       "      <td>0.094367</td>\n",
       "      <td>-0.057226</td>\n",
       "      <td>0.005085</td>\n",
       "      <td>0.006536</td>\n",
       "      <td>56.000000</td>\n",
       "    </tr>\n",
       "    <tr>\n",
       "      <th>75%</th>\n",
       "      <td>0.686675</td>\n",
       "      <td>0.650709</td>\n",
       "      <td>0.358491</td>\n",
       "      <td>0.852625</td>\n",
       "      <td>0.853584</td>\n",
       "      <td>0.547171</td>\n",
       "      <td>1.013975</td>\n",
       "      <td>0.499260</td>\n",
       "      <td>0.680691</td>\n",
       "      <td>0.697344</td>\n",
       "      <td>0.772239</td>\n",
       "      <td>0.725660</td>\n",
       "      <td>68.000000</td>\n",
       "    </tr>\n",
       "    <tr>\n",
       "      <th>max</th>\n",
       "      <td>2.967117</td>\n",
       "      <td>2.649032</td>\n",
       "      <td>2.274734</td>\n",
       "      <td>1.793498</td>\n",
       "      <td>2.024164</td>\n",
       "      <td>3.016971</td>\n",
       "      <td>1.060937</td>\n",
       "      <td>2.914185</td>\n",
       "      <td>2.917456</td>\n",
       "      <td>2.449158</td>\n",
       "      <td>2.326668</td>\n",
       "      <td>2.653781</td>\n",
       "      <td>81.000000</td>\n",
       "    </tr>\n",
       "  </tbody>\n",
       "</table>\n",
       "</div>"
      ],
      "text/plain": [
       "             ambient        coolant            u_d            u_q  \\\n",
       "count  998070.000000  998070.000000  998070.000000  998070.000000   \n",
       "mean       -0.003905       0.004723       0.004780      -0.005690   \n",
       "std         0.993127       1.002423       0.997878       1.002330   \n",
       "min        -8.573954      -1.429349      -1.655373      -1.861463   \n",
       "25%        -0.599385      -1.037925      -0.826359      -0.927390   \n",
       "50%         0.266157      -0.177187       0.267542      -0.099818   \n",
       "75%         0.686675       0.650709       0.358491       0.852625   \n",
       "max         2.967117       2.649032       2.274734       1.793498   \n",
       "\n",
       "         motor_speed         torque            i_d            i_q  \\\n",
       "count  998070.000000  998070.000000  998070.000000  998070.000000   \n",
       "mean       -0.006336      -0.003333       0.006043      -0.003194   \n",
       "std         1.001229       0.997907       0.998994       0.997912   \n",
       "min        -1.371529      -3.345953      -3.245874      -3.341639   \n",
       "25%        -0.951892      -0.266917      -0.756296      -0.257269   \n",
       "50%        -0.140246      -0.187246       0.213935      -0.190076   \n",
       "75%         0.853584       0.547171       1.013975       0.499260   \n",
       "max         2.024164       3.016971       1.060937       2.914185   \n",
       "\n",
       "                  pm    stator_yoke   stator_tooth  stator_winding  \\\n",
       "count  998070.000000  998070.000000  998070.000000   998070.000000   \n",
       "mean       -0.004396       0.000609      -0.002208       -0.003935   \n",
       "std         0.995686       1.001049       0.999597        0.998343   \n",
       "min        -2.631991      -1.834688      -2.066143       -2.019973   \n",
       "25%        -0.672308      -0.747265      -0.761951       -0.725622   \n",
       "50%         0.094367      -0.057226       0.005085        0.006536   \n",
       "75%         0.680691       0.697344       0.772239        0.725660   \n",
       "max         2.917456       2.449158       2.326668        2.653781   \n",
       "\n",
       "          profile_id  \n",
       "count  998070.000000  \n",
       "mean       50.732001  \n",
       "std        22.073125  \n",
       "min         4.000000  \n",
       "25%        32.000000  \n",
       "50%        56.000000  \n",
       "75%        68.000000  \n",
       "max        81.000000  "
      ]
     },
     "execution_count": 2,
     "metadata": {},
     "output_type": "execute_result"
    }
   ],
   "source": [
    "data = pd.read_csv(\"./data/pmsm_temperature_data_.csv\")\n",
    "data.describe()"
   ]
  },
  {
   "cell_type": "markdown",
   "metadata": {},
   "source": [
    "Now it's time to dinstinguish our target (output, *pm*) and our features (inputs). We build the train and test set with a 80/20 ratio\n",
    "given the *profile_id*. Indeed we don't want to be biased by the recording session."
   ]
  },
  {
   "cell_type": "code",
   "execution_count": 3,
   "metadata": {},
   "outputs": [],
   "source": [
    "y = data[\"pm\"]                    #column \"pm\" is our target\n",
    "X = data.drop([\"pm\"], axis = 1) #the other columns are our features\n",
    "\n",
    "# sort given profile_id and split into train and test (80% of the sessions will be used for training the NN)\n",
    "index = []\n",
    "for i in range(X['profile_id'].min(), X['profile_id'].max()):\n",
    "    if i in X['profile_id']:\n",
    "        index.append(i)\n",
    "        \n",
    "n_train = int(0.8*len(index))\n",
    "is_train = X['profile_id'] <= index[n_train]\n",
    "is_test = X['profile_id'] > index[n_train]\n",
    "\n",
    "# conversion to numpy array\n",
    "X_train = X[is_train].drop([\"profile_id\"], axis = 1).to_numpy()\n",
    "X_test = X[is_test].drop([\"profile_id\"], axis = 1).to_numpy()\n",
    "y_train = y[is_train].to_numpy()\n",
    "y_test = y[is_test].to_numpy()"
   ]
  },
  {
   "cell_type": "markdown",
   "metadata": {},
   "source": [
    "We train a toy model. We did not seek to obtain the most accurate model as this notebook is only intended for a proof of concept"
   ]
  },
  {
   "cell_type": "code",
   "execution_count": 4,
   "metadata": {},
   "outputs": [
    {
     "name": "stderr",
     "output_type": "stream",
     "text": [
      "2022-10-27 16:02:29.323104: I tensorflow/core/platform/cpu_feature_guard.cc:193] This TensorFlow binary is optimized with oneAPI Deep Neural Network Library (oneDNN) to use the following CPU instructions in performance-critical operations:  AVX2 FMA\n",
      "To enable them in other operations, rebuild TensorFlow with the appropriate compiler flags.\n"
     ]
    }
   ],
   "source": [
    "model = Sequential()\n",
    "model.add(Dense(10, input_dim=X_train.shape[-1]))\n",
    "model.add(Activation('relu'))\n",
    "model.add(Dense(20))\n",
    "model.add(Activation('relu'))\n",
    "model.add(Dense(1))"
   ]
  },
  {
   "cell_type": "code",
   "execution_count": 5,
   "metadata": {},
   "outputs": [
    {
     "name": "stdout",
     "output_type": "stream",
     "text": [
      "Epoch 1/3\n",
      "17106/17106 [==============================] - 16s 913us/step - loss: 0.1635 - val_loss: 0.2309\n",
      "Epoch 2/3\n",
      "17106/17106 [==============================] - 15s 897us/step - loss: 0.1178 - val_loss: 0.2138\n",
      "Epoch 3/3\n",
      "17106/17106 [==============================] - 15s 881us/step - loss: 0.1071 - val_loss: 0.1833\n"
     ]
    },
    {
     "data": {
      "text/plain": [
       "<keras.callbacks.History at 0x7f93e521fbe0>"
      ]
     },
     "execution_count": 5,
     "metadata": {},
     "output_type": "execute_result"
    }
   ],
   "source": [
    "model.compile('adam', 'mse')\n",
    "model.fit(X_train, y_train, batch_size=32, shuffle=True, validation_split=0.2, \n",
    "          epochs=3)"
   ]
  },
  {
   "cell_type": "markdown",
   "metadata": {},
   "source": [
    "## Local Robustness to sensoir noise"
   ]
  },
  {
   "cell_type": "markdown",
   "metadata": {},
   "source": [
    "In this section, we detail how to derive upper \n",
    "and lower bounds on the output of a neural network given some noise on the input. \n",
    "Hence we are able to bound formally the worst case prediction given noise.\n",
    "In that order, we will use the [decomon](https://gheprivate.intra.corp/CRT-DataScience/decomon/tree/master/decomon) library. Decomon combines several optimization trick, including linear relaxation\n",
    "to get state-of-the-art outer approximation.\n",
    "\n",
    "To use **decomon** for **local robustness to sensor noise** we first need the following imports:\n",
    "+ *from decomon.models import convert*: to convert our current Keras model into another neural network nn_model. nn_model will output the same prediction that our model and adds extra information that will be used to derive our formal bounds. For a sake of clarity, how to get such bounds is hidden to the user, but an interested reader may refer to XXX\n",
    "\n",
    "+ *from decomon import get_upper_noise*: a generic method to get an upper bound on the prediction of a neural network in a $L_p$ (p $\\in \\{1, 2, \\infty\\} $) ball with radius epsilon around a sample. If the type of Lp norm is not provided, we assume that we consider a worst case noise independently on every input variable ($L_{\\infty}$)."
   ]
  },
  {
   "cell_type": "code",
   "execution_count": 6,
   "metadata": {},
   "outputs": [],
   "source": [
    "import sys\n",
    "sys.path.append('..')\n",
    "import decomon\n",
    "from decomon.models import convert, clone\n",
    "from decomon import get_upper_noise, get_lower_noise, get_range_noise, get_upper_box\n",
    "from decomon import get_upper_box, get_lower_box"
   ]
  },
  {
   "cell_type": "markdown",
   "metadata": {},
   "source": [
    "## Noise $L_{\\infty}$"
   ]
  },
  {
   "cell_type": "markdown",
   "metadata": {},
   "source": [
    "we will first consider a worst case noise independently on every input variable ($L_{\\infty}$).\n",
    "We pick a random subset of the test dataset and compute an envelop of the network prediction with a noise epsilon"
   ]
  },
  {
   "cell_type": "code",
   "execution_count": 18,
   "metadata": {},
   "outputs": [
    {
     "name": "stdout",
     "output_type": "stream",
     "text": [
      "32/32 [==============================] - 0s 820us/step\n"
     ]
    }
   ],
   "source": [
    "# you can play with the magnitude of the noise\n",
    "epsilon = 1e-2\n",
    "\n",
    "# size of the subset of the test set\n",
    "n_rand = 1000\n",
    "# sampling from the test set\n",
    "index_rand = np.random.permutation(len(X_test))[:n_rand]\n",
    "X_rand = X_test[index_rand]\n",
    "y_pred = model.predict(X_rand)[:,0]"
   ]
  },
  {
   "cell_type": "markdown",
   "metadata": {},
   "source": [
    "the **get_upper_noise** and **get_lower_noise methods** return upper and lower bounds over a batchs of samples"
   ]
  },
  {
   "cell_type": "code",
   "execution_count": 19,
   "metadata": {},
   "outputs": [
    {
     "name": "stdout",
     "output_type": "stream",
     "text": [
      "32/32 [==============================] - 1s 2ms/step\n",
      "32/32 [==============================] - 1s 2ms/step\n",
      "Average time to get an upper and a lower bound:0.00482226 s\n"
     ]
    }
   ],
   "source": [
    "# compute formal bounds\n",
    "start_time = time.process_time()  #optional\n",
    "upper_test = get_upper_noise(model, X_rand, epsilon)[:, 0]\n",
    "lower_test = get_lower_noise(model, X_rand, epsilon)[:, 0]\n",
    "end_time = time.process_time()  #optional\n",
    "\n",
    "print('Average time to get an upper and a lower bound:{} s'.format((end_time-start_time)/n_rand))"
   ]
  },
  {
   "cell_type": "markdown",
   "metadata": {},
   "source": [
    "You can compute both bounds within a single call to the method **get_range_noise**"
   ]
  },
  {
   "cell_type": "code",
   "execution_count": 20,
   "metadata": {},
   "outputs": [
    {
     "name": "stdout",
     "output_type": "stream",
     "text": [
      "32/32 [==============================] - 1s 2ms/step\n"
     ]
    }
   ],
   "source": [
    "upper_test_bis, lower_test_bis = get_range_noise(model, X_rand, epsilon)"
   ]
  },
  {
   "cell_type": "markdown",
   "metadata": {},
   "source": [
    "We can assess that the output results remain unchanged"
   ]
  },
  {
   "cell_type": "code",
   "execution_count": 21,
   "metadata": {},
   "outputs": [],
   "source": [
    "assert_almost_equal(upper_test, upper_test_bis[:,0], decimal=4, err_msg=\"error\")\n",
    "assert_almost_equal(lower_test, lower_test_bis[:,0], decimal=4, err_msg=\"error\")"
   ]
  },
  {
   "cell_type": "markdown",
   "metadata": {},
   "source": [
    "If you plan to compute both upper and lower bounds or call those methods several time in your script, the most efficient way is to call the method on the decomon version itself. To do so, you first need to convert your model:"
   ]
  },
  {
   "cell_type": "code",
   "execution_count": 35,
   "metadata": {},
   "outputs": [
    {
     "name": "stdout",
     "output_type": "stream",
     "text": [
      "32/32 [==============================] - 1s 2ms/step\n",
      "32/32 [==============================] - 0s 2ms/step\n",
      "Average time to get an upper and a lower bound:0.0024532299999999907 s\n"
     ]
    }
   ],
   "source": [
    "start_time = time.process_time() #optional\n",
    "convex_domain = {'name': 'ball', 'p': np.inf, 'eps': epsilon}\n",
    "nn_model = clone(model, method='crown-hybrid', convex_domain=convex_domain)\n",
    "upper_test_ = get_upper_noise(nn_model, X_rand, epsilon)[:, 0]\n",
    "lower_test_ = get_lower_noise(nn_model, X_rand, epsilon)[:, 0]\n",
    "end_time = time.process_time()  #optional\n",
    "print('Average time to get an upper and a lower bound:{} s'.format((end_time-start_time)/n_rand))"
   ]
  },
  {
   "cell_type": "markdown",
   "metadata": {},
   "source": [
    "We can assess that the output results remain unchanged"
   ]
  },
  {
   "cell_type": "code",
   "execution_count": 37,
   "metadata": {},
   "outputs": [],
   "source": [
    "assert_almost_equal(upper_test, upper_test_, decimal=4, err_msg=\"error\")\n",
    "assert_almost_equal(lower_test, lower_test_, decimal=4, err_msg=\"error\")"
   ]
  },
  {
   "cell_type": "code",
   "execution_count": null,
   "metadata": {},
   "outputs": [],
   "source": [
    "assert_almost_equal(upper_test, ub_p, decimal=4, err_msg=\"error\")"
   ]
  },
  {
   "cell_type": "code",
   "execution_count": null,
   "metadata": {},
   "outputs": [],
   "source": [
    "upper_test[np.argsort(y_pred)].min"
   ]
  },
  {
   "cell_type": "code",
   "execution_count": null,
   "metadata": {},
   "outputs": [],
   "source": [
    "upper_test = u\n",
    "lower_test = l"
   ]
  },
  {
   "cell_type": "markdown",
   "metadata": {},
   "source": [
    "### Visualization"
   ]
  },
  {
   "cell_type": "code",
   "execution_count": 23,
   "metadata": {},
   "outputs": [
    {
     "data": {
      "text/plain": [
       "Text(0.5, 1.0, 'Formal robustness in a box')"
      ]
     },
     "execution_count": 23,
     "metadata": {},
     "output_type": "execute_result"
    },
    {
     "data": {
      "image/png": "[encoded data removed]",
      "text/plain": [
       "<Figure size 640x480 with 1 Axes>"
      ]
     },
     "metadata": {},
     "output_type": "display_data"
    }
   ],
   "source": [
    "plt.plot(np.sort(y_pred), upper_test_[np.argsort(y_pred)], c='k')\n",
    "plt.plot(np.sort(y_pred), lower_test_[np.argsort(y_pred)], c='b')\n",
    "plt.plot([y_pred.min(), y_pred.max()], [y_pred.min(), y_pred.max()], '--')\n",
    "plt.legend(['upper>max NN(x+eps)', 'lower<min NN(x+eps)'])\n",
    "plt.xlabel('predicted temperature (t)')\n",
    "plt.ylabel('formal bounds given a bounded noise: eps<={}'.format(epsilon))\n",
    "plt.title('Formal robustness in a box')"
   ]
  },
  {
   "cell_type": "markdown",
   "metadata": {},
   "source": [
    "## Noise $L_{2}$\n",
    "\n",
    "Usually, sensor noise is approximated by Gaussian noise. One way to represent it with formal methods is to use an euclidian ball. We provide an illustration of how to express Gaussian noise in a 2D domain as a pink ball that covers the distribution with high probability.\n",
    "\n",
    "<img src=\"./data/ball_fm.png\" alt=\"Decomon!\" width=\"400\"/>"
   ]
  },
  {
   "cell_type": "code",
   "execution_count": 24,
   "metadata": {},
   "outputs": [
    {
     "name": "stdout",
     "output_type": "stream",
     "text": [
      "32/32 [==============================] - 1s 2ms/step\n",
      "Average time to get an upper and a lower bound:0.0024149749999999985 s\n"
     ]
    }
   ],
   "source": [
    "# compute formal bounds\n",
    "start_time = time.process_time()  #optional\n",
    "upper_test, lower_test = get_range_noise(model, X_rand, epsilon, p=2)\n",
    "upper_test = upper_test[:, 0]\n",
    "lower_test = lower_test[:, 0]\n",
    "end_time = time.process_time()  #optional\n",
    "\n",
    "print('Average time to get an upper and a lower bound:{} s'.format((end_time-start_time)/n_rand))"
   ]
  },
  {
   "cell_type": "code",
   "execution_count": 25,
   "metadata": {},
   "outputs": [
    {
     "data": {
      "text/plain": [
       "Text(0.5, 1.0, 'Formal robustness in an euclidean ball')"
      ]
     },
     "execution_count": 25,
     "metadata": {},
     "output_type": "execute_result"
    },
    {
     "data": {
      "image/png": "[encoded data removed]",
      "text/plain": [
       "<Figure size 640x480 with 1 Axes>"
      ]
     },
     "metadata": {},
     "output_type": "display_data"
    }
   ],
   "source": [
    "plt.plot(np.sort(y_pred), upper_test[np.argsort(y_pred)], c='k')\n",
    "plt.plot(np.sort(y_pred), lower_test[np.argsort(y_pred)], c='b')\n",
    "plt.plot([y_pred.min(), y_pred.max()], [y_pred.min(), y_pred.max()], '--')\n",
    "plt.legend(['upper>max NN(x+eps)', 'lower<min NN(x+eps)'])\n",
    "plt.xlabel('predicted temperature (t)')\n",
    "plt.ylabel('formal bounds given a bounded noise: eps<={}'.format(epsilon))\n",
    "plt.title('Formal robustness in an euclidean ball')"
   ]
  },
  {
   "cell_type": "code",
   "execution_count": null,
   "metadata": {},
   "outputs": [],
   "source": []
  }
 ],
 "metadata": {
  "kernelspec": {
   "display_name": "Python 3 (ipykernel)",
   "language": "python",
   "name": "python3"
  },
  "language_info": {
   "codemirror_mode": {
    "name": "ipython",
    "version": 3
   },
   "file_extension": ".py",
   "mimetype": "text/x-python",
   "name": "python",
   "nbconvert_exporter": "python",
   "pygments_lexer": "ipython3",
   "version": "3.9.13"
  }
 },
 "nbformat": 4,
 "nbformat_minor": 4
}
