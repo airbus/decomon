{
 "cells": [
  {
   "cell_type": "code",
   "execution_count": 1,
   "id": "07dc8cde",
   "metadata": {},
   "outputs": [],
   "source": [
    "import matplotlib.pyplot as plt\n",
    "import tensorflow.keras as keras\n",
    "\n",
    "%matplotlib inline\n",
    "import sys\n",
    "\n",
    "import numpy as np\n",
    "import tensorflow.keras.backend as K\n",
    "from tensorflow.keras.datasets import mnist\n",
    "from tensorflow.keras.layers import Dense, Input\n",
    "from tensorflow.keras.models import Model, Sequential\n",
    "\n",
    "sys.path.append(\"..\")"
   ]
  },
  {
   "cell_type": "code",
   "execution_count": 2,
   "id": "061da8e2",
   "metadata": {},
   "outputs": [],
   "source": [
    "img_rows, img_cols = 28, 28\n",
    "(x_train, y_train_), (x_test, y_test_) = mnist.load_data()\n",
    "x_train = x_train.reshape((-1, 784))\n",
    "x_test = x_test.reshape((-1, 784))\n",
    "x_train = x_train.astype(\"float32\")\n",
    "x_test = x_test.astype(\"float32\")\n",
    "x_train /= 255.0\n",
    "x_test /= 255.0\n",
    "y_train = keras.utils.to_categorical(y_train_)\n",
    "y_test = keras.utils.to_categorical(y_test_)"
   ]
  },
  {
   "cell_type": "code",
   "execution_count": 3,
   "id": "c015a60f",
   "metadata": {},
   "outputs": [
    {
     "name": "stderr",
     "output_type": "stream",
     "text": [
      "2022-03-31 16:04:50.291244: I tensorflow/core/platform/cpu_feature_guard.cc:151] This TensorFlow binary is optimized with oneAPI Deep Neural Network Library (oneDNN) to use the following CPU instructions in performance-critical operations:  AVX2 FMA\n",
      "To enable them in other operations, rebuild TensorFlow with the appropriate compiler flags.\n"
     ]
    }
   ],
   "source": [
    "model = Sequential()\n",
    "model.add(Dense(500, activation=\"relu\"))\n",
    "model.add(Dense(10, activation=\"softmax\"))"
   ]
  },
  {
   "cell_type": "code",
   "execution_count": 4,
   "id": "0614a3f2",
   "metadata": {},
   "outputs": [],
   "source": [
    "model.compile(\"adam\", \"categorical_crossentropy\", metrics=[\"acc\"])"
   ]
  },
  {
   "cell_type": "code",
   "execution_count": 5,
   "id": "78d8d36e",
   "metadata": {},
   "outputs": [
    {
     "data": {
      "text/plain": [
       "<keras.callbacks.History at 0x7fd607e94050>"
      ]
     },
     "execution_count": 5,
     "metadata": {},
     "output_type": "execute_result"
    }
   ],
   "source": [
    "model.fit(x_train, y_train, validation_split=0.2, batch_size=32, epochs=1, verbose=0)"
   ]
  },
  {
   "cell_type": "code",
   "execution_count": 6,
   "id": "bc01cd04",
   "metadata": {},
   "outputs": [],
   "source": [
    "# model.save_weights('tuto_4_ongoing.hd5')"
   ]
  },
  {
   "cell_type": "code",
   "execution_count": 7,
   "id": "9554c562",
   "metadata": {},
   "outputs": [
    {
     "name": "stdout",
     "output_type": "stream",
     "text": [
      "1875/1875 [==============================] - 2s 1ms/step - loss: 0.1030 - acc: 0.9696\n"
     ]
    },
    {
     "data": {
      "text/plain": [
       "[0.10296569019556046, 0.9695666432380676]"
      ]
     },
     "execution_count": 7,
     "metadata": {},
     "output_type": "execute_result"
    }
   ],
   "source": [
    "model.evaluate(x_train, y_train)"
   ]
  },
  {
   "cell_type": "code",
   "execution_count": 8,
   "id": "f8dd4b7c",
   "metadata": {},
   "outputs": [
    {
     "data": {
      "text/plain": [
       "5"
      ]
     },
     "execution_count": 8,
     "metadata": {},
     "output_type": "execute_result"
    }
   ],
   "source": [
    "model.predict(x_train[:1]).argmax()"
   ]
  },
  {
   "cell_type": "code",
   "execution_count": 9,
   "id": "ff67b011",
   "metadata": {},
   "outputs": [],
   "source": [
    "from decomon.models import clone"
   ]
  },
  {
   "cell_type": "code",
   "execution_count": 10,
   "id": "9d6007a8",
   "metadata": {},
   "outputs": [],
   "source": [
    "from decomon import get_adv_box"
   ]
  },
  {
   "cell_type": "code",
   "execution_count": 11,
   "id": "dd06d601",
   "metadata": {},
   "outputs": [],
   "source": [
    "eps = 0.1\n",
    "X_train = x_train\n",
    "X_train_min = X_train - eps\n",
    "X_train_max = X_train + eps\n",
    "Y_train = y_train\n",
    "B_train = np.concatenate([X_train_min[:, None], X_train_max[:, None]], 1)"
   ]
  },
  {
   "cell_type": "code",
   "execution_count": 12,
   "id": "3d9e8894",
   "metadata": {},
   "outputs": [],
   "source": [
    "back_bounds = Input((10, 10))"
   ]
  },
  {
   "cell_type": "code",
   "execution_count": 13,
   "id": "74049185",
   "metadata": {},
   "outputs": [],
   "source": [
    "decomon_nnet = clone(model, method=\"crown-ibp\", back_bounds=[back_bounds], finetune=False)"
   ]
  },
  {
   "cell_type": "code",
   "execution_count": 14,
   "id": "5aa1f9c9",
   "metadata": {},
   "outputs": [],
   "source": [
    "from decomon.metrics import build_crossentropy_model"
   ]
  },
  {
   "cell_type": "code",
   "execution_count": 15,
   "id": "10787b6d",
   "metadata": {},
   "outputs": [],
   "source": [
    "nnet = build_crossentropy_model(decomon_nnet)"
   ]
  },
  {
   "cell_type": "code",
   "execution_count": 16,
   "id": "aca20165",
   "metadata": {},
   "outputs": [],
   "source": [
    "nnet.compile(\"adam\", \"categorical_crossentropy\")"
   ]
  },
  {
   "cell_type": "code",
   "execution_count": 17,
   "id": "dd6e05e2",
   "metadata": {},
   "outputs": [],
   "source": [
    "C = np.diag([1] * 10)[None] - y_train[:, :, None]"
   ]
  },
  {
   "cell_type": "code",
   "execution_count": 33,
   "id": "adcb636c",
   "metadata": {},
   "outputs": [
    {
     "data": {
      "text/plain": [
       "array([-8.635242], dtype=float32)"
      ]
     },
     "execution_count": 33,
     "metadata": {},
     "output_type": "execute_result"
    }
   ],
   "source": [
    "get_adv_box(decomon_nnet, B_train[:10, 0], B_train[:10, 1], Y_train[:10])"
   ]
  },
  {
   "cell_type": "code",
   "execution_count": null,
   "id": "6838e168",
   "metadata": {},
   "outputs": [
    {
     "name": "stdout",
     "output_type": "stream",
     "text": [
      "Epoch 1/10\n",
      " 237/1875 [==>...........................] - ETA: 12:44 - loss: 1.7251"
     ]
    }
   ],
   "source": [
    "nnet.fit([B_train, C], Y_train, validation_data=0.2, epochs=10)"
   ]
  },
  {
   "cell_type": "code",
   "execution_count": null,
   "id": "6871618e",
   "metadata": {},
   "outputs": [],
   "source": []
  },
  {
   "cell_type": "code",
   "execution_count": 29,
   "id": "12da8ab5",
   "metadata": {},
   "outputs": [],
   "source": [
    "decomon_nnet_ = clone(model, method=\"crown-hybrid\", finetune=False)"
   ]
  },
  {
   "cell_type": "code",
   "execution_count": 30,
   "id": "7e821943",
   "metadata": {},
   "outputs": [
    {
     "name": "stdout",
     "output_type": "stream",
     "text": [
      "WARNING:tensorflow:6 out of the last 8 calls to <function Model.make_predict_function.<locals>.predict_function at 0x7fcccc64d170> triggered tf.function retracing. Tracing is expensive and the excessive number of tracings could be due to (1) creating @tf.function repeatedly in a loop, (2) passing tensors with different shapes, (3) passing Python objects instead of tensors. For (1), please define your @tf.function outside of the loop. For (2), @tf.function has experimental_relax_shapes=True option that relaxes argument shapes that can avoid unnecessary retracing. For (3), please refer to https://www.tensorflow.org/guide/function#controlling_retracing and https://www.tensorflow.org/api_docs/python/tf/function for  more details.\n"
     ]
    },
    {
     "data": {
      "text/plain": [
       "array([2.812132], dtype=float32)"
      ]
     },
     "execution_count": 30,
     "metadata": {},
     "output_type": "execute_result"
    }
   ],
   "source": [
    "get_adv_box(decomon_nnet_, B_train[:1, 0], B_train[:1, 1], Y_train[:1])"
   ]
  },
  {
   "cell_type": "code",
   "execution_count": 12,
   "id": "99da05e7",
   "metadata": {},
   "outputs": [
    {
     "data": {
      "text/plain": [
       "[<KerasTensor: shape=(None, 2, 784) dtype=float32 (created by layer 'input_2')>,\n",
       " <KerasTensor: shape=(None, 10, 10) dtype=float32 (created by layer 'input_1')>]"
      ]
     },
     "execution_count": 12,
     "metadata": {},
     "output_type": "execute_result"
    }
   ],
   "source": [
    "decomon_nnet.input"
   ]
  },
  {
   "cell_type": "code",
   "execution_count": 19,
   "id": "2bc23933",
   "metadata": {},
   "outputs": [],
   "source": [
    "C = np.diag([1] * 10)[None] - y_train[:, :, None]"
   ]
  },
  {
   "cell_type": "code",
   "execution_count": 14,
   "id": "77bab51e",
   "metadata": {},
   "outputs": [
    {
     "ename": "NameError",
     "evalue": "name 'B_train' is not defined",
     "output_type": "error",
     "traceback": [
      "\u001b[0;31m---------------------------------------------------------------------------\u001b[0m",
      "\u001b[0;31mNameError\u001b[0m                                 Traceback (most recent call last)",
      "\u001b[0;32m/var/folders/mv/rks11p6n68n4p1fqvdm9z5_w0000gn/T/ipykernel_10979/4090293965.py\u001b[0m in \u001b[0;36m<module>\u001b[0;34m\u001b[0m\n\u001b[0;32m----> 1\u001b[0;31m \u001b[0m_\u001b[0m\u001b[0;34m,\u001b[0m \u001b[0mu_\u001b[0m\u001b[0;34m,\u001b[0m\u001b[0m_\u001b[0m\u001b[0;34m,\u001b[0m \u001b[0m_\u001b[0m\u001b[0;34m,\u001b[0m \u001b[0ml_\u001b[0m\u001b[0;34m,\u001b[0m \u001b[0m_\u001b[0m\u001b[0;34m,\u001b[0m \u001b[0m_\u001b[0m \u001b[0;34m=\u001b[0m\u001b[0mdecomon_nnet\u001b[0m\u001b[0;34m.\u001b[0m\u001b[0mpredict\u001b[0m\u001b[0;34m(\u001b[0m\u001b[0;34m[\u001b[0m\u001b[0mB_train\u001b[0m\u001b[0;34m[\u001b[0m\u001b[0;34m:\u001b[0m\u001b[0;36m1\u001b[0m\u001b[0;34m]\u001b[0m\u001b[0;34m,\u001b[0m \u001b[0mC\u001b[0m\u001b[0;34m[\u001b[0m\u001b[0;34m:\u001b[0m\u001b[0;36m1\u001b[0m\u001b[0;34m]\u001b[0m\u001b[0;34m]\u001b[0m\u001b[0;34m)\u001b[0m\u001b[0;34m\u001b[0m\u001b[0;34m\u001b[0m\u001b[0m\n\u001b[0m",
      "\u001b[0;31mNameError\u001b[0m: name 'B_train' is not defined"
     ]
    }
   ],
   "source": [
    "_, u_, _, _, l_, _, _ = decomon_nnet.predict([B_train[:1], C[:1]])"
   ]
  },
  {
   "cell_type": "code",
   "execution_count": 71,
   "id": "b2911f21",
   "metadata": {},
   "outputs": [],
   "source": [
    "C = np.diag([1] * 10)[None]  # - y_train[:,None,:]\n",
    "_, u, _, _, l, _, _ = decomon_nnet.predict([B_train[:1], C[:1]])"
   ]
  },
  {
   "cell_type": "code",
   "execution_count": 76,
   "id": "f004bf54",
   "metadata": {},
   "outputs": [
    {
     "data": {
      "text/plain": [
       "array([[-12.826012 ,  -8.422814 ,  -6.957767 ,  -0.8871279, -19.374866 ,\n",
       "          5.3676033, -12.693346 ,  -8.766384 , -10.720913 ,  -9.208189 ]],\n",
       "      dtype=float32)"
      ]
     },
     "execution_count": 76,
     "metadata": {},
     "output_type": "execute_result"
    }
   ],
   "source": [
    "u - l[0, 5]"
   ]
  },
  {
   "cell_type": "code",
   "execution_count": 75,
   "id": "d6895ab9",
   "metadata": {},
   "outputs": [
    {
     "data": {
      "text/plain": [
       "array([[-13.9510975,  -9.883841 ,  -7.886854 ,  -2.339148 , -20.59057  ,\n",
       "          0.       , -14.807028 ,  -9.331728 , -12.254875 , -10.50222  ]],\n",
       "      dtype=float32)"
      ]
     },
     "execution_count": 75,
     "metadata": {},
     "output_type": "execute_result"
    }
   ],
   "source": [
    "u_"
   ]
  },
  {
   "cell_type": "code",
   "execution_count": 37,
   "id": "cfcf20de",
   "metadata": {},
   "outputs": [
    {
     "data": {
      "text/plain": [
       "array([[-12.826012 ,  -8.422814 ,  -6.957767 ,  -0.8871279, -19.374866 ,\n",
       "          5.3676033, -12.693346 ,  -8.766384 , -10.720913 ,  -9.208189 ]],\n",
       "      dtype=float32)"
      ]
     },
     "execution_count": 37,
     "metadata": {},
     "output_type": "execute_result"
    }
   ],
   "source": [
    "u"
   ]
  },
  {
   "cell_type": "code",
   "execution_count": 34,
   "id": "1171f3fa",
   "metadata": {},
   "outputs": [
    {
     "data": {
      "text/plain": [
       "8.636891"
      ]
     },
     "execution_count": 34,
     "metadata": {},
     "output_type": "execute_result"
    }
   ],
   "source": [
    "l[0, 5]"
   ]
  },
  {
   "cell_type": "code",
   "execution_count": 11,
   "id": "9f9e0b49",
   "metadata": {},
   "outputs": [],
   "source": [
    "from decomon.metrics import build_radius_robust_model"
   ]
  },
  {
   "cell_type": "code",
   "execution_count": 12,
   "id": "8dc30322",
   "metadata": {},
   "outputs": [],
   "source": [
    "toto = build_radius_robust_model(decomon_nnet)"
   ]
  },
  {
   "cell_type": "code",
   "execution_count": 13,
   "id": "f5294bd1",
   "metadata": {},
   "outputs": [
    {
     "data": {
      "text/plain": [
       "[<KerasTensor: shape=(None, 2, 784) dtype=float32 (created by layer 'input_1')>]"
      ]
     },
     "execution_count": 13,
     "metadata": {},
     "output_type": "execute_result"
    }
   ],
   "source": [
    "toto.inputs"
   ]
  },
  {
   "cell_type": "code",
   "execution_count": 14,
   "id": "24d00358",
   "metadata": {},
   "outputs": [],
   "source": [
    "eps = 0.015\n",
    "X_train = x_train\n",
    "X_train_min = X_train - eps\n",
    "X_train_max = X_train + eps\n",
    "Y_train = y_train\n",
    "B_train = np.concatenate([X_train_min[:, None], X_train_max[:, None]], 1)"
   ]
  },
  {
   "cell_type": "code",
   "execution_count": 15,
   "id": "08f62b7d",
   "metadata": {},
   "outputs": [
    {
     "data": {
      "text/plain": [
       "array([[4.5404277, 4.727264 , 3.8011708, 6.4425397, 0.       , 7.3959684,\n",
       "        2.9926615, 3.9195993, 3.6353648, 5.5277886]], dtype=float32)"
      ]
     },
     "execution_count": 15,
     "metadata": {},
     "output_type": "execute_result"
    }
   ],
   "source": [
    "toto.predict(B_train[:1])"
   ]
  },
  {
   "cell_type": "code",
   "execution_count": 23,
   "id": "17eb193d",
   "metadata": {},
   "outputs": [
    {
     "data": {
      "text/plain": [
       "5"
      ]
     },
     "execution_count": 23,
     "metadata": {},
     "output_type": "execute_result"
    }
   ],
   "source": [
    "toto.predict(B_train[:1]).argmin()"
   ]
  },
  {
   "cell_type": "code",
   "execution_count": 30,
   "id": "36e2cda6",
   "metadata": {},
   "outputs": [
    {
     "data": {
      "text/plain": [
       "5"
      ]
     },
     "execution_count": 30,
     "metadata": {},
     "output_type": "execute_result"
    }
   ],
   "source": [
    "Y_train[:1].argmax()"
   ]
  },
  {
   "cell_type": "code",
   "execution_count": 21,
   "id": "324f4d6d",
   "metadata": {},
   "outputs": [],
   "source": [
    "def loss(y_true, y_pred):\n",
    "    return K.sum(y_true * y_pred, -1)"
   ]
  },
  {
   "cell_type": "code",
   "execution_count": 22,
   "id": "b952c186",
   "metadata": {},
   "outputs": [],
   "source": [
    "nnet.compile(\"adam\", loss)"
   ]
  },
  {
   "cell_type": "code",
   "execution_count": 22,
   "id": "b6e8bce7",
   "metadata": {},
   "outputs": [
    {
     "name": "stdout",
     "output_type": "stream",
     "text": [
      "Epoch 1/10\n",
      "1/1 [==============================] - 0s 303ms/step - loss: 0.0000e+00\n",
      "Epoch 2/10\n",
      "1/1 [==============================] - 0s 341ms/step - loss: 0.0000e+00\n",
      "Epoch 3/10\n",
      "1/1 [==============================] - 0s 292ms/step - loss: 0.0000e+00\n",
      "Epoch 4/10\n",
      "1/1 [==============================] - 0s 331ms/step - loss: 0.0000e+00\n",
      "Epoch 5/10\n",
      "1/1 [==============================] - 0s 304ms/step - loss: 0.0000e+00\n",
      "Epoch 6/10\n",
      "1/1 [==============================] - 0s 305ms/step - loss: 0.0000e+00\n",
      "Epoch 7/10\n",
      "1/1 [==============================] - 0s 312ms/step - loss: 0.0000e+00\n",
      "Epoch 8/10\n",
      "1/1 [==============================] - 0s 315ms/step - loss: 0.0000e+00\n",
      "Epoch 9/10\n",
      "1/1 [==============================] - 0s 330ms/step - loss: 0.0000e+00\n",
      "Epoch 10/10\n",
      "1/1 [==============================] - 0s 311ms/step - loss: 0.0000e+00\n"
     ]
    },
    {
     "data": {
      "text/plain": [
       "<keras.callbacks.History at 0x7fc383f23210>"
      ]
     },
     "execution_count": 22,
     "metadata": {},
     "output_type": "execute_result"
    }
   ],
   "source": [
    "toto.fit(B_train[:10], Y_train[:10], epochs=10)"
   ]
  },
  {
   "cell_type": "code",
   "execution_count": 10,
   "id": "4f3e6624",
   "metadata": {},
   "outputs": [],
   "source": [
    "decomon_crown = clone(model, method=\"crown\", finetune=False)"
   ]
  },
  {
   "cell_type": "code",
   "execution_count": 13,
   "id": "e1213dad",
   "metadata": {},
   "outputs": [
    {
     "data": {
      "text/plain": [
       "[<KerasTensor: shape=(None, 2, 784) dtype=float32 (created by layer 'input_1')>]"
      ]
     },
     "execution_count": 13,
     "metadata": {},
     "output_type": "execute_result"
    }
   ],
   "source": [
    "decomon_crown.inputs"
   ]
  },
  {
   "cell_type": "code",
   "execution_count": 14,
   "id": "51acf201",
   "metadata": {},
   "outputs": [],
   "source": [
    "def build_graph(model, dim=(2, 784)):\n",
    "    x = Input(shape=dim)\n",
    "    return Model(inputs=[x], outputs=model.call(x))"
   ]
  },
  {
   "cell_type": "code",
   "execution_count": 17,
   "id": "578063ce",
   "metadata": {},
   "outputs": [
    {
     "name": "stdout",
     "output_type": "stream",
     "text": [
      "Model: \"model\"\n",
      "__________________________________________________________________________________________________\n",
      " Layer (type)                   Output Shape         Param #     Connected to                     \n",
      "==================================================================================================\n",
      " input_32 (InputLayer)          [(None, 2, 784)]     0           []                               \n",
      "                                                                                                  \n",
      " lambda_1 (Lambda)              (None, 784)          0           ['input_32[0][0]']               \n",
      "                                                                                                  \n",
      " lambda (Lambda)                (None, 784)          0           ['input_32[0][0]']               \n",
      "                                                                                                  \n",
      " flatten (Flatten)              (None, 784)          0           ['lambda_1[1][0]',               \n",
      "                                                                  'lambda[1][0]']                 \n",
      "                                                                                                  \n",
      " backward_dense_4 (BackwardDens  ((None, 784, 500),  392500      ['lambda[1][0]',                 \n",
      " e)                              (None, 500),                     'lambda_1[1][0]']               \n",
      "                                 (None, 784, 500),                                                \n",
      "                                 (None, 500))                                                     \n",
      "                                                                                                  \n",
      " lambda_2 (Lambda)              (None, 500)          0           ['flatten[2][0]',                \n",
      "                                                                  'flatten[3][0]',                \n",
      "                                                                  'backward_dense_4[1][0]',       \n",
      "                                                                  'backward_dense_4[1][1]']       \n",
      "                                                                                                  \n",
      " lambda_3 (Lambda)              (None, 500)          0           ['flatten[2][0]',                \n",
      "                                                                  'flatten[3][0]',                \n",
      "                                                                  'backward_dense_4[1][2]',       \n",
      "                                                                  'backward_dense_4[1][3]']       \n",
      "                                                                                                  \n",
      " reshape (Reshape)              (None, 500)          0           ['lambda_2[1][0]',               \n",
      "                                                                  'lambda_3[1][0]']               \n",
      "                                                                                                  \n",
      " backward_dense_3 (BackwardDens  ((None, 500, 500),  250500      ['reshape[2][0]',                \n",
      " e)                              (None, 500),                     'reshape[3][0]']                \n",
      "                                 (None, 500, 500),                                                \n",
      "                                 (None, 500))                                                     \n",
      "                                                                                                  \n",
      " flatten_1 (Flatten)            (None, 784)          0           ['lambda_1[1][0]',               \n",
      "                                                                  'lambda[1][0]']                 \n",
      "                                                                                                  \n",
      " backward_dense_5 (BackwardDens  ((None, 784, 500),  392500      ['lambda[1][0]',                 \n",
      " e)                              (None, 500),                     'lambda_1[1][0]',               \n",
      "                                 (None, 784, 500),                'backward_dense_3[1][0]',       \n",
      "                                 (None, 500))                     'backward_dense_3[1][1]',       \n",
      "                                                                  'backward_dense_3[1][2]',       \n",
      "                                                                  'backward_dense_3[1][3]']       \n",
      "                                                                                                  \n",
      " lambda_4 (Lambda)              (None, 500)          0           ['flatten_1[2][0]',              \n",
      "                                                                  'flatten_1[3][0]',              \n",
      "                                                                  'backward_dense_5[1][0]',       \n",
      "                                                                  'backward_dense_5[1][1]']       \n",
      "                                                                                                  \n",
      " lambda_5 (Lambda)              (None, 500)          0           ['flatten_1[2][0]',              \n",
      "                                                                  'flatten_1[3][0]',              \n",
      "                                                                  'backward_dense_5[1][2]',       \n",
      "                                                                  'backward_dense_5[1][3]']       \n",
      "                                                                                                  \n",
      " reshape_1 (Reshape)            (None, 500)          0           ['lambda_4[1][0]',               \n",
      "                                                                  'lambda_5[1][0]']               \n",
      "                                                                                                  \n",
      " backward_dense_2 (BackwardDens  ((None, 500, 500),  250500      ['reshape_1[2][0]',              \n",
      " e)                              (None, 500),                     'reshape_1[3][0]']              \n",
      "                                 (None, 500, 500),                                                \n",
      "                                 (None, 500))                                                     \n",
      "                                                                                                  \n",
      " backward_dense_6 (BackwardDens  ((None, 500, 500),  250500      ['reshape[2][0]',                \n",
      " e)                              (None, 500),                     'reshape[3][0]',                \n",
      "                                 (None, 500, 500),                'backward_dense_2[1][0]',       \n",
      "                                 (None, 500))                     'backward_dense_2[1][1]',       \n",
      "                                                                  'backward_dense_2[1][2]',       \n",
      "                                                                  'backward_dense_2[1][3]']       \n",
      "                                                                                                  \n",
      " flatten_2 (Flatten)            (None, 784)          0           ['lambda_1[1][0]',               \n",
      "                                                                  'lambda[1][0]']                 \n",
      "                                                                                                  \n",
      " backward_dense_7 (BackwardDens  ((None, 784, 500),  392500      ['lambda[1][0]',                 \n",
      " e)                              (None, 500),                     'lambda_1[1][0]',               \n",
      "                                 (None, 784, 500),                'backward_dense_6[1][0]',       \n",
      "                                 (None, 500))                     'backward_dense_6[1][1]',       \n",
      "                                                                  'backward_dense_6[1][2]',       \n",
      "                                                                  'backward_dense_6[1][3]']       \n",
      "                                                                                                  \n",
      " lambda_6 (Lambda)              (None, 500)          0           ['flatten_2[2][0]',              \n",
      "                                                                  'flatten_2[3][0]',              \n",
      "                                                                  'backward_dense_7[1][0]',       \n"
     ]
    },
    {
     "name": "stdout",
     "output_type": "stream",
     "text": [
      "                                                                  'backward_dense_7[1][1]']       \n",
      "                                                                                                  \n",
      " lambda_7 (Lambda)              (None, 500)          0           ['flatten_2[2][0]',              \n",
      "                                                                  'flatten_2[3][0]',              \n",
      "                                                                  'backward_dense_7[1][2]',       \n",
      "                                                                  'backward_dense_7[1][3]']       \n",
      "                                                                                                  \n",
      " reshape_2 (Reshape)            (None, 500)          0           ['lambda_6[1][0]',               \n",
      "                                                                  'lambda_7[1][0]']               \n",
      "                                                                                                  \n",
      " backward_dense_1 (BackwardDens  ((None, 500, 500),  250500      ['reshape_2[2][0]',              \n",
      " e)                              (None, 500),                     'reshape_2[3][0]']              \n",
      "                                 (None, 500, 500),                                                \n",
      "                                 (None, 500))                                                     \n",
      "                                                                                                  \n",
      " backward_dense_8 (BackwardDens  ((None, 500, 500),  250500      ['reshape_1[2][0]',              \n",
      " e)                              (None, 500),                     'reshape_1[3][0]',              \n",
      "                                 (None, 500, 500),                'backward_dense_1[1][0]',       \n",
      "                                 (None, 500))                     'backward_dense_1[1][1]',       \n",
      "                                                                  'backward_dense_1[1][2]',       \n",
      "                                                                  'backward_dense_1[1][3]']       \n",
      "                                                                                                  \n",
      " backward_dense_9 (BackwardDens  ((None, 500, 500),  250500      ['reshape[2][0]',                \n",
      " e)                              (None, 500),                     'reshape[3][0]',                \n",
      "                                 (None, 500, 500),                'backward_dense_8[1][0]',       \n",
      "                                 (None, 500))                     'backward_dense_8[1][1]',       \n",
      "                                                                  'backward_dense_8[1][2]',       \n",
      "                                                                  'backward_dense_8[1][3]']       \n",
      "                                                                                                  \n",
      " flatten_3 (Flatten)            (None, 784)          0           ['lambda_1[1][0]',               \n",
      "                                                                  'lambda[1][0]']                 \n",
      "                                                                                                  \n",
      " backward_dense_10 (BackwardDen  ((None, 784, 500),  392500      ['lambda[1][0]',                 \n",
      " se)                             (None, 500),                     'lambda_1[1][0]',               \n",
      "                                 (None, 784, 500),                'backward_dense_9[1][0]',       \n",
      "                                 (None, 500))                     'backward_dense_9[1][1]',       \n",
      "                                                                  'backward_dense_9[1][2]',       \n",
      "                                                                  'backward_dense_9[1][3]']       \n",
      "                                                                                                  \n",
      " lambda_8 (Lambda)              (None, 500)          0           ['flatten_3[2][0]',              \n",
      "                                                                  'flatten_3[3][0]',              \n",
      "                                                                  'backward_dense_10[1][0]',      \n",
      "                                                                  'backward_dense_10[1][1]']      \n",
      "                                                                                                  \n",
      " lambda_9 (Lambda)              (None, 500)          0           ['flatten_3[2][0]',              \n",
      "                                                                  'flatten_3[3][0]',              \n",
      "                                                                  'backward_dense_10[1][2]',      \n",
      "                                                                  'backward_dense_10[1][3]']      \n",
      "                                                                                                  \n",
      " reshape_3 (Reshape)            (None, 500)          0           ['lambda_8[1][0]',               \n",
      "                                                                  'lambda_9[1][0]']               \n",
      "                                                                                                  \n",
      " backward_dense (BackwardDense)  ((None, 500, 10),   5010        ['reshape_3[2][0]',              \n",
      "                                 (None, 10),                      'reshape_3[3][0]']              \n",
      "                                 (None, 500, 10),                                                 \n",
      "                                 (None, 10))                                                      \n",
      "                                                                                                  \n",
      " backward_dense_11 (BackwardDen  ((None, 500, 10),   250500      ['reshape_2[2][0]',              \n",
      " se)                             (None, 10),                      'reshape_2[3][0]',              \n",
      "                                 (None, 500, 10),                 'backward_dense[1][0]',         \n",
      "                                 (None, 10))                      'backward_dense[1][1]',         \n",
      "                                                                  'backward_dense[1][2]',         \n",
      "                                                                  'backward_dense[1][3]']         \n",
      "                                                                                                  \n",
      " backward_dense_12 (BackwardDen  ((None, 500, 10),   250500      ['reshape_1[2][0]',              \n",
      " se)                             (None, 10),                      'reshape_1[3][0]',              \n",
      "                                 (None, 500, 10),                 'backward_dense_11[1][0]',      \n",
      "                                 (None, 10))                      'backward_dense_11[1][1]',      \n",
      "                                                                  'backward_dense_11[1][2]',      \n",
      "                                                                  'backward_dense_11[1][3]']      \n",
      "                                                                                                  \n",
      " backward_dense_13 (BackwardDen  ((None, 500, 10),   250500      ['reshape[2][0]',                \n",
      " se)                             (None, 10),                      'reshape[3][0]',                \n",
      "                                 (None, 500, 10),                 'backward_dense_12[1][0]',      \n",
      "                                 (None, 10))                      'backward_dense_12[1][1]',      \n",
      "                                                                  'backward_dense_12[1][2]',      \n",
      "                                                                  'backward_dense_12[1][3]']      \n",
      "                                                                                                  \n",
      " flatten_4 (Flatten)            (None, 784)          0           ['lambda_1[1][0]',               \n",
      "                                                                  'lambda[1][0]']                 \n",
      "                                                                                                  \n",
      " backward_dense_14 (BackwardDen  ((None, 784, 10),   392500      ['lambda[1][0]',                 \n",
      " se)                             (None, 10),                      'lambda_1[1][0]',               \n"
     ]
    },
    {
     "name": "stdout",
     "output_type": "stream",
     "text": [
      "                                 (None, 784, 10),                 'backward_dense_13[1][0]',      \n",
      "                                 (None, 10))                      'backward_dense_13[1][1]',      \n",
      "                                                                  'backward_dense_13[1][2]',      \n",
      "                                                                  'backward_dense_13[1][3]']      \n",
      "                                                                                                  \n",
      " lambda_10 (Lambda)             (None, 10)           0           ['flatten_4[2][0]',              \n",
      "                                                                  'flatten_4[3][0]',              \n",
      "                                                                  'backward_dense_14[1][0]',      \n",
      "                                                                  'backward_dense_14[1][1]']      \n",
      "                                                                                                  \n",
      " lambda_11 (Lambda)             (None, 10)           0           ['flatten_4[2][0]',              \n",
      "                                                                  'flatten_4[3][0]',              \n",
      "                                                                  'backward_dense_14[1][2]',      \n",
      "                                                                  'backward_dense_14[1][3]']      \n",
      "                                                                                                  \n",
      " reshape_4 (Reshape)            (None, 10)           0           ['lambda_11[1][0]',              \n",
      "                                                                  'lambda_10[1][0]']              \n",
      "                                                                                                  \n",
      "==================================================================================================\n",
      "Total params: 1,149,010\n",
      "Trainable params: 1,149,010\n",
      "Non-trainable params: 0\n",
      "__________________________________________________________________________________________________\n"
     ]
    }
   ],
   "source": [
    "toto = build_graph(decomon_crown).summary()"
   ]
  },
  {
   "cell_type": "code",
   "execution_count": 18,
   "id": "dfc996f4",
   "metadata": {},
   "outputs": [
    {
     "ename": "NameError",
     "evalue": "name 'tf' is not defined",
     "output_type": "error",
     "traceback": [
      "\u001b[0;31m---------------------------------------------------------------------------\u001b[0m",
      "\u001b[0;31mNameError\u001b[0m                                 Traceback (most recent call last)",
      "\u001b[0;32m/var/folders/mv/rks11p6n68n4p1fqvdm9z5_w0000gn/T/ipykernel_4708/4196102349.py\u001b[0m in \u001b[0;36m<module>\u001b[0;34m\u001b[0m\n\u001b[0;32m----> 1\u001b[0;31m tf.keras.utils.plot_model(build_graph(decomon_crown), to_file=\"crown.png\",\n\u001b[0m\u001b[1;32m      2\u001b[0m            expand_nested=True, show_shapes=True)\n",
      "\u001b[0;31mNameError\u001b[0m: name 'tf' is not defined"
     ]
    }
   ],
   "source": [
    "tf.keras.utils.plot_model(build_graph(decomon_crown), to_file=\"crown.png\", expand_nested=True, show_shapes=True)"
   ]
  },
  {
   "cell_type": "code",
   "execution_count": 13,
   "id": "c147908c",
   "metadata": {},
   "outputs": [],
   "source": [
    "from decomon import get_lower_box, get_upper_box"
   ]
  },
  {
   "cell_type": "code",
   "execution_count": 10,
   "id": "a2ba8c34",
   "metadata": {},
   "outputs": [
    {
     "name": "stdout",
     "output_type": "stream",
     "text": [
      "Model: \"decomon_model\"\n",
      "__________________________________________________________________________________________________\n",
      " Layer (type)                   Output Shape         Param #     Connected to                     \n",
      "==================================================================================================\n",
      " input_1 (InputLayer)           [(None, 2, 784)]     0           []                               \n",
      "                                                                                                  \n",
      " lambda_1 (Lambda)              (None, 784)          0           ['input_1[0][0]']                \n",
      "                                                                                                  \n",
      " lambda (Lambda)                (None, 784)          0           ['input_1[0][0]']                \n",
      "                                                                                                  \n",
      " flatten (Flatten)              (None, 784)          0           ['lambda[0][0]',                 \n",
      "                                                                  'lambda_1[0][0]']               \n",
      "                                                                                                  \n",
      " backward_dense_4 (BackwardDens  ((None, 784, 500),  392500      ['lambda[0][0]',                 \n",
      " e)                              (None, 500),                     'lambda_1[0][0]']               \n",
      "                                 (None, 784, 500),                                                \n",
      "                                 (None, 500))                                                     \n",
      "                                                                                                  \n",
      " lambda_2 (Lambda)              (None, 500)          0           ['flatten[1][0]',                \n",
      "                                                                  'flatten[0][0]',                \n",
      "                                                                  'backward_dense_4[0][0]',       \n",
      "                                                                  'backward_dense_4[0][1]']       \n",
      "                                                                                                  \n",
      " lambda_3 (Lambda)              (None, 500)          0           ['flatten[1][0]',                \n",
      "                                                                  'flatten[0][0]',                \n",
      "                                                                  'backward_dense_4[0][2]',       \n",
      "                                                                  'backward_dense_4[0][3]']       \n",
      "                                                                                                  \n",
      " reshape (Reshape)              (None, 500)          0           ['lambda_2[0][0]',               \n",
      "                                                                  'lambda_3[0][0]']               \n",
      "                                                                                                  \n",
      " backward_dense_3 (BackwardDens  ((None, 500, 500),  250500      ['reshape[0][0]',                \n",
      " e)                              (None, 500),                     'reshape[1][0]']                \n",
      "                                 (None, 500, 500),                                                \n",
      "                                 (None, 500))                                                     \n",
      "                                                                                                  \n",
      " flatten_1 (Flatten)            (None, 784)          0           ['lambda[0][0]',                 \n",
      "                                                                  'lambda_1[0][0]']               \n",
      "                                                                                                  \n",
      " backward_dense_5 (BackwardDens  ((None, 784, 500),  392500      ['lambda[0][0]',                 \n",
      " e)                              (None, 500),                     'lambda_1[0][0]',               \n",
      "                                 (None, 784, 500),                'backward_dense_3[0][0]',       \n",
      "                                 (None, 500))                     'backward_dense_3[0][1]',       \n",
      "                                                                  'backward_dense_3[0][2]',       \n",
      "                                                                  'backward_dense_3[0][3]']       \n",
      "                                                                                                  \n",
      " lambda_4 (Lambda)              (None, 500)          0           ['flatten_1[1][0]',              \n",
      "                                                                  'flatten_1[0][0]',              \n",
      "                                                                  'backward_dense_5[0][0]',       \n",
      "                                                                  'backward_dense_5[0][1]']       \n",
      "                                                                                                  \n",
      " lambda_5 (Lambda)              (None, 500)          0           ['flatten_1[1][0]',              \n",
      "                                                                  'flatten_1[0][0]',              \n",
      "                                                                  'backward_dense_5[0][2]',       \n",
      "                                                                  'backward_dense_5[0][3]']       \n",
      "                                                                                                  \n",
      " reshape_2 (Reshape)            (None, 500)          0           ['lambda_4[0][0]',               \n",
      "                                                                  'lambda_5[0][0]']               \n",
      "                                                                                                  \n",
      " backward_dense_2 (BackwardDens  ((None, 500, 500),  250500      ['reshape_2[0][0]',              \n",
      " e)                              (None, 500),                     'reshape_2[1][0]']              \n",
      "                                 (None, 500, 500),                                                \n",
      "                                 (None, 500))                                                     \n",
      "                                                                                                  \n",
      " backward_dense_6 (BackwardDens  ((None, 500, 500),  250500      ['reshape[0][0]',                \n",
      " e)                              (None, 500),                     'reshape[1][0]',                \n",
      "                                 (None, 500, 500),                'backward_dense_2[0][0]',       \n",
      "                                 (None, 500))                     'backward_dense_2[0][1]',       \n",
      "                                                                  'backward_dense_2[0][2]',       \n",
      "                                                                  'backward_dense_2[0][3]']       \n",
      "                                                                                                  \n",
      " flatten_2 (Flatten)            (None, 784)          0           ['lambda[0][0]',                 \n",
      "                                                                  'lambda_1[0][0]']               \n",
      "                                                                                                  \n",
      " backward_dense_7 (BackwardDens  ((None, 784, 500),  392500      ['lambda[0][0]',                 \n",
      " e)                              (None, 500),                     'lambda_1[0][0]',               \n",
      "                                 (None, 784, 500),                'backward_dense_6[0][0]',       \n",
      "                                 (None, 500))                     'backward_dense_6[0][1]',       \n",
      "                                                                  'backward_dense_6[0][2]',       \n",
      "                                                                  'backward_dense_6[0][3]']       \n",
      "                                                                                                  \n",
      " lambda_6 (Lambda)              (None, 500)          0           ['flatten_2[1][0]',              \n",
      "                                                                  'flatten_2[0][0]',              \n",
      "                                                                  'backward_dense_7[0][0]',       \n"
     ]
    },
    {
     "name": "stdout",
     "output_type": "stream",
     "text": [
      "                                                                  'backward_dense_7[0][1]']       \n",
      "                                                                                                  \n",
      " lambda_7 (Lambda)              (None, 500)          0           ['flatten_2[1][0]',              \n",
      "                                                                  'flatten_2[0][0]',              \n",
      "                                                                  'backward_dense_7[0][2]',       \n",
      "                                                                  'backward_dense_7[0][3]']       \n",
      "                                                                                                  \n",
      " reshape_4 (Reshape)            (None, 500)          0           ['lambda_6[0][0]',               \n",
      "                                                                  'lambda_7[0][0]']               \n",
      "                                                                                                  \n",
      " backward_dense_1 (BackwardDens  ((None, 500, 500),  250500      ['reshape_4[0][0]',              \n",
      " e)                              (None, 500),                     'reshape_4[1][0]']              \n",
      "                                 (None, 500, 500),                                                \n",
      "                                 (None, 500))                                                     \n",
      "                                                                                                  \n",
      " backward_dense_8 (BackwardDens  ((None, 500, 500),  250500      ['reshape_2[0][0]',              \n",
      " e)                              (None, 500),                     'reshape_2[1][0]',              \n",
      "                                 (None, 500, 500),                'backward_dense_1[0][0]',       \n",
      "                                 (None, 500))                     'backward_dense_1[0][1]',       \n",
      "                                                                  'backward_dense_1[0][2]',       \n",
      "                                                                  'backward_dense_1[0][3]']       \n",
      "                                                                                                  \n",
      " backward_dense_9 (BackwardDens  ((None, 500, 500),  250500      ['reshape[0][0]',                \n",
      " e)                              (None, 500),                     'reshape[1][0]',                \n",
      "                                 (None, 500, 500),                'backward_dense_8[0][0]',       \n",
      "                                 (None, 500))                     'backward_dense_8[0][1]',       \n",
      "                                                                  'backward_dense_8[0][2]',       \n",
      "                                                                  'backward_dense_8[0][3]']       \n",
      "                                                                                                  \n",
      " flatten_3 (Flatten)            (None, 784)          0           ['lambda[0][0]',                 \n",
      "                                                                  'lambda_1[0][0]']               \n",
      "                                                                                                  \n",
      " backward_dense_10 (BackwardDen  ((None, 784, 500),  392500      ['lambda[0][0]',                 \n",
      " se)                             (None, 500),                     'lambda_1[0][0]',               \n",
      "                                 (None, 784, 500),                'backward_dense_9[0][0]',       \n",
      "                                 (None, 500))                     'backward_dense_9[0][1]',       \n",
      "                                                                  'backward_dense_9[0][2]',       \n",
      "                                                                  'backward_dense_9[0][3]']       \n",
      "                                                                                                  \n",
      " lambda_8 (Lambda)              (None, 500)          0           ['flatten_3[1][0]',              \n",
      "                                                                  'flatten_3[0][0]',              \n",
      "                                                                  'backward_dense_10[0][0]',      \n",
      "                                                                  'backward_dense_10[0][1]']      \n",
      "                                                                                                  \n",
      " lambda_9 (Lambda)              (None, 500)          0           ['flatten_3[1][0]',              \n",
      "                                                                  'flatten_3[0][0]',              \n",
      "                                                                  'backward_dense_10[0][2]',      \n",
      "                                                                  'backward_dense_10[0][3]']      \n",
      "                                                                                                  \n",
      " reshape_6 (Reshape)            (None, 500)          0           ['lambda_8[0][0]',               \n",
      "                                                                  'lambda_9[0][0]']               \n",
      "                                                                                                  \n",
      " backward_dense (BackwardDense)  ((None, 500, 10),   5010        ['reshape_6[0][0]',              \n",
      "                                 (None, 10),                      'reshape_6[1][0]']              \n",
      "                                 (None, 500, 10),                                                 \n",
      "                                 (None, 10))                                                      \n",
      "                                                                                                  \n",
      " backward_dense_11 (BackwardDen  ((None, 500, 10),   250500      ['reshape_4[0][0]',              \n",
      " se)                             (None, 10),                      'reshape_4[1][0]',              \n",
      "                                 (None, 500, 10),                 'backward_dense[0][0]',         \n",
      "                                 (None, 10))                      'backward_dense[0][1]',         \n",
      "                                                                  'backward_dense[0][2]',         \n",
      "                                                                  'backward_dense[0][3]']         \n",
      "                                                                                                  \n",
      " backward_dense_12 (BackwardDen  ((None, 500, 10),   250500      ['reshape_2[0][0]',              \n",
      " se)                             (None, 10),                      'reshape_2[1][0]',              \n",
      "                                 (None, 500, 10),                 'backward_dense_11[0][0]',      \n",
      "                                 (None, 10))                      'backward_dense_11[0][1]',      \n",
      "                                                                  'backward_dense_11[0][2]',      \n",
      "                                                                  'backward_dense_11[0][3]']      \n",
      "                                                                                                  \n",
      " backward_dense_13 (BackwardDen  ((None, 500, 10),   250500      ['reshape[0][0]',                \n",
      " se)                             (None, 10),                      'reshape[1][0]',                \n",
      "                                 (None, 500, 10),                 'backward_dense_12[0][0]',      \n",
      "                                 (None, 10))                      'backward_dense_12[0][1]',      \n",
      "                                                                  'backward_dense_12[0][2]',      \n",
      "                                                                  'backward_dense_12[0][3]']      \n",
      "                                                                                                  \n",
      " flatten_4 (Flatten)            (None, 784)          0           ['lambda[0][0]',                 \n",
      "                                                                  'lambda_1[0][0]']               \n",
      "                                                                                                  \n",
      " backward_dense_14 (BackwardDen  ((None, 784, 10),   392500      ['lambda[0][0]',                 \n",
      " se)                             (None, 10),                      'lambda_1[0][0]',               \n"
     ]
    },
    {
     "name": "stdout",
     "output_type": "stream",
     "text": [
      "                                 (None, 784, 10),                 'backward_dense_13[0][0]',      \n",
      "                                 (None, 10))                      'backward_dense_13[0][1]',      \n",
      "                                                                  'backward_dense_13[0][2]',      \n",
      "                                                                  'backward_dense_13[0][3]']      \n",
      "                                                                                                  \n",
      " lambda_10 (Lambda)             (None, 10)           0           ['flatten_4[1][0]',              \n",
      "                                                                  'flatten_4[0][0]',              \n",
      "                                                                  'backward_dense_14[0][0]',      \n",
      "                                                                  'backward_dense_14[0][1]']      \n",
      "                                                                                                  \n",
      " lambda_11 (Lambda)             (None, 10)           0           ['flatten_4[1][0]',              \n",
      "                                                                  'flatten_4[0][0]',              \n",
      "                                                                  'backward_dense_14[0][2]',      \n",
      "                                                                  'backward_dense_14[0][3]']      \n",
      "                                                                                                  \n",
      " reshape_8 (Reshape)            (None, 10)           0           ['lambda_10[0][0]',              \n",
      "                                                                  'lambda_11[0][0]']              \n",
      "                                                                                                  \n",
      "==================================================================================================\n",
      "Total params: 1,149,010\n",
      "Trainable params: 1,149,010\n",
      "Non-trainable params: 0\n",
      "__________________________________________________________________________________________________\n"
     ]
    }
   ],
   "source": [
    "decomon_crown.summary()"
   ]
  },
  {
   "cell_type": "code",
   "execution_count": 13,
   "id": "ebd3c9fb",
   "metadata": {},
   "outputs": [
    {
     "data": {
      "text/plain": [
       "'crown'"
      ]
     },
     "execution_count": 13,
     "metadata": {},
     "output_type": "execute_result"
    }
   ],
   "source": [
    "decomon_crown.method"
   ]
  },
  {
   "cell_type": "code",
   "execution_count": 18,
   "id": "c8829bcd",
   "metadata": {},
   "outputs": [],
   "source": [
    "f_ibp = get_upper_box(decomon_nnet, B_train[:100, 0], B_train[:100, 1], batch_size=10)"
   ]
  },
  {
   "cell_type": "code",
   "execution_count": 19,
   "id": "77bd92e0",
   "metadata": {},
   "outputs": [],
   "source": [
    "g_ibp = get_lower_box(decomon_nnet, B_train[:100, 0], B_train[:100, 1], batch_size=10)"
   ]
  },
  {
   "cell_type": "code",
   "execution_count": null,
   "id": "f1a736e2",
   "metadata": {},
   "outputs": [],
   "source": [
    "f_crown = get_upper_box(decomon_crown, B_train[:100, 0], B_train[:100, 1], batch_size=10)\n",
    "g_crown = get_lower_box(decomon_crown, B_train[:100, 0], B_train[:100, 1], batch_size=10)"
   ]
  },
  {
   "cell_type": "code",
   "execution_count": null,
   "id": "d6ed4add",
   "metadata": {},
   "outputs": [],
   "source": []
  },
  {
   "cell_type": "code",
   "execution_count": null,
   "id": "0b1e5abe",
   "metadata": {},
   "outputs": [],
   "source": [
    "import time\n",
    "start_time = time.process_time()\n",
    "y_ibp = "
   ]
  },
  {
   "cell_type": "code",
   "execution_count": 13,
   "id": "1e6cfe1b",
   "metadata": {},
   "outputs": [],
   "source": [
    "# convert to training"
   ]
  },
  {
   "cell_type": "code",
   "execution_count": 14,
   "id": "2780a2ff",
   "metadata": {},
   "outputs": [],
   "source": [
    "from decomon.metrics import build_crossentropy_model"
   ]
  },
  {
   "cell_type": "code",
   "execution_count": 15,
   "id": "b40327c7",
   "metadata": {},
   "outputs": [],
   "source": [
    "decomon_training = build_crossentropy_model(decomon_nnet)"
   ]
  },
  {
   "cell_type": "code",
   "execution_count": 16,
   "id": "b211f2d3",
   "metadata": {},
   "outputs": [],
   "source": [
    "decomon_evaluate = build_crossentropy_model(decomon_crown)"
   ]
  },
  {
   "cell_type": "code",
   "execution_count": 15,
   "id": "555e4dee",
   "metadata": {},
   "outputs": [],
   "source": [
    "eps = 0.015\n",
    "X_train = x_train\n",
    "X_train_min = X_train - eps\n",
    "X_train_max = X_train + eps\n",
    "Y_train = y_train\n",
    "B_train = np.concatenate([X_train_min[:, None], X_train_max[:, None]], 1)"
   ]
  },
  {
   "cell_type": "code",
   "execution_count": 19,
   "id": "f8f96d2a",
   "metadata": {},
   "outputs": [],
   "source": [
    "output_ibp = decomon_training.predict(B_train[:100])"
   ]
  },
  {
   "cell_type": "code",
   "execution_count": null,
   "id": "acaf1a95",
   "metadata": {},
   "outputs": [],
   "source": [
    "output_crown = decomon_evaluate.predict(B_train[:100], batch_size=10)"
   ]
  },
  {
   "cell_type": "code",
   "execution_count": 24,
   "id": "8a89e788",
   "metadata": {},
   "outputs": [],
   "source": [
    "y_ibp = np.sum((output_ibp * Y_train[:100]), -1)"
   ]
  },
  {
   "cell_type": "code",
   "execution_count": 25,
   "id": "235ba1d3",
   "metadata": {},
   "outputs": [],
   "source": [
    "y_crown = np.sum((output_crown * Y_train[:100]), -1)"
   ]
  },
  {
   "cell_type": "code",
   "execution_count": 28,
   "id": "e3819d6c",
   "metadata": {},
   "outputs": [
    {
     "data": {
      "text/plain": [
       "True"
      ]
     },
     "execution_count": 28,
     "metadata": {},
     "output_type": "execute_result"
    }
   ],
   "source": [
    "np.allclose(output_ibp, output_crown)"
   ]
  },
  {
   "cell_type": "code",
   "execution_count": 27,
   "id": "deb02576",
   "metadata": {},
   "outputs": [
    {
     "data": {
      "text/plain": [
       "<matplotlib.collections.PathCollection at 0x7ff69877c450>"
      ]
     },
     "execution_count": 27,
     "metadata": {},
     "output_type": "execute_result"
    },
    {
     "data": {
      "image/png": "[encoded data removed]",
      "text/plain": [
       "<Figure size 432x288 with 1 Axes>"
      ]
     },
     "metadata": {
      "needs_background": "light"
     },
     "output_type": "display_data"
    }
   ],
   "source": [
    "plt.scatter(y_crown, y_ibp)"
   ]
  },
  {
   "cell_type": "code",
   "execution_count": null,
   "id": "e6b5edca",
   "metadata": {},
   "outputs": [],
   "source": [
    "decomon_training.compile(\"adam\", loss, metrics=[\"acc\"])"
   ]
  },
  {
   "cell_type": "code",
   "execution_count": 13,
   "id": "fc9ffc03",
   "metadata": {},
   "outputs": [],
   "source": [
    "def loss(y_true, y_pred):\n",
    "    return K.mean(y_true * y_pred)"
   ]
  },
  {
   "cell_type": "code",
   "execution_count": 14,
   "id": "2d7e0787",
   "metadata": {},
   "outputs": [],
   "source": [
    "decomon_training.compile(\"adam\", loss, metrics=[\"acc\"])"
   ]
  },
  {
   "cell_type": "code",
   "execution_count": null,
   "id": "78b5d83e",
   "metadata": {},
   "outputs": [],
   "source": []
  },
  {
   "cell_type": "code",
   "execution_count": 16,
   "id": "1e3850ff",
   "metadata": {},
   "outputs": [
    {
     "name": "stdout",
     "output_type": "stream",
     "text": [
      "373/480 [======================>.......] - ETA: 4:26 - loss: 0.1092 - acc: 7.2386e-04"
     ]
    },
    {
     "ename": "KeyboardInterrupt",
     "evalue": "",
     "output_type": "error",
     "traceback": [
      "\u001b[0;31m---------------------------------------------------------------------------\u001b[0m",
      "\u001b[0;31mKeyboardInterrupt\u001b[0m                         Traceback (most recent call last)",
      "\u001b[0;32m/var/folders/mv/rks11p6n68n4p1fqvdm9z5_w0000gn/T/ipykernel_15683/2635161731.py\u001b[0m in \u001b[0;36m<module>\u001b[0;34m\u001b[0m\n\u001b[1;32m      1\u001b[0m decomon_training.fit(B_train, Y_train, validation_split=0.2,\n\u001b[0;32m----> 2\u001b[0;31m                     batch_size=100, epochs=1)\n\u001b[0m",
      "\u001b[0;32m~/miniconda3/envs/formal/lib/python3.7/site-packages/keras/utils/traceback_utils.py\u001b[0m in \u001b[0;36merror_handler\u001b[0;34m(*args, **kwargs)\u001b[0m\n\u001b[1;32m     62\u001b[0m     \u001b[0mfiltered_tb\u001b[0m \u001b[0;34m=\u001b[0m \u001b[0;32mNone\u001b[0m\u001b[0;34m\u001b[0m\u001b[0;34m\u001b[0m\u001b[0m\n\u001b[1;32m     63\u001b[0m     \u001b[0;32mtry\u001b[0m\u001b[0;34m:\u001b[0m\u001b[0;34m\u001b[0m\u001b[0;34m\u001b[0m\u001b[0m\n\u001b[0;32m---> 64\u001b[0;31m       \u001b[0;32mreturn\u001b[0m \u001b[0mfn\u001b[0m\u001b[0;34m(\u001b[0m\u001b[0;34m*\u001b[0m\u001b[0margs\u001b[0m\u001b[0;34m,\u001b[0m \u001b[0;34m**\u001b[0m\u001b[0mkwargs\u001b[0m\u001b[0;34m)\u001b[0m\u001b[0;34m\u001b[0m\u001b[0;34m\u001b[0m\u001b[0m\n\u001b[0m\u001b[1;32m     65\u001b[0m     \u001b[0;32mexcept\u001b[0m \u001b[0mException\u001b[0m \u001b[0;32mas\u001b[0m \u001b[0me\u001b[0m\u001b[0;34m:\u001b[0m  \u001b[0;31m# pylint: disable=broad-except\u001b[0m\u001b[0;34m\u001b[0m\u001b[0;34m\u001b[0m\u001b[0m\n\u001b[1;32m     66\u001b[0m       \u001b[0mfiltered_tb\u001b[0m \u001b[0;34m=\u001b[0m \u001b[0m_process_traceback_frames\u001b[0m\u001b[0;34m(\u001b[0m\u001b[0me\u001b[0m\u001b[0;34m.\u001b[0m\u001b[0m__traceback__\u001b[0m\u001b[0;34m)\u001b[0m\u001b[0;34m\u001b[0m\u001b[0;34m\u001b[0m\u001b[0m\n",
      "\u001b[0;32m~/miniconda3/envs/formal/lib/python3.7/site-packages/keras/engine/training.py\u001b[0m in \u001b[0;36mfit\u001b[0;34m(self, x, y, batch_size, epochs, verbose, callbacks, validation_split, validation_data, shuffle, class_weight, sample_weight, initial_epoch, steps_per_epoch, validation_steps, validation_batch_size, validation_freq, max_queue_size, workers, use_multiprocessing)\u001b[0m\n\u001b[1;32m   1382\u001b[0m                 _r=1):\n\u001b[1;32m   1383\u001b[0m               \u001b[0mcallbacks\u001b[0m\u001b[0;34m.\u001b[0m\u001b[0mon_train_batch_begin\u001b[0m\u001b[0;34m(\u001b[0m\u001b[0mstep\u001b[0m\u001b[0;34m)\u001b[0m\u001b[0;34m\u001b[0m\u001b[0;34m\u001b[0m\u001b[0m\n\u001b[0;32m-> 1384\u001b[0;31m               \u001b[0mtmp_logs\u001b[0m \u001b[0;34m=\u001b[0m \u001b[0mself\u001b[0m\u001b[0;34m.\u001b[0m\u001b[0mtrain_function\u001b[0m\u001b[0;34m(\u001b[0m\u001b[0miterator\u001b[0m\u001b[0;34m)\u001b[0m\u001b[0;34m\u001b[0m\u001b[0;34m\u001b[0m\u001b[0m\n\u001b[0m\u001b[1;32m   1385\u001b[0m               \u001b[0;32mif\u001b[0m \u001b[0mdata_handler\u001b[0m\u001b[0;34m.\u001b[0m\u001b[0mshould_sync\u001b[0m\u001b[0;34m:\u001b[0m\u001b[0;34m\u001b[0m\u001b[0;34m\u001b[0m\u001b[0m\n\u001b[1;32m   1386\u001b[0m                 \u001b[0mcontext\u001b[0m\u001b[0;34m.\u001b[0m\u001b[0masync_wait\u001b[0m\u001b[0;34m(\u001b[0m\u001b[0;34m)\u001b[0m\u001b[0;34m\u001b[0m\u001b[0;34m\u001b[0m\u001b[0m\n",
      "\u001b[0;32m~/miniconda3/envs/formal/lib/python3.7/site-packages/tensorflow/python/util/traceback_utils.py\u001b[0m in \u001b[0;36merror_handler\u001b[0;34m(*args, **kwargs)\u001b[0m\n\u001b[1;32m    148\u001b[0m     \u001b[0mfiltered_tb\u001b[0m \u001b[0;34m=\u001b[0m \u001b[0;32mNone\u001b[0m\u001b[0;34m\u001b[0m\u001b[0;34m\u001b[0m\u001b[0m\n\u001b[1;32m    149\u001b[0m     \u001b[0;32mtry\u001b[0m\u001b[0;34m:\u001b[0m\u001b[0;34m\u001b[0m\u001b[0;34m\u001b[0m\u001b[0m\n\u001b[0;32m--> 150\u001b[0;31m       \u001b[0;32mreturn\u001b[0m \u001b[0mfn\u001b[0m\u001b[0;34m(\u001b[0m\u001b[0;34m*\u001b[0m\u001b[0margs\u001b[0m\u001b[0;34m,\u001b[0m \u001b[0;34m**\u001b[0m\u001b[0mkwargs\u001b[0m\u001b[0;34m)\u001b[0m\u001b[0;34m\u001b[0m\u001b[0;34m\u001b[0m\u001b[0m\n\u001b[0m\u001b[1;32m    151\u001b[0m     \u001b[0;32mexcept\u001b[0m \u001b[0mException\u001b[0m \u001b[0;32mas\u001b[0m \u001b[0me\u001b[0m\u001b[0;34m:\u001b[0m\u001b[0;34m\u001b[0m\u001b[0;34m\u001b[0m\u001b[0m\n\u001b[1;32m    152\u001b[0m       \u001b[0mfiltered_tb\u001b[0m \u001b[0;34m=\u001b[0m \u001b[0m_process_traceback_frames\u001b[0m\u001b[0;34m(\u001b[0m\u001b[0me\u001b[0m\u001b[0;34m.\u001b[0m\u001b[0m__traceback__\u001b[0m\u001b[0;34m)\u001b[0m\u001b[0;34m\u001b[0m\u001b[0;34m\u001b[0m\u001b[0m\n",
      "\u001b[0;32m~/miniconda3/envs/formal/lib/python3.7/site-packages/tensorflow/python/eager/def_function.py\u001b[0m in \u001b[0;36m__call__\u001b[0;34m(self, *args, **kwds)\u001b[0m\n\u001b[1;32m    913\u001b[0m \u001b[0;34m\u001b[0m\u001b[0m\n\u001b[1;32m    914\u001b[0m       \u001b[0;32mwith\u001b[0m \u001b[0mOptionalXlaContext\u001b[0m\u001b[0;34m(\u001b[0m\u001b[0mself\u001b[0m\u001b[0;34m.\u001b[0m\u001b[0m_jit_compile\u001b[0m\u001b[0;34m)\u001b[0m\u001b[0;34m:\u001b[0m\u001b[0;34m\u001b[0m\u001b[0;34m\u001b[0m\u001b[0m\n\u001b[0;32m--> 915\u001b[0;31m         \u001b[0mresult\u001b[0m \u001b[0;34m=\u001b[0m \u001b[0mself\u001b[0m\u001b[0;34m.\u001b[0m\u001b[0m_call\u001b[0m\u001b[0;34m(\u001b[0m\u001b[0;34m*\u001b[0m\u001b[0margs\u001b[0m\u001b[0;34m,\u001b[0m \u001b[0;34m**\u001b[0m\u001b[0mkwds\u001b[0m\u001b[0;34m)\u001b[0m\u001b[0;34m\u001b[0m\u001b[0;34m\u001b[0m\u001b[0m\n\u001b[0m\u001b[1;32m    916\u001b[0m \u001b[0;34m\u001b[0m\u001b[0m\n\u001b[1;32m    917\u001b[0m       \u001b[0mnew_tracing_count\u001b[0m \u001b[0;34m=\u001b[0m \u001b[0mself\u001b[0m\u001b[0;34m.\u001b[0m\u001b[0mexperimental_get_tracing_count\u001b[0m\u001b[0;34m(\u001b[0m\u001b[0;34m)\u001b[0m\u001b[0;34m\u001b[0m\u001b[0;34m\u001b[0m\u001b[0m\n",
      "\u001b[0;32m~/miniconda3/envs/formal/lib/python3.7/site-packages/tensorflow/python/eager/def_function.py\u001b[0m in \u001b[0;36m_call\u001b[0;34m(self, *args, **kwds)\u001b[0m\n\u001b[1;32m    945\u001b[0m       \u001b[0;31m# In this case we have created variables on the first call, so we run the\u001b[0m\u001b[0;34m\u001b[0m\u001b[0;34m\u001b[0m\u001b[0;34m\u001b[0m\u001b[0m\n\u001b[1;32m    946\u001b[0m       \u001b[0;31m# defunned version which is guaranteed to never create variables.\u001b[0m\u001b[0;34m\u001b[0m\u001b[0;34m\u001b[0m\u001b[0;34m\u001b[0m\u001b[0m\n\u001b[0;32m--> 947\u001b[0;31m       \u001b[0;32mreturn\u001b[0m \u001b[0mself\u001b[0m\u001b[0;34m.\u001b[0m\u001b[0m_stateless_fn\u001b[0m\u001b[0;34m(\u001b[0m\u001b[0;34m*\u001b[0m\u001b[0margs\u001b[0m\u001b[0;34m,\u001b[0m \u001b[0;34m**\u001b[0m\u001b[0mkwds\u001b[0m\u001b[0;34m)\u001b[0m  \u001b[0;31m# pylint: disable=not-callable\u001b[0m\u001b[0;34m\u001b[0m\u001b[0;34m\u001b[0m\u001b[0m\n\u001b[0m\u001b[1;32m    948\u001b[0m     \u001b[0;32melif\u001b[0m \u001b[0mself\u001b[0m\u001b[0;34m.\u001b[0m\u001b[0m_stateful_fn\u001b[0m \u001b[0;32mis\u001b[0m \u001b[0;32mnot\u001b[0m \u001b[0;32mNone\u001b[0m\u001b[0;34m:\u001b[0m\u001b[0;34m\u001b[0m\u001b[0;34m\u001b[0m\u001b[0m\n\u001b[1;32m    949\u001b[0m       \u001b[0;31m# Release the lock early so that multiple threads can perform the call\u001b[0m\u001b[0;34m\u001b[0m\u001b[0;34m\u001b[0m\u001b[0;34m\u001b[0m\u001b[0m\n",
      "\u001b[0;32m~/miniconda3/envs/formal/lib/python3.7/site-packages/tensorflow/python/eager/function.py\u001b[0m in \u001b[0;36m__call__\u001b[0;34m(self, *args, **kwargs)\u001b[0m\n\u001b[1;32m   2955\u001b[0m        filtered_flat_args) = self._maybe_define_function(args, kwargs)\n\u001b[1;32m   2956\u001b[0m     return graph_function._call_flat(\n\u001b[0;32m-> 2957\u001b[0;31m         filtered_flat_args, captured_inputs=graph_function.captured_inputs)  # pylint: disable=protected-access\n\u001b[0m\u001b[1;32m   2958\u001b[0m \u001b[0;34m\u001b[0m\u001b[0m\n\u001b[1;32m   2959\u001b[0m   \u001b[0;34m@\u001b[0m\u001b[0mproperty\u001b[0m\u001b[0;34m\u001b[0m\u001b[0;34m\u001b[0m\u001b[0m\n",
      "\u001b[0;32m~/miniconda3/envs/formal/lib/python3.7/site-packages/tensorflow/python/eager/function.py\u001b[0m in \u001b[0;36m_call_flat\u001b[0;34m(self, args, captured_inputs, cancellation_manager)\u001b[0m\n\u001b[1;32m   1852\u001b[0m       \u001b[0;31m# No tape is watching; skip to running the function.\u001b[0m\u001b[0;34m\u001b[0m\u001b[0;34m\u001b[0m\u001b[0;34m\u001b[0m\u001b[0m\n\u001b[1;32m   1853\u001b[0m       return self._build_call_outputs(self._inference_function.call(\n\u001b[0;32m-> 1854\u001b[0;31m           ctx, args, cancellation_manager=cancellation_manager))\n\u001b[0m\u001b[1;32m   1855\u001b[0m     forward_backward = self._select_forward_and_backward_functions(\n\u001b[1;32m   1856\u001b[0m         \u001b[0margs\u001b[0m\u001b[0;34m,\u001b[0m\u001b[0;34m\u001b[0m\u001b[0;34m\u001b[0m\u001b[0m\n",
      "\u001b[0;32m~/miniconda3/envs/formal/lib/python3.7/site-packages/tensorflow/python/eager/function.py\u001b[0m in \u001b[0;36mcall\u001b[0;34m(self, ctx, args, cancellation_manager)\u001b[0m\n\u001b[1;32m    502\u001b[0m               \u001b[0minputs\u001b[0m\u001b[0;34m=\u001b[0m\u001b[0margs\u001b[0m\u001b[0;34m,\u001b[0m\u001b[0;34m\u001b[0m\u001b[0;34m\u001b[0m\u001b[0m\n\u001b[1;32m    503\u001b[0m               \u001b[0mattrs\u001b[0m\u001b[0;34m=\u001b[0m\u001b[0mattrs\u001b[0m\u001b[0;34m,\u001b[0m\u001b[0;34m\u001b[0m\u001b[0;34m\u001b[0m\u001b[0m\n\u001b[0;32m--> 504\u001b[0;31m               ctx=ctx)\n\u001b[0m\u001b[1;32m    505\u001b[0m         \u001b[0;32melse\u001b[0m\u001b[0;34m:\u001b[0m\u001b[0;34m\u001b[0m\u001b[0;34m\u001b[0m\u001b[0m\n\u001b[1;32m    506\u001b[0m           outputs = execute.execute_with_cancellation(\n",
      "\u001b[0;32m~/miniconda3/envs/formal/lib/python3.7/site-packages/tensorflow/python/eager/execute.py\u001b[0m in \u001b[0;36mquick_execute\u001b[0;34m(op_name, num_outputs, inputs, attrs, ctx, name)\u001b[0m\n\u001b[1;32m     53\u001b[0m     \u001b[0mctx\u001b[0m\u001b[0;34m.\u001b[0m\u001b[0mensure_initialized\u001b[0m\u001b[0;34m(\u001b[0m\u001b[0;34m)\u001b[0m\u001b[0;34m\u001b[0m\u001b[0;34m\u001b[0m\u001b[0m\n\u001b[1;32m     54\u001b[0m     tensors = pywrap_tfe.TFE_Py_Execute(ctx._handle, device_name, op_name,\n\u001b[0;32m---> 55\u001b[0;31m                                         inputs, attrs, num_outputs)\n\u001b[0m\u001b[1;32m     56\u001b[0m   \u001b[0;32mexcept\u001b[0m \u001b[0mcore\u001b[0m\u001b[0;34m.\u001b[0m\u001b[0m_NotOkStatusException\u001b[0m \u001b[0;32mas\u001b[0m \u001b[0me\u001b[0m\u001b[0;34m:\u001b[0m\u001b[0;34m\u001b[0m\u001b[0;34m\u001b[0m\u001b[0m\n\u001b[1;32m     57\u001b[0m     \u001b[0;32mif\u001b[0m \u001b[0mname\u001b[0m \u001b[0;32mis\u001b[0m \u001b[0;32mnot\u001b[0m \u001b[0;32mNone\u001b[0m\u001b[0;34m:\u001b[0m\u001b[0;34m\u001b[0m\u001b[0;34m\u001b[0m\u001b[0m\n",
      "\u001b[0;31mKeyboardInterrupt\u001b[0m: "
     ]
    }
   ],
   "source": [
    "decomon_training.fit(B_train, Y_train, validation_split=0.2, batch_size=100, epochs=1)"
   ]
  },
  {
   "cell_type": "code",
   "execution_count": 18,
   "id": "82a0f491",
   "metadata": {},
   "outputs": [
    {
     "name": "stdout",
     "output_type": "stream",
     "text": [
      "1875/1875 [==============================] - 2s 1ms/step - loss: 0.1900 - acc: 0.9597\n"
     ]
    },
    {
     "data": {
      "text/plain": [
       "[0.19000846147537231, 0.959683358669281]"
      ]
     },
     "execution_count": 18,
     "metadata": {},
     "output_type": "execute_result"
    }
   ],
   "source": [
    "model.evaluate(x_train, y_train)"
   ]
  },
  {
   "cell_type": "code",
   "execution_count": null,
   "id": "0420c8d1",
   "metadata": {},
   "outputs": [],
   "source": []
  },
  {
   "cell_type": "code",
   "execution_count": 9,
   "id": "f10407be",
   "metadata": {},
   "outputs": [],
   "source": [
    "from decomon import get_adv_box, get_adv_loss, get_model\n",
    "from decomon.models import clone"
   ]
  },
  {
   "cell_type": "code",
   "execution_count": 10,
   "id": "cf852e56",
   "metadata": {},
   "outputs": [],
   "source": [
    "convex_domain = {\"name\": \"ball\", \"p\": np.inf, \"eps\": max(0, 0.015)}"
   ]
  },
  {
   "cell_type": "code",
   "execution_count": 11,
   "id": "fe6984c8",
   "metadata": {},
   "outputs": [
    {
     "name": "stdout",
     "output_type": "stream",
     "text": [
      "dense_1_NODE_140406930690000\n"
     ]
    }
   ],
   "source": [
    "crown_ibp_ball = clone(model, method=\"crown-hybrid\", convex_domain=convex_domain, finetune=False)"
   ]
  },
  {
   "cell_type": "code",
   "execution_count": 12,
   "id": "c9152f53",
   "metadata": {},
   "outputs": [
    {
     "name": "stdout",
     "output_type": "stream",
     "text": [
      "dense_1_NODE_140406930690000\n"
     ]
    }
   ],
   "source": [
    "crown_ibp_box = clone(model, method=\"crown-hybrid\", finetune=False)"
   ]
  },
  {
   "cell_type": "code",
   "execution_count": 13,
   "id": "3b1db403",
   "metadata": {},
   "outputs": [],
   "source": [
    "from decomon import get_adv_box, get_adv_noise"
   ]
  },
  {
   "cell_type": "code",
   "execution_count": 14,
   "id": "8330ffc3",
   "metadata": {},
   "outputs": [],
   "source": [
    "# build robustness bounds\n",
    "eps = 0.015\n",
    "X_train = x_train\n",
    "X_train_min = X_train - eps\n",
    "X_train_max = X_train + eps\n",
    "Y_train = y_train\n",
    "B_train = np.concatenate([X_train_min[:, None], X_train_max[:, None]], 1)\n",
    "\n",
    "X_test = x_test\n",
    "X_test_min = X_test - eps\n",
    "X_test_max = X_test + eps\n",
    "Y_test = y_test\n",
    "B_test = np.concatenate([X_test_min[:, None], X_test_max[:, None]], 1)"
   ]
  },
  {
   "cell_type": "code",
   "execution_count": 15,
   "id": "cf53af2b",
   "metadata": {},
   "outputs": [
    {
     "name": "stdout",
     "output_type": "stream",
     "text": [
      "> \u001b[0;32m/Users/ducoffe/Documents/Code/open_sourcing/Airbus/decomon/decomon/wrapper.py\u001b[0m(1394)\u001b[0;36mget_forward_score\u001b[0;34m()\u001b[0m\n",
      "\u001b[0;32m   1392 \u001b[0;31m            \u001b[0mdiscard_mask_s\u001b[0m \u001b[0;34m=\u001b[0m \u001b[0mt_tensor_\u001b[0m\u001b[0;34m[\u001b[0m\u001b[0;34m:\u001b[0m\u001b[0;34m,\u001b[0m \u001b[0;34m:\u001b[0m\u001b[0;34m,\u001b[0m \u001b[0;32mNone\u001b[0m\u001b[0;34m]\u001b[0m \u001b[0;34m*\u001b[0m \u001b[0ms_tensor_\u001b[0m\u001b[0;34m[\u001b[0m\u001b[0;34m:\u001b[0m\u001b[0;34m,\u001b[0m \u001b[0;32mNone\u001b[0m\u001b[0;34m,\u001b[0m \u001b[0;34m:\u001b[0m\u001b[0;34m]\u001b[0m\u001b[0;34m\u001b[0m\u001b[0;34m\u001b[0m\u001b[0m\n",
      "\u001b[0m\u001b[0;32m   1393 \u001b[0;31m            \u001b[0;32mimport\u001b[0m \u001b[0mpdb\u001b[0m\u001b[0;34m;\u001b[0m \u001b[0mpdb\u001b[0m\u001b[0;34m.\u001b[0m\u001b[0mset_trace\u001b[0m\u001b[0;34m(\u001b[0m\u001b[0;34m)\u001b[0m\u001b[0;34m\u001b[0m\u001b[0;34m\u001b[0m\u001b[0m\n",
      "\u001b[0m\u001b[0;32m-> 1394 \u001b[0;31m            \u001b[0mupper\u001b[0m \u001b[0;34m-=\u001b[0m \u001b[0;34m(\u001b[0m\u001b[0;36m1\u001b[0m \u001b[0;34m-\u001b[0m \u001b[0mdiscard_mask_s\u001b[0m\u001b[0;34m)\u001b[0m \u001b[0;34m*\u001b[0m \u001b[0;34m(\u001b[0m\u001b[0mconst\u001b[0m \u001b[0;34m+\u001b[0m \u001b[0;36m0.1\u001b[0m\u001b[0;34m)\u001b[0m\u001b[0;34m\u001b[0m\u001b[0;34m\u001b[0m\u001b[0m\n",
      "\u001b[0m\u001b[0;32m   1395 \u001b[0;31m\u001b[0;34m\u001b[0m\u001b[0m\n",
      "\u001b[0m\u001b[0;32m   1396 \u001b[0;31m            \u001b[0;31m# upper = upper * s_tensor_[:, :, None] - (const + 0.1) * (1. - s_tensor_[:, None,:])\u001b[0m\u001b[0;34m\u001b[0m\u001b[0;34m\u001b[0m\u001b[0;34m\u001b[0m\u001b[0m\n",
      "\u001b[0m\n",
      "ipdb> c\n"
     ]
    }
   ],
   "source": [
    "adv_ball = get_adv_noise(crown_ibp_ball, X_train[:10], Y_train[:10], eps=0.015, p=np.inf)"
   ]
  },
  {
   "cell_type": "code",
   "execution_count": 16,
   "id": "5893dd62",
   "metadata": {},
   "outputs": [],
   "source": [
    "adv_box = get_adv_box(crown_ibp_box, X_train_min[:10], X_train_max[:10], Y_train[:10])"
   ]
  },
  {
   "cell_type": "code",
   "execution_count": 17,
   "id": "8e810acc",
   "metadata": {},
   "outputs": [
    {
     "data": {
      "text/plain": [
       "array([  5.8751116, -10.699654 ,   2.2734857,  -1.7966409,  -1.1422157,\n",
       "         1.4221632,   1.9635725, -14.461422 ,   9.086023 ,  -7.845304 ],\n",
       "      dtype=float32)"
      ]
     },
     "execution_count": 17,
     "metadata": {},
     "output_type": "execute_result"
    }
   ],
   "source": [
    "adv_ball"
   ]
  },
  {
   "cell_type": "code",
   "execution_count": 18,
   "id": "acfaab6d",
   "metadata": {},
   "outputs": [
    {
     "data": {
      "text/plain": [
       "array([  5.8751116, -10.699671 ,   2.2734814,  -1.7966409,  -1.1422157,\n",
       "         1.4221632,   1.9635725, -14.461422 ,   9.086023 ,  -7.845304 ],\n",
       "      dtype=float32)"
      ]
     },
     "execution_count": 18,
     "metadata": {},
     "output_type": "execute_result"
    }
   ],
   "source": [
    "adv_box"
   ]
  },
  {
   "cell_type": "code",
   "execution_count": null,
   "id": "2729f4da",
   "metadata": {},
   "outputs": [],
   "source": [
    "def get_adv_noise(\n",
    "    model,\n",
    "    x,\n",
    "    source_labels,\n",
    "    eps=0,\n",
    "    p=np.inf,\n",
    "    target_labels=None,\n",
    "    batch_size=-1,\n",
    "    fast=True,\n",
    "):"
   ]
  },
  {
   "cell_type": "code",
   "execution_count": null,
   "id": "edde2cb4",
   "metadata": {},
   "outputs": [],
   "source": []
  },
  {
   "cell_type": "code",
   "execution_count": 20,
   "id": "072b8c47",
   "metadata": {},
   "outputs": [],
   "source": [
    "adv_model = get_model(crown_ibp)"
   ]
  },
  {
   "cell_type": "code",
   "execution_count": 21,
   "id": "c07c2857",
   "metadata": {},
   "outputs": [],
   "source": [
    "adv_loss = get_adv_loss(crown_ibp, softmax=False)"
   ]
  },
  {
   "cell_type": "code",
   "execution_count": 22,
   "id": "b9d3cd18",
   "metadata": {},
   "outputs": [],
   "source": [
    "adv_model.compile(\"adam\", adv_loss)"
   ]
  },
  {
   "cell_type": "code",
   "execution_count": 21,
   "id": "5a172956",
   "metadata": {},
   "outputs": [],
   "source": []
  },
  {
   "cell_type": "code",
   "execution_count": 24,
   "id": "3616c1bf",
   "metadata": {},
   "outputs": [],
   "source": [
    "# model.save_weights('tuto_4_ongoing.hd5')"
   ]
  },
  {
   "cell_type": "code",
   "execution_count": 25,
   "id": "29440ba4",
   "metadata": {},
   "outputs": [
    {
     "name": "stdout",
     "output_type": "stream",
     "text": [
      "1/1 [==============================] - 0s 290ms/step - loss: 11.2815\n"
     ]
    },
    {
     "data": {
      "text/plain": [
       "11.281511306762695"
      ]
     },
     "execution_count": 25,
     "metadata": {},
     "output_type": "execute_result"
    }
   ],
   "source": [
    "adv_model.evaluate(B_train[:1], Y_train[0:1])"
   ]
  },
  {
   "cell_type": "code",
   "execution_count": 21,
   "id": "8d912c48",
   "metadata": {},
   "outputs": [
    {
     "name": "stdout",
     "output_type": "stream",
     "text": [
      "Epoch 1/10\n",
      "1/1 [==============================] - 7s 7s/step - loss: -1.2954\n",
      "Epoch 2/10\n",
      "1/1 [==============================] - 0s 225ms/step - loss: -4.2797\n",
      "Epoch 3/10\n",
      "1/1 [==============================] - 0s 218ms/step - loss: -4.7283\n",
      "Epoch 4/10\n",
      "1/1 [==============================] - 0s 216ms/step - loss: -7.8687\n",
      "Epoch 5/10\n",
      "1/1 [==============================] - 0s 215ms/step - loss: -4.4584\n",
      "Epoch 6/10\n",
      "1/1 [==============================] - 0s 208ms/step - loss: -5.5166\n",
      "Epoch 7/10\n",
      "1/1 [==============================] - 0s 215ms/step - loss: -4.5222\n",
      "Epoch 8/10\n",
      "1/1 [==============================] - 0s 253ms/step - loss: -5.4438\n",
      "Epoch 9/10\n",
      "1/1 [==============================] - 0s 239ms/step - loss: -6.1163\n",
      "Epoch 10/10\n",
      "1/1 [==============================] - 0s 214ms/step - loss: -6.9742\n"
     ]
    },
    {
     "data": {
      "text/plain": [
       "<keras.callbacks.History at 0x7fd33ba02110>"
      ]
     },
     "execution_count": 21,
     "metadata": {},
     "output_type": "execute_result"
    }
   ],
   "source": [
    "adv_model.fit(B_train[:4], Y_train[:4], batch_size=10, epochs=10)"
   ]
  },
  {
   "cell_type": "code",
   "execution_count": 21,
   "id": "74988b84",
   "metadata": {},
   "outputs": [
    {
     "ename": "TypeError",
     "evalue": "Exception encountered when calling layer \"decomon_minimum_1\" (type DecomonMinimum).\n\nin user code:\n\n    File \"../decomon/layers/decomon_merge_layers.py\", line 286, in call  *\n        output = maximum(\n    File \"../decomon/layers/utils.py\", line 746, in maximum  *\n        output_1 = relu_(\n    File \"../decomon/layers/utils.py\", line 576, in relu_  *\n        w_u_, b_u_, w_l_, b_l_ = get_linear_hull_relu(upper, lower, slope, **kwargs)\n    File \"../decomon/utils.py\", line 425, in get_linear_hull_relu  *\n        alpha_l_ = alpha_l[None]\n\n    TypeError: 'bool' object is not subscriptable\n\n\nCall arguments received:\n  • inputs=['tf.Tensor(shape=(None, 2, 784), dtype=float32)', 'tf.Tensor(shape=(None, 1), dtype=float32)', 'tf.Tensor(shape=(None, 784, 1), dtype=float32)', 'tf.Tensor(shape=(None, 1), dtype=float32)', 'tf.Tensor(shape=(None, 1), dtype=float32)', 'tf.Tensor(shape=(None, 784, 1), dtype=float32)', 'tf.Tensor(shape=(None, 1), dtype=float32)', 'tf.Tensor(shape=(None, 2, 784), dtype=float32)', 'tf.Tensor(shape=(None, 1), dtype=float32)', 'tf.Tensor(shape=(None, 784, 1), dtype=float32)', 'tf.Tensor(shape=(None, 1), dtype=float32)', 'tf.Tensor(shape=(None, 1), dtype=float32)', 'tf.Tensor(shape=(None, 784, 1), dtype=float32)', 'tf.Tensor(shape=(None, 1), dtype=float32)']",
     "output_type": "error",
     "traceback": [
      "\u001b[0;31m---------------------------------------------------------------------------\u001b[0m",
      "\u001b[0;31mTypeError\u001b[0m                                 Traceback (most recent call last)",
      "\u001b[0;32m/var/folders/mv/rks11p6n68n4p1fqvdm9z5_w0000gn/T/ipykernel_7819/1027569456.py\u001b[0m in \u001b[0;36m<module>\u001b[0;34m\u001b[0m\n\u001b[0;32m----> 1\u001b[0;31m \u001b[0mcrown_hybrid\u001b[0m \u001b[0;34m=\u001b[0m \u001b[0mclone\u001b[0m\u001b[0;34m(\u001b[0m\u001b[0mmodel\u001b[0m\u001b[0;34m,\u001b[0m \u001b[0mmethod\u001b[0m\u001b[0;34m=\u001b[0m\u001b[0;34m'crown-hybrid'\u001b[0m\u001b[0;34m)\u001b[0m\u001b[0;34m\u001b[0m\u001b[0;34m\u001b[0m\u001b[0m\n\u001b[0m",
      "\u001b[0;32m~/Documents/Code/open_sourcing/Airbus/decomon/decomon/models/convert.py\u001b[0m in \u001b[0;36mclone\u001b[0;34m(model, layer_fn, dc_decomp, convex_domain, ibp, forward, method, finetune, shared, finetune_forward, finetune_backward)\u001b[0m\n\u001b[1;32m    270\u001b[0m         \u001b[0mforward_map\u001b[0m\u001b[0;34m=\u001b[0m\u001b[0;34m{\u001b[0m\u001b[0;34m}\u001b[0m\u001b[0;34m,\u001b[0m\u001b[0;34m\u001b[0m\u001b[0;34m\u001b[0m\u001b[0m\n\u001b[1;32m    271\u001b[0m         \u001b[0mfinetune_forward\u001b[0m\u001b[0;34m=\u001b[0m\u001b[0mfinetune_forward\u001b[0m\u001b[0;34m,\u001b[0m\u001b[0;34m\u001b[0m\u001b[0;34m\u001b[0m\u001b[0m\n\u001b[0;32m--> 272\u001b[0;31m         \u001b[0mfinetune_backward\u001b[0m\u001b[0;34m=\u001b[0m\u001b[0mfinetune_backward\u001b[0m\u001b[0;34m,\u001b[0m\u001b[0;34m\u001b[0m\u001b[0;34m\u001b[0m\u001b[0m\n\u001b[0m\u001b[1;32m    273\u001b[0m     )\n\u001b[1;32m    274\u001b[0m \u001b[0;34m\u001b[0m\u001b[0m\n",
      "\u001b[0;32m~/Documents/Code/open_sourcing/Airbus/decomon/decomon/models/convert.py\u001b[0m in \u001b[0;36mconvert\u001b[0;34m(model, input_tensors, method, ibp, forward, back_bounds, layer_fn, input_dim, convex_domain, finetune, shared, softmax_to_linear, layer_map, forward_map, finetune_forward, finetune_backward, **kwargs)\u001b[0m\n\u001b[1;32m    135\u001b[0m             \u001b[0mlayer_map\u001b[0m\u001b[0;34m=\u001b[0m\u001b[0mlayer_map\u001b[0m\u001b[0;34m,\u001b[0m\u001b[0;34m\u001b[0m\u001b[0;34m\u001b[0m\u001b[0m\n\u001b[1;32m    136\u001b[0m             \u001b[0mforward_map\u001b[0m\u001b[0;34m=\u001b[0m\u001b[0mforward_map\u001b[0m\u001b[0;34m,\u001b[0m\u001b[0;34m\u001b[0m\u001b[0;34m\u001b[0m\u001b[0m\n\u001b[0;32m--> 137\u001b[0;31m             \u001b[0;34m**\u001b[0m\u001b[0mkwargs\u001b[0m\u001b[0;34m,\u001b[0m\u001b[0;34m\u001b[0m\u001b[0;34m\u001b[0m\u001b[0m\n\u001b[0m\u001b[1;32m    138\u001b[0m         )\n\u001b[1;32m    139\u001b[0m     \u001b[0;32melse\u001b[0m\u001b[0;34m:\u001b[0m\u001b[0;34m\u001b[0m\u001b[0;34m\u001b[0m\u001b[0m\n",
      "\u001b[0;32m~/Documents/Code/open_sourcing/Airbus/decomon/decomon/models/backward_cloning.py\u001b[0m in \u001b[0;36mget_backward_model\u001b[0;34m(model, input_tensors, back_bounds, input_dim, convex_domain, IBP, forward, finetune, layer_map, forward_map, fuse_with_input, softmax_to_linear, **kwargs)\u001b[0m\n\u001b[1;32m    675\u001b[0m                     \u001b[0;32mif\u001b[0m \u001b[0;34m\"{}_{}\"\u001b[0m\u001b[0;34m.\u001b[0m\u001b[0mformat\u001b[0m\u001b[0;34m(\u001b[0m\u001b[0mnode_i\u001b[0m\u001b[0;34m.\u001b[0m\u001b[0moutbound_layer\u001b[0m\u001b[0;34m.\u001b[0m\u001b[0mname\u001b[0m\u001b[0;34m,\u001b[0m \u001b[0mget_node_by_id\u001b[0m\u001b[0;34m(\u001b[0m\u001b[0mnode_i\u001b[0m\u001b[0;34m)\u001b[0m\u001b[0;34m)\u001b[0m \u001b[0;32min\u001b[0m \u001b[0mforward_map\u001b[0m\u001b[0;34m:\u001b[0m\u001b[0;34m\u001b[0m\u001b[0;34m\u001b[0m\u001b[0m\n\u001b[1;32m    676\u001b[0m                         \u001b[0moutput_tmp_i\u001b[0m \u001b[0;34m=\u001b[0m \u001b[0mforward_map\u001b[0m\u001b[0;34m[\u001b[0m\u001b[0;34m\"{}_{}\"\u001b[0m\u001b[0;34m.\u001b[0m\u001b[0mformat\u001b[0m\u001b[0;34m(\u001b[0m\u001b[0mnode_i\u001b[0m\u001b[0;34m.\u001b[0m\u001b[0moutbound_layer\u001b[0m\u001b[0;34m.\u001b[0m\u001b[0mname\u001b[0m\u001b[0;34m,\u001b[0m \u001b[0mget_node_by_id\u001b[0m\u001b[0;34m(\u001b[0m\u001b[0mnode_i\u001b[0m\u001b[0;34m)\u001b[0m\u001b[0;34m)\u001b[0m\u001b[0;34m]\u001b[0m\u001b[0;34m\u001b[0m\u001b[0;34m\u001b[0m\u001b[0m\n\u001b[0;32m--> 677\u001b[0;31m                         \u001b[0mmax_bounds\u001b[0m \u001b[0;34m=\u001b[0m \u001b[0mDecomonMinimum\u001b[0m\u001b[0;34m(\u001b[0m\u001b[0mmode\u001b[0m\u001b[0;34m=\u001b[0m\u001b[0mmode\u001b[0m\u001b[0;34m)\u001b[0m\u001b[0;34m(\u001b[0m\u001b[0moutput_tmp_i\u001b[0m\u001b[0;34m+\u001b[0m\u001b[0moutput_i\u001b[0m\u001b[0;34m)\u001b[0m\u001b[0;34m\u001b[0m\u001b[0;34m\u001b[0m\u001b[0m\n\u001b[0m\u001b[1;32m    678\u001b[0m                         \u001b[0mmin_bounds\u001b[0m \u001b[0;34m=\u001b[0m \u001b[0mDecomonMaximum\u001b[0m\u001b[0;34m(\u001b[0m\u001b[0mmode\u001b[0m\u001b[0;34m=\u001b[0m\u001b[0mmode\u001b[0m\u001b[0;34m)\u001b[0m\u001b[0;34m(\u001b[0m\u001b[0moutput_tmp_i\u001b[0m\u001b[0;34m+\u001b[0m\u001b[0moutput_i\u001b[0m\u001b[0;34m)\u001b[0m\u001b[0;34m\u001b[0m\u001b[0;34m\u001b[0m\u001b[0m\n\u001b[1;32m    679\u001b[0m \u001b[0;34m\u001b[0m\u001b[0m\n",
      "\u001b[0;32m~/miniconda3/envs/formal/lib/python3.7/site-packages/keras/utils/traceback_utils.py\u001b[0m in \u001b[0;36merror_handler\u001b[0;34m(*args, **kwargs)\u001b[0m\n\u001b[1;32m     65\u001b[0m     \u001b[0;32mexcept\u001b[0m \u001b[0mException\u001b[0m \u001b[0;32mas\u001b[0m \u001b[0me\u001b[0m\u001b[0;34m:\u001b[0m  \u001b[0;31m# pylint: disable=broad-except\u001b[0m\u001b[0;34m\u001b[0m\u001b[0;34m\u001b[0m\u001b[0m\n\u001b[1;32m     66\u001b[0m       \u001b[0mfiltered_tb\u001b[0m \u001b[0;34m=\u001b[0m \u001b[0m_process_traceback_frames\u001b[0m\u001b[0;34m(\u001b[0m\u001b[0me\u001b[0m\u001b[0;34m.\u001b[0m\u001b[0m__traceback__\u001b[0m\u001b[0;34m)\u001b[0m\u001b[0;34m\u001b[0m\u001b[0;34m\u001b[0m\u001b[0m\n\u001b[0;32m---> 67\u001b[0;31m       \u001b[0;32mraise\u001b[0m \u001b[0me\u001b[0m\u001b[0;34m.\u001b[0m\u001b[0mwith_traceback\u001b[0m\u001b[0;34m(\u001b[0m\u001b[0mfiltered_tb\u001b[0m\u001b[0;34m)\u001b[0m \u001b[0;32mfrom\u001b[0m \u001b[0;32mNone\u001b[0m\u001b[0;34m\u001b[0m\u001b[0;34m\u001b[0m\u001b[0m\n\u001b[0m\u001b[1;32m     68\u001b[0m     \u001b[0;32mfinally\u001b[0m\u001b[0;34m:\u001b[0m\u001b[0;34m\u001b[0m\u001b[0;34m\u001b[0m\u001b[0m\n\u001b[1;32m     69\u001b[0m       \u001b[0;32mdel\u001b[0m \u001b[0mfiltered_tb\u001b[0m\u001b[0;34m\u001b[0m\u001b[0;34m\u001b[0m\u001b[0m\n",
      "\u001b[0;32m~/miniconda3/envs/formal/lib/python3.7/site-packages/tensorflow/python/autograph/impl/api.py\u001b[0m in \u001b[0;36mwrapper\u001b[0;34m(*args, **kwargs)\u001b[0m\n\u001b[1;32m    690\u001b[0m       \u001b[0;32mexcept\u001b[0m \u001b[0mException\u001b[0m \u001b[0;32mas\u001b[0m \u001b[0me\u001b[0m\u001b[0;34m:\u001b[0m  \u001b[0;31m# pylint:disable=broad-except\u001b[0m\u001b[0;34m\u001b[0m\u001b[0;34m\u001b[0m\u001b[0m\n\u001b[1;32m    691\u001b[0m         \u001b[0;32mif\u001b[0m \u001b[0mhasattr\u001b[0m\u001b[0;34m(\u001b[0m\u001b[0me\u001b[0m\u001b[0;34m,\u001b[0m \u001b[0;34m'ag_error_metadata'\u001b[0m\u001b[0;34m)\u001b[0m\u001b[0;34m:\u001b[0m\u001b[0;34m\u001b[0m\u001b[0;34m\u001b[0m\u001b[0m\n\u001b[0;32m--> 692\u001b[0;31m           \u001b[0;32mraise\u001b[0m \u001b[0me\u001b[0m\u001b[0;34m.\u001b[0m\u001b[0mag_error_metadata\u001b[0m\u001b[0;34m.\u001b[0m\u001b[0mto_exception\u001b[0m\u001b[0;34m(\u001b[0m\u001b[0me\u001b[0m\u001b[0;34m)\u001b[0m\u001b[0;34m\u001b[0m\u001b[0;34m\u001b[0m\u001b[0m\n\u001b[0m\u001b[1;32m    693\u001b[0m         \u001b[0;32melse\u001b[0m\u001b[0;34m:\u001b[0m\u001b[0;34m\u001b[0m\u001b[0;34m\u001b[0m\u001b[0m\n\u001b[1;32m    694\u001b[0m           \u001b[0;32mraise\u001b[0m\u001b[0;34m\u001b[0m\u001b[0;34m\u001b[0m\u001b[0m\n",
      "\u001b[0;31mTypeError\u001b[0m: Exception encountered when calling layer \"decomon_minimum_1\" (type DecomonMinimum).\n\nin user code:\n\n    File \"../decomon/layers/decomon_merge_layers.py\", line 286, in call  *\n        output = maximum(\n    File \"../decomon/layers/utils.py\", line 746, in maximum  *\n        output_1 = relu_(\n    File \"../decomon/layers/utils.py\", line 576, in relu_  *\n        w_u_, b_u_, w_l_, b_l_ = get_linear_hull_relu(upper, lower, slope, **kwargs)\n    File \"../decomon/utils.py\", line 425, in get_linear_hull_relu  *\n        alpha_l_ = alpha_l[None]\n\n    TypeError: 'bool' object is not subscriptable\n\n\nCall arguments received:\n  • inputs=['tf.Tensor(shape=(None, 2, 784), dtype=float32)', 'tf.Tensor(shape=(None, 1), dtype=float32)', 'tf.Tensor(shape=(None, 784, 1), dtype=float32)', 'tf.Tensor(shape=(None, 1), dtype=float32)', 'tf.Tensor(shape=(None, 1), dtype=float32)', 'tf.Tensor(shape=(None, 784, 1), dtype=float32)', 'tf.Tensor(shape=(None, 1), dtype=float32)', 'tf.Tensor(shape=(None, 2, 784), dtype=float32)', 'tf.Tensor(shape=(None, 1), dtype=float32)', 'tf.Tensor(shape=(None, 784, 1), dtype=float32)', 'tf.Tensor(shape=(None, 1), dtype=float32)', 'tf.Tensor(shape=(None, 1), dtype=float32)', 'tf.Tensor(shape=(None, 784, 1), dtype=float32)', 'tf.Tensor(shape=(None, 1), dtype=float32)']"
     ]
    }
   ],
   "source": [
    "crown_hybrid = clone(model, method=\"crown-hybrid\")"
   ]
  },
  {
   "cell_type": "code",
   "execution_count": 27,
   "id": "e0692a94",
   "metadata": {},
   "outputs": [],
   "source": [
    "adv_train = get_adv_box(crown_ibp, X_train_min[:10], X_train_max[:10], Y_train[:10])"
   ]
  },
  {
   "cell_type": "code",
   "execution_count": 28,
   "id": "f968fdd4",
   "metadata": {},
   "outputs": [
    {
     "data": {
      "text/plain": [
       "array([2.4867989e-04, 2.1810252e-03, 7.6253060e-04, 7.9125166e-06,\n",
       "       5.0465483e-04, 2.2408454e-02, 7.9125166e-06, 2.8640870e-04,\n",
       "       7.9125166e-06, 7.6253060e-04], dtype=float32)"
      ]
     },
     "execution_count": 28,
     "metadata": {},
     "output_type": "execute_result"
    }
   ],
   "source": [
    "adv_train"
   ]
  },
  {
   "cell_type": "code",
   "execution_count": null,
   "id": "f85e7d14",
   "metadata": {},
   "outputs": [],
   "source": [
    "upper = get_adv_box(decomon_model, x_min, x_max, source_labels=source_label, n_sub_boxes=4)"
   ]
  },
  {
   "cell_type": "code",
   "execution_count": 11,
   "id": "81c01b5e",
   "metadata": {},
   "outputs": [
    {
     "name": "stdout",
     "output_type": "stream",
     "text": [
      "  39/1875 [..............................] - ETA: 3:56 - loss: 1.0000"
     ]
    },
    {
     "ename": "KeyboardInterrupt",
     "evalue": "",
     "output_type": "error",
     "traceback": [
      "\u001b[0;31m---------------------------------------------------------------------------\u001b[0m",
      "\u001b[0;31mKeyboardInterrupt\u001b[0m                         Traceback (most recent call last)",
      "\u001b[0;32m/var/folders/mv/rks11p6n68n4p1fqvdm9z5_w0000gn/T/ipykernel_7769/489569795.py\u001b[0m in \u001b[0;36m<module>\u001b[0;34m\u001b[0m\n\u001b[0;32m----> 1\u001b[0;31m \u001b[0madv_model\u001b[0m\u001b[0;34m.\u001b[0m\u001b[0mevaluate\u001b[0m\u001b[0;34m(\u001b[0m\u001b[0mB\u001b[0m\u001b[0;34m,\u001b[0m \u001b[0mY\u001b[0m\u001b[0;34m)\u001b[0m\u001b[0;34m\u001b[0m\u001b[0;34m\u001b[0m\u001b[0m\n\u001b[0m",
      "\u001b[0;32m~/miniconda3/envs/formal/lib/python3.7/site-packages/keras/utils/traceback_utils.py\u001b[0m in \u001b[0;36merror_handler\u001b[0;34m(*args, **kwargs)\u001b[0m\n\u001b[1;32m     62\u001b[0m     \u001b[0mfiltered_tb\u001b[0m \u001b[0;34m=\u001b[0m \u001b[0;32mNone\u001b[0m\u001b[0;34m\u001b[0m\u001b[0;34m\u001b[0m\u001b[0m\n\u001b[1;32m     63\u001b[0m     \u001b[0;32mtry\u001b[0m\u001b[0;34m:\u001b[0m\u001b[0;34m\u001b[0m\u001b[0;34m\u001b[0m\u001b[0m\n\u001b[0;32m---> 64\u001b[0;31m       \u001b[0;32mreturn\u001b[0m \u001b[0mfn\u001b[0m\u001b[0;34m(\u001b[0m\u001b[0;34m*\u001b[0m\u001b[0margs\u001b[0m\u001b[0;34m,\u001b[0m \u001b[0;34m**\u001b[0m\u001b[0mkwargs\u001b[0m\u001b[0;34m)\u001b[0m\u001b[0;34m\u001b[0m\u001b[0;34m\u001b[0m\u001b[0m\n\u001b[0m\u001b[1;32m     65\u001b[0m     \u001b[0;32mexcept\u001b[0m \u001b[0mException\u001b[0m \u001b[0;32mas\u001b[0m \u001b[0me\u001b[0m\u001b[0;34m:\u001b[0m  \u001b[0;31m# pylint: disable=broad-except\u001b[0m\u001b[0;34m\u001b[0m\u001b[0;34m\u001b[0m\u001b[0m\n\u001b[1;32m     66\u001b[0m       \u001b[0mfiltered_tb\u001b[0m \u001b[0;34m=\u001b[0m \u001b[0m_process_traceback_frames\u001b[0m\u001b[0;34m(\u001b[0m\u001b[0me\u001b[0m\u001b[0;34m.\u001b[0m\u001b[0m__traceback__\u001b[0m\u001b[0;34m)\u001b[0m\u001b[0;34m\u001b[0m\u001b[0;34m\u001b[0m\u001b[0m\n",
      "\u001b[0;32m~/miniconda3/envs/formal/lib/python3.7/site-packages/keras/engine/training.py\u001b[0m in \u001b[0;36mevaluate\u001b[0;34m(self, x, y, batch_size, verbose, sample_weight, steps, callbacks, max_queue_size, workers, use_multiprocessing, return_dict, **kwargs)\u001b[0m\n\u001b[1;32m   1714\u001b[0m             \u001b[0;32mwith\u001b[0m \u001b[0mtf\u001b[0m\u001b[0;34m.\u001b[0m\u001b[0mprofiler\u001b[0m\u001b[0;34m.\u001b[0m\u001b[0mexperimental\u001b[0m\u001b[0;34m.\u001b[0m\u001b[0mTrace\u001b[0m\u001b[0;34m(\u001b[0m\u001b[0;34m'test'\u001b[0m\u001b[0;34m,\u001b[0m \u001b[0mstep_num\u001b[0m\u001b[0;34m=\u001b[0m\u001b[0mstep\u001b[0m\u001b[0;34m,\u001b[0m \u001b[0m_r\u001b[0m\u001b[0;34m=\u001b[0m\u001b[0;36m1\u001b[0m\u001b[0;34m)\u001b[0m\u001b[0;34m:\u001b[0m\u001b[0;34m\u001b[0m\u001b[0;34m\u001b[0m\u001b[0m\n\u001b[1;32m   1715\u001b[0m               \u001b[0mcallbacks\u001b[0m\u001b[0;34m.\u001b[0m\u001b[0mon_test_batch_begin\u001b[0m\u001b[0;34m(\u001b[0m\u001b[0mstep\u001b[0m\u001b[0;34m)\u001b[0m\u001b[0;34m\u001b[0m\u001b[0;34m\u001b[0m\u001b[0m\n\u001b[0;32m-> 1716\u001b[0;31m               \u001b[0mtmp_logs\u001b[0m \u001b[0;34m=\u001b[0m \u001b[0mself\u001b[0m\u001b[0;34m.\u001b[0m\u001b[0mtest_function\u001b[0m\u001b[0;34m(\u001b[0m\u001b[0miterator\u001b[0m\u001b[0;34m)\u001b[0m\u001b[0;34m\u001b[0m\u001b[0;34m\u001b[0m\u001b[0m\n\u001b[0m\u001b[1;32m   1717\u001b[0m               \u001b[0;32mif\u001b[0m \u001b[0mdata_handler\u001b[0m\u001b[0;34m.\u001b[0m\u001b[0mshould_sync\u001b[0m\u001b[0;34m:\u001b[0m\u001b[0;34m\u001b[0m\u001b[0;34m\u001b[0m\u001b[0m\n\u001b[1;32m   1718\u001b[0m                 \u001b[0mcontext\u001b[0m\u001b[0;34m.\u001b[0m\u001b[0masync_wait\u001b[0m\u001b[0;34m(\u001b[0m\u001b[0;34m)\u001b[0m\u001b[0;34m\u001b[0m\u001b[0;34m\u001b[0m\u001b[0m\n",
      "\u001b[0;32m~/miniconda3/envs/formal/lib/python3.7/site-packages/tensorflow/python/util/traceback_utils.py\u001b[0m in \u001b[0;36merror_handler\u001b[0;34m(*args, **kwargs)\u001b[0m\n\u001b[1;32m    148\u001b[0m     \u001b[0mfiltered_tb\u001b[0m \u001b[0;34m=\u001b[0m \u001b[0;32mNone\u001b[0m\u001b[0;34m\u001b[0m\u001b[0;34m\u001b[0m\u001b[0m\n\u001b[1;32m    149\u001b[0m     \u001b[0;32mtry\u001b[0m\u001b[0;34m:\u001b[0m\u001b[0;34m\u001b[0m\u001b[0;34m\u001b[0m\u001b[0m\n\u001b[0;32m--> 150\u001b[0;31m       \u001b[0;32mreturn\u001b[0m \u001b[0mfn\u001b[0m\u001b[0;34m(\u001b[0m\u001b[0;34m*\u001b[0m\u001b[0margs\u001b[0m\u001b[0;34m,\u001b[0m \u001b[0;34m**\u001b[0m\u001b[0mkwargs\u001b[0m\u001b[0;34m)\u001b[0m\u001b[0;34m\u001b[0m\u001b[0;34m\u001b[0m\u001b[0m\n\u001b[0m\u001b[1;32m    151\u001b[0m     \u001b[0;32mexcept\u001b[0m \u001b[0mException\u001b[0m \u001b[0;32mas\u001b[0m \u001b[0me\u001b[0m\u001b[0;34m:\u001b[0m\u001b[0;34m\u001b[0m\u001b[0;34m\u001b[0m\u001b[0m\n\u001b[1;32m    152\u001b[0m       \u001b[0mfiltered_tb\u001b[0m \u001b[0;34m=\u001b[0m \u001b[0m_process_traceback_frames\u001b[0m\u001b[0;34m(\u001b[0m\u001b[0me\u001b[0m\u001b[0;34m.\u001b[0m\u001b[0m__traceback__\u001b[0m\u001b[0;34m)\u001b[0m\u001b[0;34m\u001b[0m\u001b[0;34m\u001b[0m\u001b[0m\n",
      "\u001b[0;32m~/miniconda3/envs/formal/lib/python3.7/site-packages/tensorflow/python/eager/def_function.py\u001b[0m in \u001b[0;36m__call__\u001b[0;34m(self, *args, **kwds)\u001b[0m\n\u001b[1;32m    913\u001b[0m \u001b[0;34m\u001b[0m\u001b[0m\n\u001b[1;32m    914\u001b[0m       \u001b[0;32mwith\u001b[0m \u001b[0mOptionalXlaContext\u001b[0m\u001b[0;34m(\u001b[0m\u001b[0mself\u001b[0m\u001b[0;34m.\u001b[0m\u001b[0m_jit_compile\u001b[0m\u001b[0;34m)\u001b[0m\u001b[0;34m:\u001b[0m\u001b[0;34m\u001b[0m\u001b[0;34m\u001b[0m\u001b[0m\n\u001b[0;32m--> 915\u001b[0;31m         \u001b[0mresult\u001b[0m \u001b[0;34m=\u001b[0m \u001b[0mself\u001b[0m\u001b[0;34m.\u001b[0m\u001b[0m_call\u001b[0m\u001b[0;34m(\u001b[0m\u001b[0;34m*\u001b[0m\u001b[0margs\u001b[0m\u001b[0;34m,\u001b[0m \u001b[0;34m**\u001b[0m\u001b[0mkwds\u001b[0m\u001b[0;34m)\u001b[0m\u001b[0;34m\u001b[0m\u001b[0;34m\u001b[0m\u001b[0m\n\u001b[0m\u001b[1;32m    916\u001b[0m \u001b[0;34m\u001b[0m\u001b[0m\n\u001b[1;32m    917\u001b[0m       \u001b[0mnew_tracing_count\u001b[0m \u001b[0;34m=\u001b[0m \u001b[0mself\u001b[0m\u001b[0;34m.\u001b[0m\u001b[0mexperimental_get_tracing_count\u001b[0m\u001b[0;34m(\u001b[0m\u001b[0;34m)\u001b[0m\u001b[0;34m\u001b[0m\u001b[0;34m\u001b[0m\u001b[0m\n",
      "\u001b[0;32m~/miniconda3/envs/formal/lib/python3.7/site-packages/tensorflow/python/eager/def_function.py\u001b[0m in \u001b[0;36m_call\u001b[0;34m(self, *args, **kwds)\u001b[0m\n\u001b[1;32m    952\u001b[0m       \u001b[0;31m# In this case we have not created variables on the first call. So we can\u001b[0m\u001b[0;34m\u001b[0m\u001b[0;34m\u001b[0m\u001b[0;34m\u001b[0m\u001b[0m\n\u001b[1;32m    953\u001b[0m       \u001b[0;31m# run the first trace but we should fail if variables are created.\u001b[0m\u001b[0;34m\u001b[0m\u001b[0;34m\u001b[0m\u001b[0;34m\u001b[0m\u001b[0m\n\u001b[0;32m--> 954\u001b[0;31m       \u001b[0mresults\u001b[0m \u001b[0;34m=\u001b[0m \u001b[0mself\u001b[0m\u001b[0;34m.\u001b[0m\u001b[0m_stateful_fn\u001b[0m\u001b[0;34m(\u001b[0m\u001b[0;34m*\u001b[0m\u001b[0margs\u001b[0m\u001b[0;34m,\u001b[0m \u001b[0;34m**\u001b[0m\u001b[0mkwds\u001b[0m\u001b[0;34m)\u001b[0m\u001b[0;34m\u001b[0m\u001b[0;34m\u001b[0m\u001b[0m\n\u001b[0m\u001b[1;32m    955\u001b[0m       \u001b[0;32mif\u001b[0m \u001b[0mself\u001b[0m\u001b[0;34m.\u001b[0m\u001b[0m_created_variables\u001b[0m \u001b[0;32mand\u001b[0m \u001b[0;32mnot\u001b[0m \u001b[0mALLOW_DYNAMIC_VARIABLE_CREATION\u001b[0m\u001b[0;34m:\u001b[0m\u001b[0;34m\u001b[0m\u001b[0;34m\u001b[0m\u001b[0m\n\u001b[1;32m    956\u001b[0m         raise ValueError(\"Creating variables on a non-first call to a function\"\n",
      "\u001b[0;32m~/miniconda3/envs/formal/lib/python3.7/site-packages/tensorflow/python/eager/function.py\u001b[0m in \u001b[0;36m__call__\u001b[0;34m(self, *args, **kwargs)\u001b[0m\n\u001b[1;32m   2955\u001b[0m        filtered_flat_args) = self._maybe_define_function(args, kwargs)\n\u001b[1;32m   2956\u001b[0m     return graph_function._call_flat(\n\u001b[0;32m-> 2957\u001b[0;31m         filtered_flat_args, captured_inputs=graph_function.captured_inputs)  # pylint: disable=protected-access\n\u001b[0m\u001b[1;32m   2958\u001b[0m \u001b[0;34m\u001b[0m\u001b[0m\n\u001b[1;32m   2959\u001b[0m   \u001b[0;34m@\u001b[0m\u001b[0mproperty\u001b[0m\u001b[0;34m\u001b[0m\u001b[0;34m\u001b[0m\u001b[0m\n",
      "\u001b[0;32m~/miniconda3/envs/formal/lib/python3.7/site-packages/tensorflow/python/eager/function.py\u001b[0m in \u001b[0;36m_call_flat\u001b[0;34m(self, args, captured_inputs, cancellation_manager)\u001b[0m\n\u001b[1;32m   1852\u001b[0m       \u001b[0;31m# No tape is watching; skip to running the function.\u001b[0m\u001b[0;34m\u001b[0m\u001b[0;34m\u001b[0m\u001b[0;34m\u001b[0m\u001b[0m\n\u001b[1;32m   1853\u001b[0m       return self._build_call_outputs(self._inference_function.call(\n\u001b[0;32m-> 1854\u001b[0;31m           ctx, args, cancellation_manager=cancellation_manager))\n\u001b[0m\u001b[1;32m   1855\u001b[0m     forward_backward = self._select_forward_and_backward_functions(\n\u001b[1;32m   1856\u001b[0m         \u001b[0margs\u001b[0m\u001b[0;34m,\u001b[0m\u001b[0;34m\u001b[0m\u001b[0;34m\u001b[0m\u001b[0m\n",
      "\u001b[0;32m~/miniconda3/envs/formal/lib/python3.7/site-packages/tensorflow/python/eager/function.py\u001b[0m in \u001b[0;36mcall\u001b[0;34m(self, ctx, args, cancellation_manager)\u001b[0m\n\u001b[1;32m    502\u001b[0m               \u001b[0minputs\u001b[0m\u001b[0;34m=\u001b[0m\u001b[0margs\u001b[0m\u001b[0;34m,\u001b[0m\u001b[0;34m\u001b[0m\u001b[0;34m\u001b[0m\u001b[0m\n\u001b[1;32m    503\u001b[0m               \u001b[0mattrs\u001b[0m\u001b[0;34m=\u001b[0m\u001b[0mattrs\u001b[0m\u001b[0;34m,\u001b[0m\u001b[0;34m\u001b[0m\u001b[0;34m\u001b[0m\u001b[0m\n\u001b[0;32m--> 504\u001b[0;31m               ctx=ctx)\n\u001b[0m\u001b[1;32m    505\u001b[0m         \u001b[0;32melse\u001b[0m\u001b[0;34m:\u001b[0m\u001b[0;34m\u001b[0m\u001b[0;34m\u001b[0m\u001b[0m\n\u001b[1;32m    506\u001b[0m           outputs = execute.execute_with_cancellation(\n",
      "\u001b[0;32m~/miniconda3/envs/formal/lib/python3.7/site-packages/tensorflow/python/eager/execute.py\u001b[0m in \u001b[0;36mquick_execute\u001b[0;34m(op_name, num_outputs, inputs, attrs, ctx, name)\u001b[0m\n\u001b[1;32m     53\u001b[0m     \u001b[0mctx\u001b[0m\u001b[0;34m.\u001b[0m\u001b[0mensure_initialized\u001b[0m\u001b[0;34m(\u001b[0m\u001b[0;34m)\u001b[0m\u001b[0;34m\u001b[0m\u001b[0;34m\u001b[0m\u001b[0m\n\u001b[1;32m     54\u001b[0m     tensors = pywrap_tfe.TFE_Py_Execute(ctx._handle, device_name, op_name,\n\u001b[0;32m---> 55\u001b[0;31m                                         inputs, attrs, num_outputs)\n\u001b[0m\u001b[1;32m     56\u001b[0m   \u001b[0;32mexcept\u001b[0m \u001b[0mcore\u001b[0m\u001b[0;34m.\u001b[0m\u001b[0m_NotOkStatusException\u001b[0m \u001b[0;32mas\u001b[0m \u001b[0me\u001b[0m\u001b[0;34m:\u001b[0m\u001b[0;34m\u001b[0m\u001b[0;34m\u001b[0m\u001b[0m\n\u001b[1;32m     57\u001b[0m     \u001b[0;32mif\u001b[0m \u001b[0mname\u001b[0m \u001b[0;32mis\u001b[0m \u001b[0;32mnot\u001b[0m \u001b[0;32mNone\u001b[0m\u001b[0;34m:\u001b[0m\u001b[0;34m\u001b[0m\u001b[0;34m\u001b[0m\u001b[0m\n",
      "\u001b[0;31mKeyboardInterrupt\u001b[0m: "
     ]
    }
   ],
   "source": [
    "adv_model.evaluate(B, Y)"
   ]
  },
  {
   "cell_type": "code",
   "execution_count": null,
   "id": "6e44672c",
   "metadata": {},
   "outputs": [],
   "source": []
  }
 ],
 "metadata": {
  "kernelspec": {
   "display_name": "Python 3 (ipykernel)",
   "language": "python",
   "name": "python3"
  },
  "language_info": {
   "codemirror_mode": {
    "name": "ipython",
    "version": 3
   },
   "file_extension": ".py",
   "mimetype": "text/x-python",
   "name": "python",
   "nbconvert_exporter": "python",
   "pygments_lexer": "ipython3",
   "version": "3.7.11"
  }
 },
 "nbformat": 4,
 "nbformat_minor": 5
}
