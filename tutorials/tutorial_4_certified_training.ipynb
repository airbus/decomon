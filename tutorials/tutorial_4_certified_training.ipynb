{
 "cells": [
  {
   "cell_type": "code",
   "execution_count": null,
   "id": "07dc8cde",
   "metadata": {},
   "outputs": [],
   "source": [
    "import matplotlib.pyplot as plt\n",
    "import tensorflow.keras as keras\n",
    "\n",
    "%matplotlib inline\n",
    "import sys\n",
    "\n",
    "import numpy as np\n",
    "import tensorflow.keras.backend as K\n",
    "from tensorflow.keras.datasets import mnist\n",
    "from tensorflow.keras.layers import Dense, Input\n",
    "from tensorflow.keras.models import Model, Sequential\n",
    "\n",
    "sys.path.append(\"..\")"
   ]
  },
  {
   "cell_type": "code",
   "execution_count": null,
   "id": "061da8e2",
   "metadata": {},
   "outputs": [],
   "source": [
    "img_rows, img_cols = 28, 28\n",
    "(x_train, y_train_), (x_test, y_test_) = mnist.load_data()\n",
    "x_train = x_train.reshape((-1, 784))\n",
    "x_test = x_test.reshape((-1, 784))\n",
    "x_train = x_train.astype(\"float32\")\n",
    "x_test = x_test.astype(\"float32\")\n",
    "x_train /= 255.0\n",
    "x_test /= 255.0\n",
    "y_train = keras.utils.to_categorical(y_train_)\n",
    "y_test = keras.utils.to_categorical(y_test_)"
   ]
  },
  {
   "cell_type": "code",
   "execution_count": null,
   "id": "c015a60f",
   "metadata": {},
   "outputs": [],
   "source": [
    "model = Sequential()\n",
    "model.add(Dense(500, activation=\"relu\"))\n",
    "model.add(Dense(10, activation=\"softmax\"))"
   ]
  },
  {
   "cell_type": "code",
   "execution_count": null,
   "id": "0614a3f2",
   "metadata": {},
   "outputs": [],
   "source": [
    "model.compile(\"adam\", \"categorical_crossentropy\", metrics=[\"acc\"])"
   ]
  },
  {
   "cell_type": "code",
   "execution_count": null,
   "id": "78d8d36e",
   "metadata": {},
   "outputs": [],
   "source": [
    "model.fit(x_train, y_train, validation_split=0.2, batch_size=32, epochs=1, verbose=0)"
   ]
  },
  {
   "cell_type": "code",
   "execution_count": null,
   "id": "bc01cd04",
   "metadata": {},
   "outputs": [],
   "source": [
    "# model.save_weights('tuto_4_ongoing.hd5')"
   ]
  },
  {
   "cell_type": "code",
   "execution_count": null,
   "id": "9554c562",
   "metadata": {},
   "outputs": [],
   "source": [
    "model.evaluate(x_train, y_train)"
   ]
  },
  {
   "cell_type": "code",
   "execution_count": null,
   "id": "f8dd4b7c",
   "metadata": {},
   "outputs": [],
   "source": [
    "model.predict(x_train[:1]).argmax()"
   ]
  },
  {
   "cell_type": "code",
   "execution_count": null,
   "id": "ff67b011",
   "metadata": {},
   "outputs": [],
   "source": [
    "from decomon.models import clone"
   ]
  },
  {
   "cell_type": "code",
   "execution_count": null,
   "id": "9d6007a8",
   "metadata": {},
   "outputs": [],
   "source": [
    "from decomon import get_adv_box"
   ]
  },
  {
   "cell_type": "code",
   "execution_count": null,
   "id": "dd06d601",
   "metadata": {},
   "outputs": [],
   "source": [
    "eps = 0.1\n",
    "X_train = x_train\n",
    "X_train_min = X_train - eps\n",
    "X_train_max = X_train + eps\n",
    "Y_train = y_train\n",
    "B_train = np.concatenate([X_train_min[:, None], X_train_max[:, None]], 1)"
   ]
  },
  {
   "cell_type": "code",
   "execution_count": null,
   "id": "3d9e8894",
   "metadata": {},
   "outputs": [],
   "source": [
    "back_bounds = Input((10, 10))"
   ]
  },
  {
   "cell_type": "code",
   "execution_count": null,
   "id": "74049185",
   "metadata": {},
   "outputs": [],
   "source": [
    "decomon_nnet = clone(model, method=\"crown-ibp\", back_bounds=[back_bounds], finetune=False)"
   ]
  },
  {
   "cell_type": "code",
   "execution_count": null,
   "id": "5aa1f9c9",
   "metadata": {},
   "outputs": [],
   "source": [
    "from decomon.metrics import build_crossentropy_model"
   ]
  },
  {
   "cell_type": "code",
   "execution_count": null,
   "id": "10787b6d",
   "metadata": {},
   "outputs": [],
   "source": [
    "nnet = build_crossentropy_model(decomon_nnet)"
   ]
  },
  {
   "cell_type": "code",
   "execution_count": null,
   "id": "aca20165",
   "metadata": {},
   "outputs": [],
   "source": [
    "nnet.compile(\"adam\", \"categorical_crossentropy\")"
   ]
  },
  {
   "cell_type": "code",
   "execution_count": null,
   "id": "dd6e05e2",
   "metadata": {},
   "outputs": [],
   "source": [
    "C = np.diag([1] * 10)[None] - y_train[:, :, None]"
   ]
  },
  {
   "cell_type": "code",
   "execution_count": null,
   "id": "adcb636c",
   "metadata": {},
   "outputs": [],
   "source": [
    "get_adv_box(decomon_nnet, B_train[:10, 0], B_train[:10, 1], Y_train[:10])"
   ]
  },
  {
   "cell_type": "code",
   "execution_count": null,
   "id": "6838e168",
   "metadata": {},
   "outputs": [],
   "source": [
    "nnet.fit([B_train, C], Y_train, validation_data=0.2, epochs=10)"
   ]
  },
  {
   "cell_type": "code",
   "execution_count": null,
   "id": "6871618e",
   "metadata": {},
   "outputs": [],
   "source": []
  },
  {
   "cell_type": "code",
   "execution_count": null,
   "id": "12da8ab5",
   "metadata": {},
   "outputs": [],
   "source": [
    "decomon_nnet_ = clone(model, method=\"crown-hybrid\", finetune=False)"
   ]
  },
  {
   "cell_type": "code",
   "execution_count": null,
   "id": "7e821943",
   "metadata": {},
   "outputs": [],
   "source": [
    "get_adv_box(decomon_nnet_, B_train[:1, 0], B_train[:1, 1], Y_train[:1])"
   ]
  },
  {
   "cell_type": "code",
   "execution_count": null,
   "id": "99da05e7",
   "metadata": {},
   "outputs": [],
   "source": [
    "decomon_nnet.input"
   ]
  },
  {
   "cell_type": "code",
   "execution_count": null,
   "id": "2bc23933",
   "metadata": {},
   "outputs": [],
   "source": [
    "C = np.diag([1] * 10)[None] - y_train[:, :, None]"
   ]
  },
  {
   "cell_type": "code",
   "execution_count": null,
   "id": "77bab51e",
   "metadata": {},
   "outputs": [],
   "source": [
    "_, u_, _, _, l_, _, _ = decomon_nnet.predict([B_train[:1], C[:1]])"
   ]
  },
  {
   "cell_type": "code",
   "execution_count": null,
   "id": "b2911f21",
   "metadata": {},
   "outputs": [],
   "source": [
    "C = np.diag([1] * 10)[None]  # - y_train[:,None,:]\n",
    "_, u, _, _, l, _, _ = decomon_nnet.predict([B_train[:1], C[:1]])"
   ]
  },
  {
   "cell_type": "code",
   "execution_count": null,
   "id": "f004bf54",
   "metadata": {},
   "outputs": [],
   "source": [
    "u - l[0, 5]"
   ]
  },
  {
   "cell_type": "code",
   "execution_count": null,
   "id": "d6895ab9",
   "metadata": {},
   "outputs": [],
   "source": [
    "u_"
   ]
  },
  {
   "cell_type": "code",
   "execution_count": null,
   "id": "cfcf20de",
   "metadata": {},
   "outputs": [],
   "source": [
    "u"
   ]
  },
  {
   "cell_type": "code",
   "execution_count": null,
   "id": "1171f3fa",
   "metadata": {},
   "outputs": [],
   "source": [
    "l[0, 5]"
   ]
  },
  {
   "cell_type": "code",
   "execution_count": null,
   "id": "9f9e0b49",
   "metadata": {},
   "outputs": [],
   "source": [
    "from decomon.metrics import build_radius_robust_model"
   ]
  },
  {
   "cell_type": "code",
   "execution_count": null,
   "id": "8dc30322",
   "metadata": {},
   "outputs": [],
   "source": [
    "toto = build_radius_robust_model(decomon_nnet)"
   ]
  },
  {
   "cell_type": "code",
   "execution_count": null,
   "id": "f5294bd1",
   "metadata": {},
   "outputs": [],
   "source": [
    "toto.inputs"
   ]
  },
  {
   "cell_type": "code",
   "execution_count": null,
   "id": "24d00358",
   "metadata": {},
   "outputs": [],
   "source": [
    "eps = 0.015\n",
    "X_train = x_train\n",
    "X_train_min = X_train - eps\n",
    "X_train_max = X_train + eps\n",
    "Y_train = y_train\n",
    "B_train = np.concatenate([X_train_min[:, None], X_train_max[:, None]], 1)"
   ]
  },
  {
   "cell_type": "code",
   "execution_count": null,
   "id": "08f62b7d",
   "metadata": {},
   "outputs": [],
   "source": [
    "toto.predict(B_train[:1])"
   ]
  },
  {
   "cell_type": "code",
   "execution_count": null,
   "id": "17eb193d",
   "metadata": {},
   "outputs": [],
   "source": [
    "toto.predict(B_train[:1]).argmin()"
   ]
  },
  {
   "cell_type": "code",
   "execution_count": null,
   "id": "36e2cda6",
   "metadata": {},
   "outputs": [],
   "source": [
    "Y_train[:1].argmax()"
   ]
  },
  {
   "cell_type": "code",
   "execution_count": null,
   "id": "324f4d6d",
   "metadata": {},
   "outputs": [],
   "source": [
    "def loss(y_true, y_pred):\n",
    "    return K.sum(y_true * y_pred, -1)"
   ]
  },
  {
   "cell_type": "code",
   "execution_count": null,
   "id": "b952c186",
   "metadata": {},
   "outputs": [],
   "source": [
    "nnet.compile(\"adam\", loss)"
   ]
  },
  {
   "cell_type": "code",
   "execution_count": null,
   "id": "b6e8bce7",
   "metadata": {},
   "outputs": [],
   "source": [
    "toto.fit(B_train[:10], Y_train[:10], epochs=10)"
   ]
  },
  {
   "cell_type": "code",
   "execution_count": null,
   "id": "4f3e6624",
   "metadata": {},
   "outputs": [],
   "source": [
    "decomon_crown = clone(model, method=\"crown\", finetune=False)"
   ]
  },
  {
   "cell_type": "code",
   "execution_count": null,
   "id": "e1213dad",
   "metadata": {},
   "outputs": [],
   "source": [
    "decomon_crown.inputs"
   ]
  },
  {
   "cell_type": "code",
   "execution_count": null,
   "id": "51acf201",
   "metadata": {},
   "outputs": [],
   "source": [
    "def build_graph(model, dim=(2, 784)):\n",
    "    x = Input(shape=dim)\n",
    "    return Model(inputs=[x], outputs=model.call(x))"
   ]
  },
  {
   "cell_type": "code",
   "execution_count": null,
   "id": "578063ce",
   "metadata": {},
   "outputs": [],
   "source": [
    "toto = build_graph(decomon_crown).summary()"
   ]
  },
  {
   "cell_type": "code",
   "execution_count": null,
   "id": "dfc996f4",
   "metadata": {},
   "outputs": [],
   "source": [
    "tf.keras.utils.plot_model(build_graph(decomon_crown), to_file=\"crown.png\", expand_nested=True, show_shapes=True)"
   ]
  },
  {
   "cell_type": "code",
   "execution_count": null,
   "id": "c147908c",
   "metadata": {},
   "outputs": [],
   "source": [
    "from decomon import get_lower_box, get_upper_box"
   ]
  },
  {
   "cell_type": "code",
   "execution_count": null,
   "id": "a2ba8c34",
   "metadata": {},
   "outputs": [],
   "source": [
    "decomon_crown.summary()"
   ]
  },
  {
   "cell_type": "code",
   "execution_count": null,
   "id": "ebd3c9fb",
   "metadata": {},
   "outputs": [],
   "source": [
    "decomon_crown.method"
   ]
  },
  {
   "cell_type": "code",
   "execution_count": null,
   "id": "c8829bcd",
   "metadata": {},
   "outputs": [],
   "source": [
    "f_ibp = get_upper_box(decomon_nnet, B_train[:100, 0], B_train[:100, 1], batch_size=10)"
   ]
  },
  {
   "cell_type": "code",
   "execution_count": null,
   "id": "77bd92e0",
   "metadata": {},
   "outputs": [],
   "source": [
    "g_ibp = get_lower_box(decomon_nnet, B_train[:100, 0], B_train[:100, 1], batch_size=10)"
   ]
  },
  {
   "cell_type": "code",
   "execution_count": null,
   "id": "f1a736e2",
   "metadata": {},
   "outputs": [],
   "source": [
    "f_crown = get_upper_box(decomon_crown, B_train[:100, 0], B_train[:100, 1], batch_size=10)\n",
    "g_crown = get_lower_box(decomon_crown, B_train[:100, 0], B_train[:100, 1], batch_size=10)"
   ]
  },
  {
   "cell_type": "code",
   "execution_count": null,
   "id": "d6ed4add",
   "metadata": {},
   "outputs": [],
   "source": []
  },
  {
   "cell_type": "code",
   "execution_count": null,
   "id": "0b1e5abe",
   "metadata": {},
   "outputs": [],
   "source": [
    "import time\n",
    "start_time = time.process_time()\n",
    "y_ibp = "
   ]
  },
  {
   "cell_type": "code",
   "execution_count": null,
   "id": "1e6cfe1b",
   "metadata": {},
   "outputs": [],
   "source": [
    "# convert to training"
   ]
  },
  {
   "cell_type": "code",
   "execution_count": null,
   "id": "2780a2ff",
   "metadata": {},
   "outputs": [],
   "source": [
    "from decomon.metrics import build_crossentropy_model"
   ]
  },
  {
   "cell_type": "code",
   "execution_count": null,
   "id": "b40327c7",
   "metadata": {},
   "outputs": [],
   "source": [
    "decomon_training = build_crossentropy_model(decomon_nnet)"
   ]
  },
  {
   "cell_type": "code",
   "execution_count": null,
   "id": "b211f2d3",
   "metadata": {},
   "outputs": [],
   "source": [
    "decomon_evaluate = build_crossentropy_model(decomon_crown)"
   ]
  },
  {
   "cell_type": "code",
   "execution_count": null,
   "id": "555e4dee",
   "metadata": {},
   "outputs": [],
   "source": [
    "eps = 0.015\n",
    "X_train = x_train\n",
    "X_train_min = X_train - eps\n",
    "X_train_max = X_train + eps\n",
    "Y_train = y_train\n",
    "B_train = np.concatenate([X_train_min[:, None], X_train_max[:, None]], 1)"
   ]
  },
  {
   "cell_type": "code",
   "execution_count": null,
   "id": "f8f96d2a",
   "metadata": {},
   "outputs": [],
   "source": [
    "output_ibp = decomon_training.predict(B_train[:100])"
   ]
  },
  {
   "cell_type": "code",
   "execution_count": null,
   "id": "acaf1a95",
   "metadata": {},
   "outputs": [],
   "source": [
    "output_crown = decomon_evaluate.predict(B_train[:100], batch_size=10)"
   ]
  },
  {
   "cell_type": "code",
   "execution_count": null,
   "id": "8a89e788",
   "metadata": {},
   "outputs": [],
   "source": [
    "y_ibp = np.sum((output_ibp * Y_train[:100]), -1)"
   ]
  },
  {
   "cell_type": "code",
   "execution_count": null,
   "id": "235ba1d3",
   "metadata": {},
   "outputs": [],
   "source": [
    "y_crown = np.sum((output_crown * Y_train[:100]), -1)"
   ]
  },
  {
   "cell_type": "code",
   "execution_count": null,
   "id": "e3819d6c",
   "metadata": {},
   "outputs": [],
   "source": [
    "np.allclose(output_ibp, output_crown)"
   ]
  },
  {
   "cell_type": "code",
   "execution_count": null,
   "id": "deb02576",
   "metadata": {},
   "outputs": [],
   "source": [
    "plt.scatter(y_crown, y_ibp)"
   ]
  },
  {
   "cell_type": "code",
   "execution_count": null,
   "id": "e6b5edca",
   "metadata": {},
   "outputs": [],
   "source": [
    "decomon_training.compile(\"adam\", loss, metrics=[\"acc\"])"
   ]
  },
  {
   "cell_type": "code",
   "execution_count": null,
   "id": "fc9ffc03",
   "metadata": {},
   "outputs": [],
   "source": [
    "def loss(y_true, y_pred):\n",
    "    return K.mean(y_true * y_pred)"
   ]
  },
  {
   "cell_type": "code",
   "execution_count": null,
   "id": "2d7e0787",
   "metadata": {},
   "outputs": [],
   "source": [
    "decomon_training.compile(\"adam\", loss, metrics=[\"acc\"])"
   ]
  },
  {
   "cell_type": "code",
   "execution_count": null,
   "id": "78b5d83e",
   "metadata": {},
   "outputs": [],
   "source": []
  },
  {
   "cell_type": "code",
   "execution_count": null,
   "id": "1e3850ff",
   "metadata": {},
   "outputs": [],
   "source": [
    "decomon_training.fit(B_train, Y_train, validation_split=0.2, batch_size=100, epochs=1)"
   ]
  },
  {
   "cell_type": "code",
   "execution_count": null,
   "id": "82a0f491",
   "metadata": {},
   "outputs": [],
   "source": [
    "model.evaluate(x_train, y_train)"
   ]
  },
  {
   "cell_type": "code",
   "execution_count": null,
   "id": "0420c8d1",
   "metadata": {},
   "outputs": [],
   "source": []
  },
  {
   "cell_type": "code",
   "execution_count": null,
   "id": "f10407be",
   "metadata": {},
   "outputs": [],
   "source": [
    "from decomon import get_adv_box, get_adv_loss, get_model\n",
    "from decomon.models import clone"
   ]
  },
  {
   "cell_type": "code",
   "execution_count": null,
   "id": "cf852e56",
   "metadata": {},
   "outputs": [],
   "source": [
    "convex_domain = {\"name\": \"ball\", \"p\": np.inf, \"eps\": max(0, 0.015)}"
   ]
  },
  {
   "cell_type": "code",
   "execution_count": null,
   "id": "fe6984c8",
   "metadata": {},
   "outputs": [],
   "source": [
    "crown_ibp_ball = clone(model, method=\"crown-hybrid\", convex_domain=convex_domain, finetune=False)"
   ]
  },
  {
   "cell_type": "code",
   "execution_count": null,
   "id": "c9152f53",
   "metadata": {},
   "outputs": [],
   "source": [
    "crown_ibp_box = clone(model, method=\"crown-hybrid\", finetune=False)"
   ]
  },
  {
   "cell_type": "code",
   "execution_count": null,
   "id": "3b1db403",
   "metadata": {},
   "outputs": [],
   "source": [
    "from decomon import get_adv_box, get_adv_noise"
   ]
  },
  {
   "cell_type": "code",
   "execution_count": null,
   "id": "8330ffc3",
   "metadata": {},
   "outputs": [],
   "source": [
    "# build robustness bounds\n",
    "eps = 0.015\n",
    "X_train = x_train\n",
    "X_train_min = X_train - eps\n",
    "X_train_max = X_train + eps\n",
    "Y_train = y_train\n",
    "B_train = np.concatenate([X_train_min[:, None], X_train_max[:, None]], 1)\n",
    "\n",
    "X_test = x_test\n",
    "X_test_min = X_test - eps\n",
    "X_test_max = X_test + eps\n",
    "Y_test = y_test\n",
    "B_test = np.concatenate([X_test_min[:, None], X_test_max[:, None]], 1)"
   ]
  },
  {
   "cell_type": "code",
   "execution_count": null,
   "id": "cf53af2b",
   "metadata": {},
   "outputs": [],
   "source": [
    "adv_ball = get_adv_noise(crown_ibp_ball, X_train[:10], Y_train[:10], eps=0.015, p=np.inf)"
   ]
  },
  {
   "cell_type": "code",
   "execution_count": null,
   "id": "5893dd62",
   "metadata": {},
   "outputs": [],
   "source": [
    "adv_box = get_adv_box(crown_ibp_box, X_train_min[:10], X_train_max[:10], Y_train[:10])"
   ]
  },
  {
   "cell_type": "code",
   "execution_count": null,
   "id": "8e810acc",
   "metadata": {},
   "outputs": [],
   "source": [
    "adv_ball"
   ]
  },
  {
   "cell_type": "code",
   "execution_count": null,
   "id": "acfaab6d",
   "metadata": {},
   "outputs": [],
   "source": [
    "adv_box"
   ]
  },
  {
   "cell_type": "code",
   "execution_count": null,
   "id": "2729f4da",
   "metadata": {},
   "outputs": [],
   "source": [
    "def get_adv_noise(\n",
    "    model,\n",
    "    x,\n",
    "    source_labels,\n",
    "    eps=0,\n",
    "    p=np.inf,\n",
    "    target_labels=None,\n",
    "    batch_size=-1,\n",
    "    fast=True,\n",
    "):"
   ]
  },
  {
   "cell_type": "code",
   "execution_count": null,
   "id": "edde2cb4",
   "metadata": {},
   "outputs": [],
   "source": []
  },
  {
   "cell_type": "code",
   "execution_count": null,
   "id": "072b8c47",
   "metadata": {},
   "outputs": [],
   "source": [
    "adv_model = get_model(crown_ibp)"
   ]
  },
  {
   "cell_type": "code",
   "execution_count": null,
   "id": "c07c2857",
   "metadata": {},
   "outputs": [],
   "source": [
    "adv_loss = get_adv_loss(crown_ibp, softmax=False)"
   ]
  },
  {
   "cell_type": "code",
   "execution_count": null,
   "id": "b9d3cd18",
   "metadata": {},
   "outputs": [],
   "source": [
    "adv_model.compile(\"adam\", adv_loss)"
   ]
  },
  {
   "cell_type": "code",
   "execution_count": null,
   "id": "5a172956",
   "metadata": {},
   "outputs": [],
   "source": []
  },
  {
   "cell_type": "code",
   "execution_count": null,
   "id": "3616c1bf",
   "metadata": {},
   "outputs": [],
   "source": [
    "# model.save_weights('tuto_4_ongoing.hd5')"
   ]
  },
  {
   "cell_type": "code",
   "execution_count": null,
   "id": "29440ba4",
   "metadata": {},
   "outputs": [],
   "source": [
    "adv_model.evaluate(B_train[:1], Y_train[0:1])"
   ]
  },
  {
   "cell_type": "code",
   "execution_count": null,
   "id": "8d912c48",
   "metadata": {},
   "outputs": [],
   "source": [
    "adv_model.fit(B_train[:4], Y_train[:4], batch_size=10, epochs=10)"
   ]
  },
  {
   "cell_type": "code",
   "execution_count": null,
   "id": "74988b84",
   "metadata": {},
   "outputs": [],
   "source": [
    "crown_hybrid = clone(model, method=\"crown-hybrid\")"
   ]
  },
  {
   "cell_type": "code",
   "execution_count": null,
   "id": "e0692a94",
   "metadata": {},
   "outputs": [],
   "source": [
    "adv_train = get_adv_box(crown_ibp, X_train_min[:10], X_train_max[:10], Y_train[:10])"
   ]
  },
  {
   "cell_type": "code",
   "execution_count": null,
   "id": "f968fdd4",
   "metadata": {},
   "outputs": [],
   "source": [
    "adv_train"
   ]
  },
  {
   "cell_type": "code",
   "execution_count": null,
   "id": "f85e7d14",
   "metadata": {},
   "outputs": [],
   "source": [
    "upper = get_adv_box(decomon_model, x_min, x_max, source_labels=source_label, n_sub_boxes=4)"
   ]
  },
  {
   "cell_type": "code",
   "execution_count": null,
   "id": "81c01b5e",
   "metadata": {},
   "outputs": [],
   "source": [
    "adv_model.evaluate(B, Y)"
   ]
  },
  {
   "cell_type": "code",
   "execution_count": null,
   "id": "6e44672c",
   "metadata": {},
   "outputs": [],
   "source": []
  }
 ],
 "metadata": {
  "kernelspec": {
   "display_name": "Python 3 (ipykernel)",
   "language": "python",
   "name": "python3"
  },
  "language_info": {
   "codemirror_mode": {
    "name": "ipython",
    "version": 3
   },
   "file_extension": ".py",
   "mimetype": "text/x-python",
   "name": "python",
   "nbconvert_exporter": "python",
   "pygments_lexer": "ipython3",
   "version": "3.7.11"
  }
 },
 "nbformat": 4,
 "nbformat_minor": 5
}
