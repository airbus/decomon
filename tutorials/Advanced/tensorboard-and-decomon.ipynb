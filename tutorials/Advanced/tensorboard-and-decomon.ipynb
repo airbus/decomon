{
 "cells": [
  {
   "cell_type": "markdown",
   "metadata": {},
   "source": [
    "# Tensorboard with decomon\n",
    "\n",
    "\n",
    "In this notebook, we show how to have a look to the graph of a decomon model.\n",
    "\n",
    "We use here the same model as in [tutorial 1](../tutorial1_sinus-interactive.ipynb) and you should refer to it for any details about how it works.\n"
   ]
  },
  {
   "cell_type": "markdown",
   "metadata": {},
   "source": [
    "## Prerequisites\n",
    "\n",
    "Because decomon models have specificities, visualizing them with tensorboard reveal some bug in the library and we need to get the last version of tensorboard available on master to make the notebook work. (The bug fix should be included in future 2.13.0)\n",
    "\n",
    "\n"
   ]
  },
  {
   "cell_type": "markdown",
   "metadata": {},
   "source": [
    "### On local Jupyter\n",
    "\n",
    "Here is a way to install decomon with the nightly version of tensorflow (including the nighly version of tensorboard) available as package \"tf-nightly\". We need to install the dependencies of decomon manually and then to use --no-deps option to install decomon, because tf-nightly is not recognized as tensorflow by pip.\n",
    "\n",
    "\n",
    "```shell\n",
    "# create and activate a new environment\n",
    "python -m venv decomon-tf-nightly-venv \n",
    ". decomon-tf-nightly-venv/bin/activate\n",
    "\n",
    "# update pip\n",
    "pip install -U pip\n",
    "\n",
    "# install tensorflow nightly and matplotlib (dependencies of decomon)\n",
    "pip install tf-nightly matplotlib\n",
    "\n",
    "# install decomon without dependencies\n",
    "# pip install --no-deps decomon  # from pypi\n",
    "pip install --no-deps -e .  # from source in developer mode, from root directory of decomon repository\n",
    "\n",
    "# install jupyter to run this notebook!\n",
    "pip install jupyter\n",
    "jupyter notebook tutorials/Advanced/tensorboard-and-decomon.ipynb &\n",
    "```"
   ]
  },
  {
   "cell_type": "markdown",
   "metadata": {},
   "source": [
    "### On Binder or Colab\n",
    "\n",
    "**Disclaimer:**\n",
    "As the environment on binder or colab are using released version of tensorflow (and thus tensorboard), we cannot ensure that the notebook will work as it is for now. (Up to the moment where 2.13.0 will be released)\n",
    "\n"
   ]
  },
  {
   "cell_type": "code",
   "execution_count": null,
   "metadata": {},
   "outputs": [],
   "source": [
    "import socket\n",
    "\n",
    "on_colab = \"google.colab\" in str(get_ipython())  # running on colab?\n",
    "on_binder = socket.gethostname().startswith(\"jupyter-\")  # running on binder? (not 100% sure but rather robust)\n",
    "\n",
    "if on_colab or on_binder:\n",
    "    raise RuntimeError(\n",
    "        \"Do not run this notebook on Binder or Colab. \"\n",
    "        \"Please test it locally for now, until tensorflow 2.13.0 is released.\"\n",
    "    )"
   ]
  },
  {
   "cell_type": "markdown",
   "metadata": {},
   "source": [
    "## Imports"
   ]
  },
  {
   "cell_type": "code",
   "execution_count": null,
   "metadata": {},
   "outputs": [],
   "source": [
    "%load_ext tensorboard\n",
    "\n",
    "from datetime import datetime\n",
    "\n",
    "import numpy as np\n",
    "import tensorflow as tf\n",
    "import tensorflow.keras as keras\n",
    "from tensorflow.keras.layers import Activation, Dense\n",
    "from tensorflow.keras.models import Sequential\n",
    "\n",
    "from decomon.models import clone\n",
    "from decomon.wrapper import get_lower_box, get_upper_box\n",
    "\n",
    "print(\"Notebook run using keras:\", keras.__version__)"
   ]
  },
  {
   "cell_type": "markdown",
   "metadata": {},
   "source": [
    "## Initial Keras model"
   ]
  },
  {
   "cell_type": "markdown",
   "metadata": {},
   "source": [
    "### Build model\n",
    "\n",
    "The sinusoide funtion is defined on a $[-1 ; 1 ]$ interval. We put a factor in the sinusoide to have several periods of oscillations. \n"
   ]
  },
  {
   "cell_type": "code",
   "execution_count": null,
   "metadata": {},
   "outputs": [],
   "source": [
    "x = np.linspace(-1, 1, 1000)\n",
    "y = np.sin(10 * x)"
   ]
  },
  {
   "cell_type": "markdown",
   "metadata": {},
   "source": [
    "We approximate this function by a fully connected network composed of 4 hidden layers of size 100, 100, 20 and 20 respectively. Rectified Linear Units (ReLU) are chosen as activation functions for all the neurons. "
   ]
  },
  {
   "cell_type": "code",
   "execution_count": null,
   "metadata": {},
   "outputs": [],
   "source": [
    "layers = []\n",
    "layers.append(Dense(100, activation=\"linear\", input_dim=1, name=\"dense1\"))  # specify the dimension of the input space\n",
    "layers.append(Activation(\"relu\", name=\"relu1\"))\n",
    "layers.append(Dense(100, activation=\"linear\", name=\"dense2\"))\n",
    "layers.append(Activation(\"relu\", name=\"relu2\"))\n",
    "layers.append(Dense(20, activation=\"linear\", name=\"dense3\"))\n",
    "layers.append(Activation(\"relu\", name=\"relu3\"))\n",
    "layers.append(Dense(20, activation=\"linear\", name=\"dense4\"))\n",
    "layers.append(Activation(\"relu\", name=\"relu4\"))\n",
    "layers.append(Dense(1, activation=\"linear\", name=\"dense5\"))\n",
    "model = Sequential(layers)"
   ]
  },
  {
   "cell_type": "markdown",
   "metadata": {},
   "source": [
    "### Fit model"
   ]
  },
  {
   "cell_type": "markdown",
   "metadata": {},
   "source": [
    "Uncomment the cell below if you want to see the op graph generated during model fit, later in [tensorboard](#Tensorboard)."
   ]
  },
  {
   "cell_type": "raw",
   "metadata": {},
   "source": [
    "model.compile(\"adam\", \"mse\")\n",
    "\n",
    "# Define the Keras TensorBoard callback.\n",
    "logdir=\"logs/fit/\" + datetime.now().strftime(\"%Y%m%d-%H%M%S\")\n",
    "tensorboard_callback = keras.callbacks.TensorBoard(log_dir=logdir)\n",
    "\n",
    "model.fit(x, y, batch_size=32, shuffle=True, epochs=10, verbose=1, callbacks=[tensorboard_callback])\n",
    "# verbose=0 removes the printing along the training, *but* it prevent op graph in tensorboard (?!)\n",
    "# verbose=2 does not allow neither op graph in tensorboard, beware !"
   ]
  },
  {
   "cell_type": "markdown",
   "metadata": {},
   "source": [
    "## Conversion to decomon model"
   ]
  },
  {
   "cell_type": "code",
   "execution_count": null,
   "metadata": {},
   "outputs": [],
   "source": [
    "# convert our model into a decomon model:\n",
    "decomon_model = clone(model, method=\"crown\")  # method is optionnal"
   ]
  },
  {
   "cell_type": "markdown",
   "metadata": {},
   "source": [
    "## Visualization"
   ]
  },
  {
   "cell_type": "markdown",
   "metadata": {},
   "source": [
    "### Serialization to json"
   ]
  },
  {
   "cell_type": "code",
   "execution_count": null,
   "metadata": {},
   "outputs": [],
   "source": [
    "print(model.to_json())"
   ]
  },
  {
   "cell_type": "code",
   "execution_count": null,
   "metadata": {},
   "outputs": [],
   "source": [
    "print(decomon_model.to_json())"
   ]
  },
  {
   "cell_type": "markdown",
   "metadata": {},
   "source": [
    "### Visualization with Graphviz and pydot"
   ]
  },
  {
   "cell_type": "markdown",
   "metadata": {},
   "source": [
    "You need to install pydot and graphviz to make it work. If available, uncomment the 2 next cells."
   ]
  },
  {
   "cell_type": "raw",
   "metadata": {},
   "source": [
    "tf.keras.utils.plot_model(\n",
    "    model,\n",
    "    to_file=\"model.png\",\n",
    "    show_shapes=False,\n",
    "    show_dtype=False,\n",
    "    show_layer_names=True,\n",
    "    rankdir=\"TB\",\n",
    "    expand_nested=False,\n",
    "    dpi=96,\n",
    "    layer_range=None,\n",
    "    show_layer_activations=False,\n",
    ")"
   ]
  },
  {
   "cell_type": "raw",
   "metadata": {},
   "source": [
    "tf.keras.utils.plot_model(\n",
    "    decomon_model,\n",
    "    to_file=\"decomon_model.png\",\n",
    "    show_shapes=False,\n",
    "    show_dtype=False,\n",
    "    show_layer_names=True,\n",
    "    rankdir=\"TB\",\n",
    "    expand_nested=False,\n",
    "    dpi=96,\n",
    "    layer_range=None,\n",
    "    show_layer_activations=False,\n",
    ")"
   ]
  },
  {
   "cell_type": "markdown",
   "metadata": {},
   "source": [
    "### Tensorboard"
   ]
  },
  {
   "cell_type": "markdown",
   "metadata": {},
   "source": [
    "We create a log file by setting respectively the Keras and Decomon models to a tensorboard callback."
   ]
  },
  {
   "cell_type": "code",
   "execution_count": null,
   "metadata": {},
   "outputs": [],
   "source": [
    "logdir = \"logs/keras-graph/\" + datetime.now().strftime(\"%Y%m%d-%H%M%S\")\n",
    "tensorboard_callback = keras.callbacks.TensorBoard(log_dir=logdir, write_graph=True)\n",
    "tensorboard_callback.set_model(model)"
   ]
  },
  {
   "cell_type": "code",
   "execution_count": null,
   "metadata": {},
   "outputs": [],
   "source": [
    "logdir = \"logs/decomon-graph/\" + datetime.now().strftime(\"%Y%m%d-%H%M%S\")\n",
    "tensorboard_callback = keras.callbacks.TensorBoard(log_dir=logdir, write_graph=True)\n",
    "tensorboard_callback.set_model(decomon_model)"
   ]
  },
  {
   "cell_type": "markdown",
   "metadata": {},
   "source": [
    "We launch tensorboard to visualize the graph. \n",
    "As the op graph is not available without fit, you need to select tag \"keras\" and graph type \"Conceptual graph\" on  the right to make it work. \n",
    "In \"Run\" drop-down menu, select \"decomon-graph\" and then double click on the big node to develop the graph."
   ]
  },
  {
   "cell_type": "code",
   "execution_count": null,
   "metadata": {},
   "outputs": [],
   "source": [
    "%tensorboard --logdir logs"
   ]
  }
 ],
 "metadata": {
  "kernelspec": {
   "display_name": "Python 3 (ipykernel)",
   "language": "python",
   "name": "python3"
  },
  "language_info": {
   "codemirror_mode": {
    "name": "ipython",
    "version": 3
   },
   "file_extension": ".py",
   "mimetype": "text/x-python",
   "name": "python",
   "nbconvert_exporter": "python",
   "pygments_lexer": "ipython3",
   "version": "3.9.12"
  },
  "toc": {
   "base_numbering": 1,
   "nav_menu": {},
   "number_sections": true,
   "sideBar": true,
   "skip_h1_title": true,
   "title_cell": "Table of Contents",
   "title_sidebar": "Contents",
   "toc_cell": false,
   "toc_position": {
    "height": "calc(100% - 180px)",
    "left": "10px",
    "top": "150px",
    "width": "512px"
   },
   "toc_section_display": true,
   "toc_window_display": true
  }
 },
 "nbformat": 4,
 "nbformat_minor": 4
}
