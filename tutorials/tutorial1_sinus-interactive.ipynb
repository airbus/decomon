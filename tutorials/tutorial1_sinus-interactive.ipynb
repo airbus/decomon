{
 "cells": [
  {
   "cell_type": "markdown",
   "metadata": {},
   "source": [
    "# DECOMON tutorial #1\n",
    "## Bounding the sinus function approximation"
   ]
  },
  {
   "cell_type": "markdown",
   "metadata": {},
   "source": [
    "## Introduction\n",
    "\n",
    "After training a model, we want to make sure that the model will give the same output for any images \"close\" to the initial one, showing some robustness to perturbation. \n",
    "\n",
    "In this notebook, we use a simple sinus function as the reference model we want to approximate with a Neural Network. \n",
    "The objective is to have a formal proof that outputs of the neural network will not go to weird values. \n",
    "\n",
    "In the first part of the notebook, we define the reference function, build a training and test dataset and learn a dense fully connected neural network to approximate this reference function. \n",
    "\n",
    "In the second part of the notebook, we build a monotonic decomposition of the learnt model to compute guaranteed bounds to the output of the model.  \n",
    "\n",
    "What we will show is how decomon module is able to provide guaranteed bounds that ensure our approximation will never have a strange behaviour between test dataset points. "
   ]
  },
  {
   "cell_type": "markdown",
   "metadata": {},
   "source": [
    "## The notebook\n",
    "\n",
    "### imports"
   ]
  },
  {
   "cell_type": "code",
   "execution_count": 1,
   "metadata": {},
   "outputs": [
    {
     "name": "stdout",
     "output_type": "stream",
     "text": [
      "Notebook run using keras: 2.4.0\n"
     ]
    }
   ],
   "source": [
    "import os\n",
    "import tensorflow.keras as keras\n",
    "import matplotlib.pyplot as plt\n",
    "%matplotlib inline\n",
    "import numpy as np\n",
    "import tensorflow.keras.backend as K\n",
    "from tensorflow.keras.models import Model, Sequential\n",
    "from tensorflow.keras.layers import Input, Lambda, Activation, Reshape, \\\n",
    "Conv2D, Add, Flatten, Dense, Layer, MaxPooling2D, Subtract, Concatenate, Multiply, Add, Subtract\n",
    "from ipywidgets import interact, interactive, fixed, interact_manual\n",
    "import ipywidgets as widgets\n",
    "print('Notebook run using keras:', keras.__version__)\n",
    "import sys\n",
    "sys.path.append('..')"
   ]
  },
  {
   "cell_type": "markdown",
   "metadata": {},
   "source": [
    "### Build and Train a Neural Network on a sinusoide\n",
    "\n",
    "The sinusoide funtion is defined on a $[-1 ; 1 ]$ interval. We put a factor in the sinusoide to have several periods of oscillations. \n"
   ]
  },
  {
   "cell_type": "code",
   "execution_count": 2,
   "metadata": {},
   "outputs": [],
   "source": [
    "x = np.linspace(-1, 1, 1000)\n",
    "y = np.sin(10*x)"
   ]
  },
  {
   "cell_type": "markdown",
   "metadata": {},
   "source": [
    "We approximate this funciton by a fully connected network composed of 4 hidden layers of size 100, 100, 20 and 20 respectively. Rectified Linear Units (ReLU) are chosen as activation functions for all the neurons. "
   ]
  },
  {
   "cell_type": "code",
   "execution_count": 3,
   "metadata": {},
   "outputs": [],
   "source": [
    "layers = []\n",
    "layers.append(Dense(100, activation='relu', input_dim=1)) # specify the dimension of the input space\n",
    "layers.append(Dense(100, activation='relu'))\n",
    "layers.append(Dense(20, activation='relu'))\n",
    "layers.append(Dense(20, activation='relu'))\n",
    "layers.append(Dense(1, activation='linear'))\n",
    "model = Sequential(layers)"
   ]
  },
  {
   "cell_type": "markdown",
   "metadata": {},
   "source": [
    "we specify the optimization method and the metric, in this case a classical Means Square Error. "
   ]
  },
  {
   "cell_type": "code",
   "execution_count": 4,
   "metadata": {},
   "outputs": [],
   "source": [
    "model.compile('adam', 'mse')"
   ]
  },
  {
   "cell_type": "markdown",
   "metadata": {},
   "source": [
    "we train the neural network"
   ]
  },
  {
   "cell_type": "code",
   "execution_count": 5,
   "metadata": {},
   "outputs": [
    {
     "data": {
      "text/plain": [
       "<tensorflow.python.keras.callbacks.History at 0x1670aeba8>"
      ]
     },
     "execution_count": 5,
     "metadata": {},
     "output_type": "execute_result"
    }
   ],
   "source": [
    "model.fit(x, y, batch_size=32, shuffle=True, epochs=100, verbose=0) \n",
    "# verbose=0 removes the printing along the training"
   ]
  },
  {
   "cell_type": "markdown",
   "metadata": {},
   "source": [
    "we can now display the output of our neural network on a more refined grid. "
   ]
  },
  {
   "cell_type": "code",
   "execution_count": 6,
   "metadata": {},
   "outputs": [],
   "source": [
    "x_test = np.linspace(-1, 1, 2000)\n",
    "y_pred = model.predict(x_test)"
   ]
  },
  {
   "cell_type": "code",
   "execution_count": 7,
   "metadata": {},
   "outputs": [
    {
     "data": {
      "text/plain": [
       "<matplotlib.legend.Legend at 0x1111652b0>"
      ]
     },
     "execution_count": 7,
     "metadata": {},
     "output_type": "execute_result"
    },
    {
     "data": {
      "image/png": "[encoded data removed]",
      "text/plain": [
       "<Figure size 432x288 with 1 Axes>"
      ]
     },
     "metadata": {
      "needs_background": "light"
     },
     "output_type": "display_data"
    }
   ],
   "source": [
    "plt.plot(x_test, y_pred)\n",
    "plt.legend(['NN'])"
   ]
  },
  {
   "cell_type": "markdown",
   "metadata": {},
   "source": [
    "It looks reasonably as a sinus function and nothing crazy is happening. Still, are we able to ensure that between a finer grid, there will not be a point where the learnt model will not output a crazy output? The answer is in general no, we cannot. And this is more and more true when the complexity of the model is increasing. \n",
    "\n",
    "Fortunately, decomon allows to find rigorous bounds of the model that will be true on the full input domain definition. \n",
    "\n",
    "<img src=\"./decomon.jpg\" alt=\"Decomon!\" width=\"400\"/>\n",
    "\n",
    "### applying decomon"
   ]
  },
  {
   "cell_type": "code",
   "execution_count": 8,
   "metadata": {},
   "outputs": [],
   "source": [
    "import decomon"
   ]
  },
  {
   "cell_type": "code",
   "execution_count": 9,
   "metadata": {},
   "outputs": [],
   "source": [
    "import tensorflow"
   ]
  },
  {
   "cell_type": "code",
   "execution_count": 10,
   "metadata": {},
   "outputs": [
    {
     "data": {
      "text/plain": [
       "'2.4.1'"
      ]
     },
     "execution_count": 10,
     "metadata": {},
     "output_type": "execute_result"
    }
   ],
   "source": [
    "tensorflow.__version__"
   ]
  },
  {
   "cell_type": "code",
   "execution_count": 11,
   "metadata": {},
   "outputs": [],
   "source": [
    "from decomon.models import convert\n",
    "from decomon import get_upper_box, get_lower_box, get_range_box"
   ]
  },
  {
   "cell_type": "markdown",
   "metadata": {},
   "source": [
    "First, we can compute global constant upper and lower bounds that hold for the whole interval [-1, 1]"
   ]
  },
  {
   "cell_type": "code",
   "execution_count": 12,
   "metadata": {},
   "outputs": [],
   "source": [
    "# convert our model into a decomon model:\n",
    "decomon_model = convert(model)"
   ]
  },
  {
   "cell_type": "code",
   "execution_count": 13,
   "metadata": {},
   "outputs": [
    {
     "data": {
      "text/plain": [
       "<matplotlib.legend.Legend at 0x16993b278>"
      ]
     },
     "execution_count": 13,
     "metadata": {},
     "output_type": "execute_result"
    },
    {
     "data": {
      "image/png": "[encoded data removed]",
      "text/plain": [
       "<Figure size 432x288 with 1 Axes>"
      ]
     },
     "metadata": {
      "needs_background": "light"
     },
     "output_type": "display_data"
    }
   ],
   "source": [
    "X_min = np.array([x.min()])\n",
    "X_max = np.array([x.max()])\n",
    "\n",
    "global_upper = get_upper_box(decomon_model, X_min, X_max)\n",
    "global_lower = get_lower_box(decomon_model, X_min, X_max)\n",
    "\n",
    "plt.plot(x_test, y_pred)\n",
    "plt.plot(x_test, global_upper*np.ones_like(y_pred))\n",
    "plt.plot(x_test, global_lower*np.ones_like(y_pred))\n",
    "plt.legend(['NN', 'global upper', 'global lower'])"
   ]
  },
  {
   "cell_type": "markdown",
   "metadata": {},
   "source": [
    "In a tighter region, the bounds became tighter\n",
    "\n"
   ]
  },
  {
   "cell_type": "code",
   "execution_count": 16,
   "metadata": {},
   "outputs": [
    {
     "name": "stdout",
     "output_type": "stream",
     "text": [
      "if -0.25<= x <= 0.25, we can ensure that [[-7.6056]] <= NN(x) <= [[6.3794637]]\n"
     ]
    }
   ],
   "source": [
    "# you can play with the interval [x_min, x_max]\n",
    "x_min = -0.25\n",
    "x_max = 0.25\n",
    "X_min = np.array([x_min])\n",
    "X_max = np.array([x_max])\n",
    "\n",
    "refine_upper, refine_lower = get_range_box(decomon_model, X_min, X_max)\n",
    "\n",
    "print('if {}<= x <= {}, we can ensure that {} <= NN(x) <= {}'.format(x_min, x_max, refine_lower, refine_upper))"
   ]
  },
  {
   "cell_type": "markdown",
   "metadata": {},
   "source": [
    "In this one line of code, taking as input the trained model, a model implementing the monotonic decomposition is built. Taking advantage of the increasingness and decreasingness of the two functions into which we have decomposed our learnt model, we are able to derive rigorous bounds on each part of the input space.  "
   ]
  },
  {
   "cell_type": "code",
   "execution_count": 18,
   "metadata": {},
   "outputs": [],
   "source": [
    "def func(min_value=-1., max_value=1., n_step=300):\n",
    "    \n",
    "    if min_value>max_value:\n",
    "        print('Error min_value={} >max_value={}. Reset the demo to the whole domain'.format(min_value, max_value))\n",
    "        min_value=-1\n",
    "        max_value=1.\n",
    "    samples = np.linspace(min_value, max_value, n_step)\n",
    "    \n",
    "    upper = get_upper_box(decomon_model,samples[:-1], samples[1:])\n",
    "    lower = get_lower_box(decomon_model,samples[:-1], samples[1:])\n",
    "    \n",
    "    y_samples = model.predict(samples)\n",
    "\n",
    "    x_ =[]\n",
    "    upper_=[]\n",
    "    lower_=[]\n",
    "\n",
    "    # lower and upper bounds are step function\n",
    "    for i in range(n_step-1):\n",
    "        x_.append(samples[i])\n",
    "        x_.append(samples[i+1])\n",
    "        upper_.append(upper[i])\n",
    "        upper_.append(upper[i])\n",
    "        lower_.append(lower[i])\n",
    "        lower_.append(lower[i])\n",
    "        \n",
    "    ##########\n",
    "    n_cols = 2\n",
    "    fig, axs = plt.subplots(n_cols)\n",
    "    fig.set_figheight(n_cols*fig.get_figheight())\n",
    "    fig.set_figwidth(n_cols*fig.get_figwidth())\n",
    "    plt.subplots_adjust(hspace=0.2)  # increase vertical separation\n",
    "    axs_seq = axs.ravel()\n",
    "\n",
    "    ax= axs[0]\n",
    "    ax.plot(x_test, y_pred)\n",
    "    ax.plot(samples, y_samples, 'x', c='k')\n",
    "    #ax.imshow(x.reshape((28,28)), cmap='Greys')\n",
    "    #ax.get_xaxis().set_visible(False)\n",
    "    #ax.get_yaxis().set_visible(False    \n",
    "    ax.legend(['NN'])\n",
    "    ax.set_title('Sampling n_step={}'.format(n_step))\n",
    "    \n",
    "    ax= axs[1]\n",
    "    ax.plot(samples, y_samples)\n",
    "    ax.plot(samples, y_samples, 'x', c='k')\n",
    "    ax.plot(x_, upper_, c='purple')\n",
    "    ax.plot(x_, lower_, c='orange')\n",
    "    ax.legend(['NN', 'upper', 'lower'])\n",
    "    ax.set_title('Bounding the prediction of the neural network')"
   ]
  },
  {
   "cell_type": "code",
   "execution_count": 19,
   "metadata": {},
   "outputs": [
    {
     "data": {
      "application/vnd.jupyter.widget-view+json": {
       "model_id": "ac0bab2aaef449a1aa0961c4aae4e0e0",
       "version_major": 2,
       "version_minor": 0
      },
      "text/plain": [
       "interactive(children=(FloatSlider(value=-1.0, continuous_update=False, description='min_value', max=1.0, min=-…"
      ]
     },
     "metadata": {},
     "output_type": "display_data"
    },
    {
     "data": {
      "text/plain": [
       "<function __main__.func(min_value=-1.0, max_value=1.0, n_step=300)>"
      ]
     },
     "execution_count": 19,
     "metadata": {},
     "output_type": "execute_result"
    }
   ],
   "source": [
    "interact(func, n_step = widgets.IntSlider(value=0,\n",
    "                                               min=5,\n",
    "                                               max=100,\n",
    "                                               step=1, continuous_update=False),\n",
    "        min_value = widgets.FloatSlider(value=-1,\n",
    "                                               min=-1,\n",
    "                                               max=1.,\n",
    "                                               step=0.01, continuous_update=False),\n",
    "        max_value = widgets.FloatSlider(value=1,\n",
    "                                               min=-1,\n",
    "                                               max=1,\n",
    "                                               step=0.01, continuous_update=False),\n",
    "        )"
   ]
  },
  {
   "cell_type": "markdown",
   "metadata": {},
   "source": [
    "In the previous interactive graph, you can set:\n",
    "- n_step: the number of intervals on which we divide the input space to improve the bounds deduced from the monotonic decomposition\n",
    "- min_value: the minimun value of the interval\n",
    "- max_value: the maximum value of the interval\n",
    "\n",
    "The graphs below show you:\n",
    "- the trained model with sample values drawn with the n_step discretization of the $[min_value ; max_value]$ interval\n",
    "- the increasing and decreasing function on each local interval and in dashed the increasing and decreasing function computed on the whole interval\n",
    "- the bounds computed with the monotonic decomposition on the n_step intervals\n",
    "- the increasing and decreasing function on each local interval \n",
    "\n",
    "Increasing the number of n_step allows to have tighter bounds. Hopefully, this number will keep reasonable for your preferred model!\n",
    "\n",
    "Enjoy!"
   ]
  }
 ],
 "metadata": {
  "kernelspec": {
   "display_name": "Python 3",
   "language": "python",
   "name": "python3"
  },
  "language_info": {
   "codemirror_mode": {
    "name": "ipython",
    "version": 3
   },
   "file_extension": ".py",
   "mimetype": "text/x-python",
   "name": "python",
   "nbconvert_exporter": "python",
   "pygments_lexer": "ipython3",
   "version": "3.6.10"
  }
 },
 "nbformat": 4,
 "nbformat_minor": 4
}
