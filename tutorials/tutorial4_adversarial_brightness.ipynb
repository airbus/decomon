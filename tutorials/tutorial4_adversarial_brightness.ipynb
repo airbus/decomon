{
 "cells": [
  {
   "cell_type": "markdown",
   "id": "included-promise",
   "metadata": {},
   "source": [
    "# DECOMON tutorial #4 \n",
    "## Local Robustness to Brightness perturbations"
   ]
  },
  {
   "cell_type": "markdown",
   "id": "international-particular",
   "metadata": {},
   "source": [
    "## Introduction\n",
    "\n",
    "After training a model, we want to make sure that the model will give the same output for any images \"close\" to the initial one, showing some robustness to perturbation. \n",
    "\n",
    "In this notebook, we start from a classifier built on MNIST dataset that given a hand-written digit as input will predict the digit. This will be the first part of the notebook.\n",
    "\n",
    "<img src=\"./data/Plot-of-a-Subset-of-Images-from-the-MNIST-Dataset.png\" alt=\"examples of hand-written digit\" width=\"600\"/>\n",
    "\n",
    "In the second part of the notebook, we will investigate the robustness of this model to unstructured modification of the input space: adversarial attacks. For this kind of attacks, **we vary the magnitude of the perturbation of the initial image** and want to assess that despite this noise, the classifier's prediction remain unchanged.\n",
    "\n",
    "<img src=\"./data/illustration_adv_attacks.jpeg\" alt=\"examples of hand-written digit\" width=\"600\"/>\n",
    "\n",
    "What we will show is the use of decomon module to assess the robustness of the prediction towards noise."
   ]
  },
  {
   "cell_type": "markdown",
   "id": "musical-commodity",
   "metadata": {},
   "source": [
    "## The notebook\n",
    "\n",
    "### imports"
   ]
  },
  {
   "cell_type": "code",
   "execution_count": 1,
   "id": "anonymous-marijuana",
   "metadata": {},
   "outputs": [],
   "source": [
    "import os\n",
    "import tensorflow.keras as keras\n",
    "import matplotlib.pyplot as plt\n",
    "import matplotlib.patches as patches\n",
    "%matplotlib inline\n",
    "import numpy as np\n",
    "import tensorflow.keras.backend as K\n",
    "from tensorflow.keras.models import Sequential, Model, load_model\n",
    "from tensorflow.keras.layers import Dense\n",
    "from tensorflow.keras.datasets import mnist\n",
    "from ipywidgets import interact, interactive, fixed, interact_manual\n",
    "from ipykernel.pylab.backend_inline import flush_figures\n",
    "import ipywidgets as widgets\n",
    "import time\n",
    "import sys\n",
    "sys.path.append('..')\n",
    "import os.path\n",
    "import os\n",
    "import pickle as pkl\n",
    "from contextlib import closing\n",
    "import time"
   ]
  },
  {
   "cell_type": "markdown",
   "id": "corrected-appeal",
   "metadata": {},
   "source": [
    "### load images\n",
    "\n",
    "We load MNIST data from keras datasets. \n"
   ]
  },
  {
   "cell_type": "code",
   "execution_count": 2,
   "id": "cosmetic-schedule",
   "metadata": {},
   "outputs": [],
   "source": [
    "img_rows, img_cols = 28, 28\n",
    "(x_train, y_train_), (x_test, y_test_) = mnist.load_data()\n",
    "x_train = x_train.reshape((-1, 784))\n",
    "x_test = x_test.reshape((-1, 784))\n",
    "x_train = x_train.astype('float32')\n",
    "x_test = x_test.astype('float32')\n",
    "x_train /= 255.\n",
    "x_test /= 255.\n",
    "y_train = keras.utils.to_categorical(y_train_)\n",
    "y_test = keras.utils.to_categorical(y_test_)"
   ]
  },
  {
   "cell_type": "markdown",
   "id": "global-martin",
   "metadata": {},
   "source": [
    "### learn the model (classifier for MNIST images)\n",
    "\n",
    "For the model, we use a small fully connected network. It is made of 6 layers with 100 units each and ReLU activation functions. **Decomon** is compatible with a large set of Keras layers, so do not hesitate to modify the architecture."
   ]
  },
  {
   "cell_type": "code",
   "execution_count": 3,
   "id": "green-notice",
   "metadata": {},
   "outputs": [],
   "source": [
    "model = Sequential()\n",
    "model.add(Dense(100, activation='relu', input_dim=784))\n",
    "model.add(Dense(100, activation='relu'))\n",
    "model.add(Dense(10, activation='softmax'))"
   ]
  },
  {
   "cell_type": "code",
   "execution_count": 4,
   "id": "infinite-grant",
   "metadata": {},
   "outputs": [
    {
     "name": "stdout",
     "output_type": "stream",
     "text": [
      "Epoch 1/5\n",
      "1500/1500 [==============================] - 2s 1ms/step - loss: 0.4873 - acc: 0.8588 - val_loss: 0.1398 - val_acc: 0.9578\n",
      "Epoch 2/5\n",
      "1500/1500 [==============================] - 1s 915us/step - loss: 0.1207 - acc: 0.9624 - val_loss: 0.1187 - val_acc: 0.9642\n",
      "Epoch 3/5\n",
      "1500/1500 [==============================] - 1s 889us/step - loss: 0.0784 - acc: 0.9755 - val_loss: 0.1014 - val_acc: 0.9693\n",
      "Epoch 4/5\n",
      "1500/1500 [==============================] - 1s 942us/step - loss: 0.0608 - acc: 0.9808 - val_loss: 0.1085 - val_acc: 0.9659\n",
      "Epoch 5/5\n",
      "1500/1500 [==============================] - 1s 887us/step - loss: 0.0459 - acc: 0.9848 - val_loss: 0.0971 - val_acc: 0.9716\n"
     ]
    },
    {
     "data": {
      "text/plain": [
       "<tensorflow.python.keras.callbacks.History at 0x15d9dc790>"
      ]
     },
     "execution_count": 4,
     "metadata": {},
     "output_type": "execute_result"
    }
   ],
   "source": [
    "model.compile('adam', 'categorical_crossentropy', metrics='acc')\n",
    "\n",
    "model.fit(x_train, y_train, batch_size=32, shuffle=True, validation_split=0.2, epochs=5)"
   ]
  },
  {
   "cell_type": "code",
   "execution_count": 5,
   "id": "valuable-victim",
   "metadata": {},
   "outputs": [
    {
     "name": "stdout",
     "output_type": "stream",
     "text": [
      "313/313 [==============================] - 0s 893us/step - loss: 0.0996 - acc: 0.9702\n"
     ]
    },
    {
     "data": {
      "text/plain": [
       "[0.09956111013889313, 0.9702000021934509]"
      ]
     },
     "execution_count": 5,
     "metadata": {},
     "output_type": "execute_result"
    }
   ],
   "source": [
    "model.evaluate(x_test, y_test, batch_size=32)"
   ]
  },
  {
   "cell_type": "markdown",
   "id": "informal-mounting",
   "metadata": {},
   "source": [
    "After training, we see that the assessment of performance of the model on data that was not seen during training shows pretty good results: around 0.97 (maximum value is 1). It means that out of 100 images, the model was able to guess the correct digit for 97 images. But how can we guarantee that we will get this performance for images different from the ones in the test dataset? \n",
    "\n",
    "- If we perturbate a \"little\" an image that was well predicted, will the model stay correct? \n",
    "- Up to which perturbation?  \n",
    "- Can we guarantee that the model will output the same digit for a given perturbation? \n",
    "\n",
    "This is where decomon comes in. \n",
    "\n",
    "<img src=\"./data/decomon.jpg\" alt=\"Decomon!\" width=\"400\"/>"
   ]
  },
  {
   "cell_type": "markdown",
   "id": "northern-invalid",
   "metadata": {},
   "source": [
    "### Applying Decomon for Local Robustness to misclassification\n",
    "\n",
    "In this section, we detail how to prove local robustness to misclassification due to some environmental condition: **Brightness (Luminosity)**. Misclassification can be studied with the global optimisation of a function f:\n",
    "\n",
    "$$ f(x; \\Omega) = \\max_{z\\in \\Omega} \\text{NN}_{j\\not= i}(z) - \\text{NN}_i(z)\\;\\; \\text{s.t}\\;\\; i = argmax\\;\\text{NN}(x)$$\n",
    "\n",
    "If the maximum of f is **negative**, this means that whathever the input sample from the domain, the value outputs by the neural network NN for class i will always be greater than the value output for another class. Hence, there will be no misclassification possible. This is **adversarial robustness**.\n",
    "\n",
    "<img src=\"./data/tuto_3_formal_robustness.png\" alt=\"Decomon!\" width=\"400\"/>\n",
    "\n",
    "In that order, we will use the [decomon](https://gheprivate.intra.corp/CRT-DataScience/decomon/tree/master/decomon) library. Decomon combines several optimization trick, including linear relaxation\n",
    "to get state-of-the-art outer approximation.\n",
    "\n",
    "To use **decomon** for **brightness robustness** we first need the following imports:\n",
    "+ *from decomon.models import clone*: to clone our current Keras model into another neural network nn_model. nn_model will output the same prediction that our model and adds extra information that will be used to derive our formal bounds. For a sake of clarity, how to get such bounds is hidden to the user. Note that we presented in the previous tutorials another method for converting into decomon that we denote *convert*. You can use the *convert* method as well but due to some extra information carried out with the *clone* method, we will get better results.\n",
    "\n",
    "+ *from decomon.applications.cv import get_adv_box*: a genereric method to get an upper bound of the funtion f described previously. If the returned value is negative, then we formally assess the robustness to misclassification due of brightness changes."
   ]
  },
  {
   "cell_type": "code",
   "execution_count": 6,
   "id": "postal-brush",
   "metadata": {},
   "outputs": [],
   "source": [
    "import decomon\n",
    "from decomon.models import clone\n",
    "from decomon.applications.cv import get_adv_brightness"
   ]
  },
  {
   "cell_type": "markdown",
   "id": "handy-begin",
   "metadata": {},
   "source": [
    "We offer an interactive visualisation of the basic adversarial robustness method from decomon **get_adv_brightness**. We randomly choose 10 test images use **get_adv_brightness** to assess their robustness to misclassification pixel perturbations. The magnitude of the noise on each pixel is independent and bounded by the value of the variable epsilon. The user can reset the examples and vary the noise amplitude.\n",
    "\n",
    "Note one of the main advantage of decomon: **we can assess robustness on batches of data!**\n",
    "\n",
    "Circled in <span style=\"color:green\">green</span> are examples that are formally assessed to be robust, <span style=\"color:orange\">orange</span> examples that could be robust."
   ]
  },
  {
   "cell_type": "code",
   "execution_count": 7,
   "id": "commercial-parliament",
   "metadata": {},
   "outputs": [],
   "source": [
    "decomon_model = clone(model, input_dim=1)"
   ]
  },
  {
   "cell_type": "code",
   "execution_count": 10,
   "id": "opposite-field",
   "metadata": {},
   "outputs": [
    {
     "data": {
      "application/vnd.jupyter.widget-view+json": {
       "model_id": "ece0a0fbae0c40f5a32a1fe5d4de2b2d",
       "version_major": 2,
       "version_minor": 0
      },
      "text/plain": [
       "interactive(children=(FloatSlider(value=0.0, continuous_update=False, description='bright_min', max=0.0, min=-…"
      ]
     },
     "metadata": {},
     "output_type": "display_data"
    },
    {
     "data": {
      "text/plain": [
       "<function __main__.frame(bright_min, bright_max, reset=0, filename='./data/.hidden_brightness_index.pkl')>"
      ]
     },
     "execution_count": 10,
     "metadata": {},
     "output_type": "execute_result"
    },
    {
     "data": {
      "image/png": "[encoded data removed]",
      "text/plain": [
       "<Figure size 2160x576 with 10 Axes>"
      ]
     },
     "metadata": {
      "needs_background": "light"
     },
     "output_type": "display_data"
    }
   ],
   "source": [
    "def frame(bright_min, bright_max, reset=0, filename='./data/.hidden_brightness_index.pkl'):\n",
    "    n_cols = 5\n",
    "    n_rows = 2\n",
    "    n_samples = n_cols*n_rows\n",
    "    if reset:\n",
    "        index = np.random.permutation(len(x_test))[:n_samples]\n",
    "        \n",
    "        with closing(open(filename, 'wb')) as f:\n",
    "            pkl.dump(index, f)\n",
    "        # save data\n",
    "    else:\n",
    "        # check that file exists\n",
    "        \n",
    "        if os.path.isfile(filename):\n",
    "            with closing(open(filename, 'rb')) as f:\n",
    "                index = pkl.load(f)\n",
    "        else:  \n",
    "            index = np.arange(n_samples)\n",
    "            with closing(open(filename, 'wb')) as f:\n",
    "                pkl.dump(index, f)\n",
    "    #x = np.concatenate([x_test[0:1]]*10, 0)\n",
    "    x = x_test[index]\n",
    "\n",
    "    n_cols = 5\n",
    "    n_rows = 2\n",
    "    fig, axs = plt.subplots(n_rows, n_cols)\n",
    "    \n",
    "    fig.set_figheight(n_rows*fig.get_figheight())\n",
    "    fig.set_figwidth(n_cols*fig.get_figwidth())\n",
    "    plt.subplots_adjust(hspace=0.2)  # increase vertical separation\n",
    "    axs_seq = axs.ravel()\n",
    "\n",
    "    source_label = y_test[index]\n",
    "    \n",
    "    start_time = time.process_time()\n",
    "    \n",
    "    upper = get_adv_brightness(decomon_model, x,\n",
    "                  bright_min=bright_min,\n",
    "                   bright_max=bright_max,\\\n",
    "                   source_labels=source_label)\n",
    "    \n",
    "    end_time = time.process_time()\n",
    "    \n",
    "    \n",
    "    count = 0\n",
    "    time.sleep(1)\n",
    "    r_time = \"{:.2f}\".format(end_time - start_time)\n",
    "    fig.suptitle('Formal Robustness to Adversarial Examples due to brightness (min={}, max={}) running in {} seconds'.format(bright_min, r_time), fontsize=16)\n",
    "    for i in range(n_cols):\n",
    "        for j in range(n_rows):\n",
    "\n",
    "            ax= axs[j, i]\n",
    "            ax.imshow(x[count].reshape((28,28)), cmap='Greys')\n",
    "            robust='ROBUST'\n",
    "            if upper[count]<0:\n",
    "                color='green'\n",
    "            else:\n",
    "                color='orange'\n",
    "                robust='MAYBE ROBUST'\n",
    "        \n",
    "            ax.get_xaxis().set_visible(False)\n",
    "            ax.get_yaxis().set_visible(False)\n",
    "            # Create a Rectangle patch\n",
    "            rect = patches.Rectangle((0,0),27,27,linewidth=3,edgecolor=color,facecolor='none')\n",
    "            ax.add_patch(rect)\n",
    "            ax.set_title(robust)\n",
    "            count+=1\n",
    "    \n",
    "            \n",
    "interact(frame, bright_min = widgets.FloatSlider(value=0.,\n",
    "                                               min=-0.2,\n",
    "                                               max=0.,\n",
    "                                               step=0.0001, continuous_update=False, readout_format='.4f',),\n",
    "         bright_max = widgets.FloatSlider(value=0.,\n",
    "                                               min=0.,\n",
    "                                               max=0.2,\n",
    "                                               step=0.0001, continuous_update=False, readout_format='.4f',),\n",
    "         reset = widgets.IntSlider(value=0.,\n",
    "                                               min=0,\n",
    "                                               max=1,\n",
    "                                               step=1, continuous_update=False)\n",
    "        )"
   ]
  },
  {
   "cell_type": "code",
   "execution_count": null,
   "id": "funny-workplace",
   "metadata": {},
   "outputs": [],
   "source": []
  },
  {
   "cell_type": "code",
   "execution_count": null,
   "id": "super-angola",
   "metadata": {},
   "outputs": [],
   "source": []
  },
  {
   "cell_type": "code",
   "execution_count": null,
   "id": "interstate-linux",
   "metadata": {},
   "outputs": [],
   "source": []
  },
  {
   "cell_type": "code",
   "execution_count": null,
   "id": "norwegian-painting",
   "metadata": {},
   "outputs": [],
   "source": []
  },
  {
   "cell_type": "code",
   "execution_count": 10,
   "id": "varying-adoption",
   "metadata": {},
   "outputs": [
    {
     "data": {
      "text/plain": [
       "array([-4.36436558, -5.97867537,  7.6925652 , -2.95544797, -5.35754585,\n",
       "        1.89817333, -0.6429491 ,  3.91962051, -5.65150881, -3.67262793])"
      ]
     },
     "execution_count": 10,
     "metadata": {},
     "output_type": "execute_result"
    }
   ],
   "source": [
    "get_adv_brightness(decomon_model_, x_test[0:10],\n",
    "                  bright_min=[0., 0., 0., 0., 0., 0., 0., 0., 0., 0.],\n",
    "                   bright_max=[0.1,0.1,0.1,0.1,0.1,0.1,0.1,0.1,0.1,0.1],\\\n",
    "                   source_labels=y_test[0:10])"
   ]
  },
  {
   "cell_type": "code",
   "execution_count": 11,
   "id": "processed-pencil",
   "metadata": {},
   "outputs": [
    {
     "data": {
      "text/plain": [
       "array([-4.36436558, -5.97867537,  7.6925652 , -2.95544797, -5.35754585,\n",
       "        1.89817333, -0.6429491 ,  3.91962051, -5.65150881, -3.67262793])"
      ]
     },
     "execution_count": 11,
     "metadata": {},
     "output_type": "execute_result"
    }
   ],
   "source": [
    "get_adv_brightness(decomon_model_, x_test[0:10],\n",
    "                  bright_min=0.,\n",
    "                   bright_max=0.1,\\\n",
    "                   source_labels=y_test[0:10])"
   ]
  },
  {
   "cell_type": "code",
   "execution_count": 14,
   "id": "greatest-viewer",
   "metadata": {},
   "outputs": [
    {
     "data": {
      "text/plain": [
       "array([-4.36436415, -5.97866821,  7.69256425, -2.95544666, -5.35754657,\n",
       "        1.89817142, -0.6429472 ,  3.91962147, -5.65151119, -3.67263031])"
      ]
     },
     "execution_count": 14,
     "metadata": {},
     "output_type": "execute_result"
    }
   ],
   "source": [
    "get_adv_brightness(decomon_model_, x_test[0:10],\n",
    "                  bright_min=0., bright_max=0.1,\\\n",
    "                   source_labels=y_test[0:10], batch_size=3)"
   ]
  },
  {
   "cell_type": "code",
   "execution_count": 16,
   "id": "revolutionary-seating",
   "metadata": {},
   "outputs": [
    {
     "data": {
      "text/plain": [
       "7"
      ]
     },
     "execution_count": 16,
     "metadata": {},
     "output_type": "execute_result"
    }
   ],
   "source": [
    "model.predict(x_test[:1]).argmax()"
   ]
  },
  {
   "cell_type": "code",
   "execution_count": 12,
   "id": "common-progressive",
   "metadata": {},
   "outputs": [
    {
     "data": {
      "text/plain": [
       "7"
      ]
     },
     "execution_count": 12,
     "metadata": {},
     "output_type": "execute_result"
    }
   ],
   "source": [
    "y_test_[0]"
   ]
  },
  {
   "cell_type": "code",
   "execution_count": 13,
   "id": "unique-teaching",
   "metadata": {},
   "outputs": [
    {
     "data": {
      "text/plain": [
       "0.0"
      ]
     },
     "execution_count": 13,
     "metadata": {},
     "output_type": "execute_result"
    }
   ],
   "source": [
    "x_test.min()"
   ]
  },
  {
   "cell_type": "code",
   "execution_count": null,
   "id": "found-rendering",
   "metadata": {},
   "outputs": [],
   "source": []
  }
 ],
 "metadata": {
  "kernelspec": {
   "display_name": "Python 3",
   "language": "python",
   "name": "python3"
  },
  "language_info": {
   "codemirror_mode": {
    "name": "ipython",
    "version": 3
   },
   "file_extension": ".py",
   "mimetype": "text/x-python",
   "name": "python",
   "nbconvert_exporter": "python",
   "pygments_lexer": "ipython3",
   "version": "3.7.10"
  }
 },
 "nbformat": 4,
 "nbformat_minor": 5
}
