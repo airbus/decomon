{
 "cells": [
  {
   "cell_type": "markdown",
   "id": "08f5910b-8cbc-4094-84f4-e066cd28b1be",
   "metadata": {},
   "source": [
    "# Visualization of Decomon Models"
   ]
  },
  {
   "cell_type": "code",
   "execution_count": null,
   "id": "caa9eb31-b384-4351-9f73-c73d5ffd39ef",
   "metadata": {},
   "outputs": [],
   "source": [
    "from conftest import *\n",
    "\n",
    "helpers = Helpers()\n",
    "from keras import Model, Sequential\n",
    "from keras.activations import linear, serialize\n",
    "from keras.layers import Activation, Add, Dense, Identity, Input, Layer, Subtract\n",
    "\n",
    "from decomon.layers.core.dense import DecomonDense\n",
    "from decomon.layers.utils.batchsize import InsertBatchAxis\n",
    "from decomon.models.convert import clone\n",
    "from decomon.visualization.model_visualization import plot_model"
   ]
  },
  {
   "cell_type": "markdown",
   "id": "1d87858c-3624-4e6e-a952-ac2af71b8879",
   "metadata": {
    "jp-MarkdownHeadingCollapsed": true
   },
   "source": [
    "## Linear model\n",
    "\n",
    "All activations are linear."
   ]
  },
  {
   "cell_type": "code",
   "execution_count": null,
   "id": "4eb3df47-8aca-48ba-8027-31f4a829d309",
   "metadata": {},
   "outputs": [],
   "source": [
    "input_shape = (5, 2, 3)\n",
    "dtype = \"float32\"\n",
    "toy_model = Helpers.toy_network_tutorial(input_shape=input_shape, dtype=dtype, activation=None)\n",
    "plot_model(toy_model)"
   ]
  },
  {
   "cell_type": "markdown",
   "id": "4c259a7d-e898-4fef-a95b-a52a9dbcf1a5",
   "metadata": {},
   "source": [
    "### forward ibp"
   ]
  },
  {
   "cell_type": "code",
   "execution_count": null,
   "id": "11bce920-f435-41eb-873b-bc5fee101584",
   "metadata": {},
   "outputs": [],
   "source": [
    "method = ConvertMethod.FORWARD_IBP\n",
    "decomon_model = clone(toy_model, method=method)\n",
    "plot_model(decomon_model)"
   ]
  },
  {
   "cell_type": "markdown",
   "id": "8e642dc6-6736-4ab0-9757-3acacbfe72b6",
   "metadata": {},
   "source": [
    "### forward affine"
   ]
  },
  {
   "cell_type": "code",
   "execution_count": null,
   "id": "6b20dc58-febb-4463-ad03-d22921978d0c",
   "metadata": {},
   "outputs": [],
   "source": [
    "method = ConvertMethod.FORWARD_AFFINE\n",
    "decomon_model = clone(toy_model, method=method)\n",
    "plot_model(decomon_model)"
   ]
  },
  {
   "cell_type": "markdown",
   "id": "69c34829-9aa8-41eb-a7a5-4cc8d7506585",
   "metadata": {},
   "source": [
    "### forward hybrid"
   ]
  },
  {
   "cell_type": "code",
   "execution_count": null,
   "id": "3e264918-53e7-45ee-89ac-13c8b1fb2e34",
   "metadata": {},
   "outputs": [],
   "source": [
    "method = ConvertMethod.FORWARD_HYBRID\n",
    "decomon_model = clone(toy_model, method=method)\n",
    "plot_model(decomon_model)"
   ]
  },
  {
   "cell_type": "markdown",
   "id": "2a3feddf-d25f-45fc-9f74-182a785bb5db",
   "metadata": {},
   "source": [
    "### CROWN - forward hybrid"
   ]
  },
  {
   "cell_type": "code",
   "execution_count": null,
   "id": "829c119f-d7bd-42ec-8f1a-a5d4354758d1",
   "metadata": {},
   "outputs": [],
   "source": [
    "method = ConvertMethod.CROWN_FORWARD_HYBRID\n",
    "decomon_model = clone(toy_model, method=method)\n",
    "plot_model(decomon_model)"
   ]
  },
  {
   "cell_type": "markdown",
   "id": "075d5534-805c-4904-ab3f-78d63eabd649",
   "metadata": {},
   "source": [
    "### CROWN - full recursive"
   ]
  },
  {
   "cell_type": "code",
   "execution_count": null,
   "id": "32113da8-efba-4c37-b9e2-05fe19267bd3",
   "metadata": {},
   "outputs": [],
   "source": [
    "method = ConvertMethod.CROWN\n",
    "decomon_model = clone(toy_model, method=method)\n",
    "plot_model(decomon_model)"
   ]
  },
  {
   "cell_type": "markdown",
   "id": "313de968-53e4-4eed-a364-22451072f76c",
   "metadata": {},
   "source": [
    "## Tutorial model\n",
    "\n",
    "Some activations are `relu`."
   ]
  },
  {
   "cell_type": "code",
   "execution_count": null,
   "id": "1c2cfb12-fded-41e9-83f6-2e3432b006b8",
   "metadata": {},
   "outputs": [],
   "source": [
    "input_shape = (5, 2, 3)\n",
    "dtype = \"float32\"\n",
    "toy_model = Helpers.toy_network_tutorial(input_shape=input_shape, dtype=dtype, activation=\"relu\")\n",
    "plot_model(toy_model)"
   ]
  },
  {
   "cell_type": "markdown",
   "id": "359f85d7-e80f-4dab-91f7-f67f3ffbe8b3",
   "metadata": {},
   "source": [
    "### forward ibp"
   ]
  },
  {
   "cell_type": "code",
   "execution_count": null,
   "id": "35b26ba6-7856-400e-8d6d-15bbbb2849f3",
   "metadata": {},
   "outputs": [],
   "source": [
    "method = ConvertMethod.FORWARD_IBP\n",
    "decomon_model = clone(toy_model, method=method)\n",
    "plot_model(decomon_model)"
   ]
  },
  {
   "cell_type": "markdown",
   "id": "6be26887-31af-4ef6-b303-03e243f960a5",
   "metadata": {},
   "source": [
    "### forward affine"
   ]
  },
  {
   "cell_type": "code",
   "execution_count": null,
   "id": "fb8e8c3f-cd32-4e03-b8da-d955d1412b92",
   "metadata": {},
   "outputs": [],
   "source": [
    "method = ConvertMethod.FORWARD_AFFINE\n",
    "decomon_model = clone(toy_model, method=method)\n",
    "plot_model(decomon_model)"
   ]
  },
  {
   "cell_type": "markdown",
   "id": "1557848d-2359-4c75-9f45-eb319b9042ad",
   "metadata": {},
   "source": [
    "### forward hybrid"
   ]
  },
  {
   "cell_type": "code",
   "execution_count": null,
   "id": "ce38468a-03e2-4430-8101-b73e5386aab6",
   "metadata": {},
   "outputs": [],
   "source": [
    "method = ConvertMethod.FORWARD_HYBRID\n",
    "decomon_model = clone(toy_model, method=method)\n",
    "plot_model(decomon_model)"
   ]
  },
  {
   "cell_type": "markdown",
   "id": "a05cf391-9229-4bf5-8571-c3a2fdf45d91",
   "metadata": {},
   "source": [
    "### CROWN - forward affine"
   ]
  },
  {
   "cell_type": "code",
   "execution_count": null,
   "id": "72724491-545b-4d81-89e2-5cb6e7ed65db",
   "metadata": {},
   "outputs": [],
   "source": [
    "method = ConvertMethod.CROWN_FORWARD_AFFINE\n",
    "decomon_model = clone(toy_model, method=method)\n",
    "plot_model(decomon_model)"
   ]
  },
  {
   "cell_type": "markdown",
   "id": "5bb7d6e2-3a40-4da8-abf7-e0232680ab03",
   "metadata": {},
   "source": [
    "### CROWN - forward hybrid"
   ]
  },
  {
   "cell_type": "code",
   "execution_count": null,
   "id": "26f89451-8c5e-485c-beb7-903584d95f98",
   "metadata": {},
   "outputs": [],
   "source": [
    "method = ConvertMethod.CROWN_FORWARD_HYBRID\n",
    "decomon_model = clone(toy_model, method=method)\n",
    "plot_model(decomon_model)"
   ]
  },
  {
   "cell_type": "markdown",
   "id": "13c6da86-5f49-4657-9444-b248fd0c63c2",
   "metadata": {},
   "source": [
    "### CROWN - full recursive"
   ]
  },
  {
   "cell_type": "code",
   "execution_count": null,
   "id": "fb70b268-7124-492f-87d2-3f78d5a0ba4a",
   "metadata": {},
   "outputs": [],
   "source": [
    "method = ConvertMethod.CROWN\n",
    "decomon_model = clone(toy_model, method=method)\n",
    "plot_model(decomon_model)"
   ]
  },
  {
   "cell_type": "markdown",
   "id": "86fa0adb-bafd-4f30-ab8e-5c39a1e27ac6",
   "metadata": {
    "jp-MarkdownHeadingCollapsed": true
   },
   "source": [
    "## Merge v0 model"
   ]
  },
  {
   "cell_type": "code",
   "execution_count": null,
   "id": "d9c020e6-9f88-41e2-bd6d-fd628fee66d2",
   "metadata": {},
   "outputs": [],
   "source": [
    "input_shape = (5, 2, 3)\n",
    "dtype = \"float32\"\n",
    "toy_model = Helpers.toy_struct_v0(\n",
    "    input_shape=input_shape, dtype=dtype, activation=\"relu\", archi=[2, 3, 2], use_bias=True\n",
    ")\n",
    "plot_model(toy_model)"
   ]
  },
  {
   "cell_type": "markdown",
   "id": "84d8e914-bb62-42ff-92ea-504614f41526",
   "metadata": {},
   "source": [
    "### forward ibp"
   ]
  },
  {
   "cell_type": "code",
   "execution_count": null,
   "id": "d41346eb-c043-446c-b31a-996234ab5239",
   "metadata": {},
   "outputs": [],
   "source": [
    "method = ConvertMethod.FORWARD_IBP\n",
    "decomon_model = clone(toy_model, method=method)\n",
    "plot_model(decomon_model)"
   ]
  },
  {
   "cell_type": "markdown",
   "id": "1d9b03ab-08e7-4eb6-9f92-538afe74d41d",
   "metadata": {},
   "source": [
    "### forward affine"
   ]
  },
  {
   "cell_type": "code",
   "execution_count": null,
   "id": "c5cac93d-9cc4-4d8b-a783-83da3ff425ad",
   "metadata": {},
   "outputs": [],
   "source": [
    "method = ConvertMethod.FORWARD_AFFINE\n",
    "decomon_model = clone(toy_model, method=method)\n",
    "plot_model(decomon_model)"
   ]
  },
  {
   "cell_type": "markdown",
   "id": "c69afa79-e788-4ec7-8a0a-f3f04fec19c7",
   "metadata": {},
   "source": [
    "### forward hybrid"
   ]
  },
  {
   "cell_type": "code",
   "execution_count": null,
   "id": "756ce062-9ad8-4dd5-9898-11a328b7a254",
   "metadata": {},
   "outputs": [],
   "source": [
    "method = ConvertMethod.FORWARD_HYBRID\n",
    "decomon_model = clone(toy_model, method=method)\n",
    "plot_model(decomon_model)"
   ]
  },
  {
   "cell_type": "markdown",
   "id": "03c4fe9e-102b-4b2a-bec5-e5a88a2a37af",
   "metadata": {},
   "source": [
    "### CROWN - forward affine"
   ]
  },
  {
   "cell_type": "code",
   "execution_count": null,
   "id": "78f8b820-654b-4708-9eca-60d9e7dcb276",
   "metadata": {},
   "outputs": [],
   "source": [
    "method = ConvertMethod.CROWN_FORWARD_AFFINE\n",
    "decomon_model = clone(toy_model, method=method)\n",
    "plot_model(decomon_model)"
   ]
  },
  {
   "cell_type": "markdown",
   "id": "14b5631b-3010-4066-a71c-c15fa6015141",
   "metadata": {},
   "source": [
    "### CROWN - forward hybrid"
   ]
  },
  {
   "cell_type": "code",
   "execution_count": null,
   "id": "83e938db-e051-4450-9f85-4e08f7200ad3",
   "metadata": {},
   "outputs": [],
   "source": [
    "method = ConvertMethod.CROWN_FORWARD_HYBRID\n",
    "decomon_model = clone(toy_model, method=method)\n",
    "plot_model(decomon_model)"
   ]
  },
  {
   "cell_type": "markdown",
   "id": "2ff11f24-11bd-404a-9b59-d4a3ee098965",
   "metadata": {},
   "source": [
    "### CROWN - full recursive"
   ]
  },
  {
   "cell_type": "code",
   "execution_count": null,
   "id": "9004b065-1b20-4d07-b704-527d39b9fbc2",
   "metadata": {},
   "outputs": [],
   "source": [
    "method = ConvertMethod.CROWN\n",
    "decomon_model = clone(toy_model, method=method)\n",
    "plot_model(decomon_model)"
   ]
  },
  {
   "cell_type": "markdown",
   "id": "10c352a9-a534-48d0-9299-cb97cd597ac5",
   "metadata": {},
   "source": [
    "## Merge v0 model + precomputed backward_bounds"
   ]
  },
  {
   "cell_type": "code",
   "execution_count": null,
   "id": "0e9c6482-0793-4e49-98bb-79833e32a387",
   "metadata": {},
   "outputs": [],
   "source": [
    "input_shape = (5, 2, 3)\n",
    "dtype = \"float32\"\n",
    "toy_model = Helpers.toy_struct_v0(\n",
    "    input_shape=input_shape, dtype=dtype, activation=\"relu\", archi=[2, 3, 2], use_bias=True\n",
    ")\n",
    "plot_model(toy_model)\n",
    "\n",
    "# backward_bounds: single tensor, diagonal representation of the weights (same for lower and upper bound, no bias)\n",
    "backward_bounds = Input(toy_model.outputs[0].shape[1:], name=\"backward_bounds\")"
   ]
  },
  {
   "cell_type": "markdown",
   "id": "4dfe5ac2-5a5b-4873-bb70-6e26d734c028",
   "metadata": {},
   "source": [
    "### forward ibp"
   ]
  },
  {
   "cell_type": "code",
   "execution_count": null,
   "id": "86600707-b827-4622-a1a4-a37007ac355a",
   "metadata": {},
   "outputs": [],
   "source": [
    "method = ConvertMethod.FORWARD_IBP\n",
    "decomon_model = clone(toy_model, method=method, backward_bounds=backward_bounds)\n",
    "plot_model(decomon_model)"
   ]
  },
  {
   "cell_type": "markdown",
   "id": "c30bf36a-8896-414b-bd5b-545e4bc49112",
   "metadata": {},
   "source": [
    "### forward affine"
   ]
  },
  {
   "cell_type": "code",
   "execution_count": null,
   "id": "d4965005-7283-439b-9b59-25da706566cd",
   "metadata": {},
   "outputs": [],
   "source": [
    "method = ConvertMethod.FORWARD_AFFINE\n",
    "decomon_model = clone(toy_model, method=method, backward_bounds=backward_bounds)\n",
    "plot_model(decomon_model)"
   ]
  },
  {
   "cell_type": "markdown",
   "id": "e71307af-3542-42a6-95be-5b31fb24cc40",
   "metadata": {},
   "source": [
    "### forward hybrid"
   ]
  },
  {
   "cell_type": "code",
   "execution_count": null,
   "id": "b790f7c9-c7bb-4b3f-bfa3-b26eeae9b826",
   "metadata": {},
   "outputs": [],
   "source": [
    "method = ConvertMethod.FORWARD_HYBRID\n",
    "decomon_model = clone(toy_model, method=method, backward_bounds=backward_bounds)\n",
    "plot_model(decomon_model)"
   ]
  },
  {
   "cell_type": "markdown",
   "id": "34fbb661-71ad-44fe-b5a3-ee34a81608d4",
   "metadata": {},
   "source": [
    "### CROWN - forward affine"
   ]
  },
  {
   "cell_type": "code",
   "execution_count": null,
   "id": "ecb862c9-0229-4adb-8a13-d2e4c26a10af",
   "metadata": {},
   "outputs": [],
   "source": [
    "method = ConvertMethod.CROWN_FORWARD_AFFINE\n",
    "decomon_model = clone(toy_model, method=method, backward_bounds=backward_bounds)\n",
    "plot_model(decomon_model)"
   ]
  },
  {
   "cell_type": "markdown",
   "id": "00fa9db4-1599-4c46-94d5-e9027126d63d",
   "metadata": {},
   "source": [
    "### CROWN - forward hybrid"
   ]
  },
  {
   "cell_type": "code",
   "execution_count": null,
   "id": "607d010d-45a9-4562-8016-bb7ea231d3e1",
   "metadata": {},
   "outputs": [],
   "source": [
    "method = ConvertMethod.CROWN_FORWARD_HYBRID\n",
    "decomon_model = clone(toy_model, method=method, backward_bounds=backward_bounds)\n",
    "plot_model(decomon_model)"
   ]
  },
  {
   "cell_type": "markdown",
   "id": "1d5930b4-22a8-4617-ab0a-53e0edc15a5f",
   "metadata": {},
   "source": [
    "### CROWN - full recursive"
   ]
  },
  {
   "cell_type": "code",
   "execution_count": null,
   "id": "e40c9b81-a8c6-439d-b3fe-0b04ba134a57",
   "metadata": {},
   "outputs": [],
   "source": [
    "method = ConvertMethod.CROWN\n",
    "decomon_model = clone(toy_model, method=method, backward_bounds=backward_bounds)\n",
    "plot_model(decomon_model)"
   ]
  },
  {
   "cell_type": "markdown",
   "id": "9ddd1d2d-6a0f-4483-9ef7-463d7bf3963f",
   "metadata": {},
   "source": [
    "## Example of customization of `plot_model()`\n",
    "\n",
    "NB: colors can be set as in html code. See for instance https://htmlcolorcodes.com/ to pick colors.\n"
   ]
  },
  {
   "cell_type": "code",
   "execution_count": null,
   "id": "87995d1c-d88d-42ae-809f-d1c00c31a033",
   "metadata": {},
   "outputs": [],
   "source": [
    "input_shape = (5, 2, 3)\n",
    "dtype = \"float32\"\n",
    "toy_model = Helpers.toy_struct_v0(\n",
    "    input_shape=input_shape, dtype=dtype, activation=\"relu\", archi=[2, 3, 2], use_bias=True\n",
    ")\n",
    "method = ConvertMethod.CROWN_FORWARD_IBP\n",
    "decomon_model = clone(toy_model, method=method)"
   ]
  },
  {
   "cell_type": "code",
   "execution_count": null,
   "id": "f0f7d946-4a21-4c39-8d5a-018a6e2c97ee",
   "metadata": {},
   "outputs": [],
   "source": [
    "from keras.activations import relu\n",
    "\n",
    "from decomon.layers.oracle import DecomonOracle\n",
    "from decomon.visualization.model_visualization import (\n",
    "    decomon_utilitary_layers_styles,\n",
    "    show_decomon_layer_attributes,\n",
    ")\n",
    "\n",
    "# layer styles\n",
    "layer_styles = dict(decomon_utilitary_layers_styles)  # start from default styles for decomon layers\n",
    "layer_styles[DecomonOracle] = dict(bgcolor=\"#A569BD \", color=\"white\")  # show DecomonOracle in purple/white\n",
    "\n",
    "# extra attributes to show\n",
    "show_layer_attributes = dict(\n",
    "    show_decomon_layer_attributes\n",
    ")  # start with default decomon attributes (propagation, keras layer name)\n",
    "show_layer_attributes[\"slope\"] = {None: {}}  # display slope with default style\n",
    "show_layer_attributes[\"layer.activation.__name__\"] = {  # display keras layer activation name\n",
    "    None: dict(bgcolor=\"white\", color=\"black\"),  # default: white/black\n",
    "    \"relu\": dict(bgcolor=\"#F5B7B1\", color=\"black\"),  # relu: red/black\n",
    "}\n",
    "\n",
    "plot_model(decomon_model, layer_styles=layer_styles, show_layer_attributes=show_layer_attributes)"
   ]
  },
  {
   "cell_type": "code",
   "execution_count": null,
   "id": "b9bc27f6-1a42-4e0f-a383-61b530820903",
   "metadata": {},
   "outputs": [],
   "source": []
  }
 ],
 "metadata": {
  "kernelspec": {
   "display_name": "Python 3 (ipykernel)",
   "language": "python",
   "name": "python3"
  },
  "language_info": {
   "codemirror_mode": {
    "name": "ipython",
    "version": 3
   },
   "file_extension": ".py",
   "mimetype": "text/x-python",
   "name": "python",
   "nbconvert_exporter": "python",
   "pygments_lexer": "ipython3",
   "version": "3.9.18"
  }
 },
 "nbformat": 4,
 "nbformat_minor": 5
}
