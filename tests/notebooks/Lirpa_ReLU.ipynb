{
 "cells": [
  {
   "cell_type": "markdown",
   "id": "casual-princess",
   "metadata": {},
   "source": [
    "\n",
    "# Linear Relaxation of Sigmoid"
   ]
  },
  {
   "cell_type": "code",
   "execution_count": 1,
   "id": "educational-matrix",
   "metadata": {},
   "outputs": [],
   "source": [
    "import numpy as np\n",
    "from tensorflow.keras.models import Sequential\n",
    "from tensorflow.keras.layers import Activation\n",
    "import matplotlib.pyplot as plt\n",
    "from ipywidgets import interact, interactive, fixed, interact_manual\n",
    "import ipywidgets as widgets"
   ]
  },
  {
   "cell_type": "code",
   "execution_count": 2,
   "id": "constant-cassette",
   "metadata": {},
   "outputs": [],
   "source": [
    "model = Sequential()\n",
    "model.add(Activation('relu', input_dim=1))"
   ]
  },
  {
   "cell_type": "code",
   "execution_count": 3,
   "id": "mediterranean-victory",
   "metadata": {},
   "outputs": [],
   "source": [
    "import sys\n",
    "sys.path.append('..')\n",
    "import decomon\n",
    "from decomon.models import convert, clone\n",
    "from decomon import get_upper_box, get_lower_box, get_range_box"
   ]
  },
  {
   "cell_type": "code",
   "execution_count": 4,
   "id": "instructional-boutique",
   "metadata": {},
   "outputs": [
    {
     "ename": "TypeError",
     "evalue": "to_monotonic() got an unexpected keyword argument 'grad_bounds'",
     "output_type": "error",
     "traceback": [
      "\u001b[0;31m---------------------------------------------------------------------------\u001b[0m",
      "\u001b[0;31mTypeError\u001b[0m                                 Traceback (most recent call last)",
      "\u001b[0;32m<ipython-input-4-77a5b92422d1>\u001b[0m in \u001b[0;36m<module>\u001b[0;34m\u001b[0m\n\u001b[0;32m----> 1\u001b[0;31m \u001b[0mdecomon_model\u001b[0m \u001b[0;34m=\u001b[0m \u001b[0mconvert\u001b[0m\u001b[0;34m(\u001b[0m\u001b[0mmodel\u001b[0m\u001b[0;34m)\u001b[0m\u001b[0;34m\u001b[0m\u001b[0;34m\u001b[0m\u001b[0m\n\u001b[0m",
      "\u001b[0;32m~/Documents/Code/OpenSourcing/github_official/decomon/decomon/models/decomon_sequential.py\u001b[0m in \u001b[0;36mconvert\u001b[0;34m(model, input_tensors, layer_fn, dc_decomp, grad_bounds, convex_domain, n_subgrad, mode, slope_backward, IBP, forward, fast, linearize, options)\u001b[0m\n\u001b[1;32m    785\u001b[0m         \u001b[0mIBP\u001b[0m\u001b[0;34m=\u001b[0m\u001b[0mIBP\u001b[0m\u001b[0;34m,\u001b[0m\u001b[0;34m\u001b[0m\u001b[0;34m\u001b[0m\u001b[0m\n\u001b[1;32m    786\u001b[0m         \u001b[0mforward\u001b[0m\u001b[0;34m=\u001b[0m\u001b[0mforward\u001b[0m\u001b[0;34m,\u001b[0m\u001b[0;34m\u001b[0m\u001b[0;34m\u001b[0m\u001b[0m\n\u001b[0;32m--> 787\u001b[0;31m         \u001b[0mfast\u001b[0m\u001b[0;34m=\u001b[0m\u001b[0mfast\u001b[0m\u001b[0;34m,\u001b[0m\u001b[0;34m\u001b[0m\u001b[0;34m\u001b[0m\u001b[0m\n\u001b[0m\u001b[1;32m    788\u001b[0m     )\n\u001b[1;32m    789\u001b[0m \u001b[0;34m\u001b[0m\u001b[0m\n",
      "\u001b[0;32m~/Documents/Code/OpenSourcing/github_official/decomon/decomon/models/decomon_sequential.py\u001b[0m in \u001b[0;36mclone\u001b[0;34m(model, input_tensors, layer_fn, input_dim, dc_decomp, grad_bounds, convex_domain, n_subgrad, mode, slope_backward, IBP, forward, fast)\u001b[0m\n\u001b[1;32m    173\u001b[0m             \u001b[0mIBP\u001b[0m\u001b[0;34m=\u001b[0m\u001b[0mIBP\u001b[0m\u001b[0;34m,\u001b[0m\u001b[0;34m\u001b[0m\u001b[0;34m\u001b[0m\u001b[0m\n\u001b[1;32m    174\u001b[0m             \u001b[0mforward\u001b[0m\u001b[0;34m=\u001b[0m\u001b[0mforward\u001b[0m\u001b[0;34m,\u001b[0m\u001b[0;34m\u001b[0m\u001b[0;34m\u001b[0m\u001b[0m\n\u001b[0;32m--> 175\u001b[0;31m             \u001b[0mfast\u001b[0m\u001b[0;34m=\u001b[0m\u001b[0mfast\u001b[0m\u001b[0;34m,\u001b[0m\u001b[0;34m\u001b[0m\u001b[0;34m\u001b[0m\u001b[0m\n\u001b[0m\u001b[1;32m    176\u001b[0m         )\n\u001b[1;32m    177\u001b[0m     \u001b[0;32melse\u001b[0m\u001b[0;34m:\u001b[0m\u001b[0;34m\u001b[0m\u001b[0;34m\u001b[0m\u001b[0m\n",
      "\u001b[0;32m~/Documents/Code/OpenSourcing/github_official/decomon/decomon/models/decomon_sequential.py\u001b[0m in \u001b[0;36mclone_sequential_model\u001b[0;34m(model, input_tensors, layer_fn, input_dim, dc_decomp, grad_bounds, convex_domain, n_subgrad, IBP, forward, fast)\u001b[0m\n\u001b[1;32m    283\u001b[0m     \u001b[0mmonotonic_layers\u001b[0m \u001b[0;34m=\u001b[0m \u001b[0;34m[\u001b[0m\u001b[0;34m]\u001b[0m\u001b[0;34m\u001b[0m\u001b[0;34m\u001b[0m\u001b[0m\n\u001b[1;32m    284\u001b[0m     \u001b[0;32mfor\u001b[0m \u001b[0mlayer\u001b[0m \u001b[0;32min\u001b[0m \u001b[0mmodel\u001b[0m\u001b[0;34m.\u001b[0m\u001b[0m_layers\u001b[0m\u001b[0;34m:\u001b[0m\u001b[0;34m\u001b[0m\u001b[0;34m\u001b[0m\u001b[0m\n\u001b[0;32m--> 285\u001b[0;31m         \u001b[0mmonotonic_layers\u001b[0m \u001b[0;34m+=\u001b[0m \u001b[0m_get_layer\u001b[0m\u001b[0;34m(\u001b[0m\u001b[0mlayer\u001b[0m\u001b[0;34m)\u001b[0m\u001b[0;34m\u001b[0m\u001b[0;34m\u001b[0m\u001b[0m\n\u001b[0m\u001b[1;32m    286\u001b[0m \u001b[0;34m\u001b[0m\u001b[0m\n\u001b[1;32m    287\u001b[0m     \u001b[0;32mif\u001b[0m \u001b[0minput_tensors\u001b[0m \u001b[0;32mis\u001b[0m \u001b[0;32mNone\u001b[0m\u001b[0;34m:\u001b[0m\u001b[0;34m\u001b[0m\u001b[0;34m\u001b[0m\u001b[0m\n",
      "\u001b[0;32m~/Documents/Code/OpenSourcing/github_official/decomon/decomon/models/decomon_sequential.py\u001b[0m in \u001b[0;36m_get_layer\u001b[0;34m(layer)\u001b[0m\n\u001b[1;32m    278\u001b[0m \u001b[0;34m\u001b[0m\u001b[0m\n\u001b[1;32m    279\u001b[0m         \u001b[0;32mif\u001b[0m \u001b[0misinstance\u001b[0m\u001b[0;34m(\u001b[0m\u001b[0mlayer\u001b[0m\u001b[0;34m,\u001b[0m \u001b[0mLayer\u001b[0m\u001b[0;34m)\u001b[0m\u001b[0;34m:\u001b[0m\u001b[0;34m\u001b[0m\u001b[0;34m\u001b[0m\u001b[0m\n\u001b[0;32m--> 280\u001b[0;31m             \u001b[0;32mreturn\u001b[0m \u001b[0;34m[\u001b[0m\u001b[0mlayer_fn\u001b[0m\u001b[0;34m(\u001b[0m\u001b[0mlayer\u001b[0m\u001b[0;34m)\u001b[0m\u001b[0;34m]\u001b[0m\u001b[0;34m\u001b[0m\u001b[0;34m\u001b[0m\u001b[0m\n\u001b[0m\u001b[1;32m    281\u001b[0m         \u001b[0;32mraise\u001b[0m \u001b[0mValueError\u001b[0m\u001b[0;34m\u001b[0m\u001b[0;34m\u001b[0m\u001b[0m\n\u001b[1;32m    282\u001b[0m \u001b[0;34m\u001b[0m\u001b[0m\n",
      "\u001b[0;32m~/Documents/Code/OpenSourcing/github_official/decomon/decomon/models/decomon_sequential.py\u001b[0m in \u001b[0;36mfunc\u001b[0;34m(x)\u001b[0m\n\u001b[1;32m     93\u001b[0m                     \u001b[0mIBP\u001b[0m\u001b[0;34m=\u001b[0m\u001b[0mIBP\u001b[0m\u001b[0;34m,\u001b[0m\u001b[0;34m\u001b[0m\u001b[0;34m\u001b[0m\u001b[0m\n\u001b[1;32m     94\u001b[0m                     \u001b[0mforward\u001b[0m\u001b[0;34m=\u001b[0m\u001b[0mforward\u001b[0m\u001b[0;34m,\u001b[0m\u001b[0;34m\u001b[0m\u001b[0;34m\u001b[0m\u001b[0m\n\u001b[0;32m---> 95\u001b[0;31m                     \u001b[0mfast\u001b[0m\u001b[0;34m=\u001b[0m\u001b[0mfast\u001b[0m\u001b[0;34m,\u001b[0m\u001b[0;34m\u001b[0m\u001b[0;34m\u001b[0m\u001b[0m\n\u001b[0m\u001b[1;32m     96\u001b[0m                 )\n\u001b[1;32m     97\u001b[0m \u001b[0;34m\u001b[0m\u001b[0m\n",
      "\u001b[0;31mTypeError\u001b[0m: to_monotonic() got an unexpected keyword argument 'grad_bounds'"
     ]
    }
   ],
   "source": [
    "decomon_model = convert(model)"
   ]
  },
  {
   "cell_type": "code",
   "execution_count": 5,
   "id": "adjacent-forth",
   "metadata": {},
   "outputs": [],
   "source": [
    "def relu(x):\n",
    "    return np.maximum(0., x)"
   ]
  },
  {
   "cell_type": "code",
   "execution_count": 6,
   "id": "tender-istanbul",
   "metadata": {},
   "outputs": [],
   "source": [
    "def linear_hull_upper_decomon(lower, upper):\n",
    "    x_min = lower*np.ones((1,1))\n",
    "    x_max = upper*np.ones((1,1))\n",
    "    box = np.concatenate([x_min[:,None], x_max[:,None]], 1)\n",
    "    #print(box)\n",
    "    output = decomon_model.predict([x_max, box])\n",
    "    _, _, upper, _, w_u, b_u, _, _ = output\n",
    "\n",
    "    return upper.min(), w_u.min(), b_u.min()\n",
    "\n",
    "def linear_hull_lower_decomon(lower, upper):\n",
    "    \n",
    "    x_min = lower*np.ones((1,1))\n",
    "    x_max = upper*np.ones((1,1))\n",
    "    box = np.concatenate([x_min[:,None], x_max[:,None]], 1)\n",
    "    \n",
    "    output = decomon_model.predict([x_min, box])\n",
    "    _, _, _, lower, _, _, w_l, b_l = output\n",
    "    return lower.min(), w_l.min(), b_l.min()"
   ]
  },
  {
   "cell_type": "code",
   "execution_count": 12,
   "id": "charitable-slovenia",
   "metadata": {},
   "outputs": [],
   "source": [
    "def func(x_min, x_max):\n",
    "    n_step=100\n",
    "    if x_max <x_min:\n",
    "        x_max_ = x_max + 0\n",
    "        x_max = x_min\n",
    "        x_min = x_max_\n",
    "    x = np.linspace(x_min, x_max, n_step)\n",
    "    y = np.linspace(-10, 10, 1000)\n",
    "    \n",
    "    _,w_u, b_u = linear_hull_upper_decomon(x_min,x_max)\n",
    "    _, w_l, b_l = linear_hull_lower_decomon(x_min, x_max)\n",
    "    s_x = relu(x)\n",
    "    s_y = relu(y)\n",
    "    z_x = w_u*x + b_u\n",
    "    q_x = w_l*x + b_l\n",
    "\n",
    "    plt.ylim(-2, 11)\n",
    "    \n",
    "    plt.plot(x, s_x, c='blue')\n",
    "    plt.plot(x, z_x, c='orange')\n",
    "    plt.plot(x, q_x, c='green' )\n",
    "\n",
    "    plt.plot(y, s_y, '--', c='k')\n",
    "    plt.title('Linear Relaxation of ReLU')"
   ]
  },
  {
   "cell_type": "code",
   "execution_count": 13,
   "id": "decent-september",
   "metadata": {},
   "outputs": [
    {
     "data": {
      "application/vnd.jupyter.widget-view+json": {
       "model_id": "baa28091acb34379822359cae3c5cd43",
       "version_major": 2,
       "version_minor": 0
      },
      "text/plain": [
       "interactive(children=(FloatSlider(value=-10.0, continuous_update=False, description='x_min', max=10.0, min=-10…"
      ]
     },
     "metadata": {},
     "output_type": "display_data"
    },
    {
     "data": {
      "text/plain": [
       "<function __main__.func(x_min, x_max)>"
      ]
     },
     "execution_count": 13,
     "metadata": {},
     "output_type": "execute_result"
    }
   ],
   "source": [
    "interact(func,\n",
    "        x_min = widgets.FloatSlider(value=-10,\n",
    "                                               min=-10,\n",
    "                                               max=10.,\n",
    "                                               step=0.01, continuous_update=False),\n",
    "        x_max = widgets.FloatSlider(value=10,\n",
    "                                               min=-10,\n",
    "                                               max=10,\n",
    "                                               step=0.01, continuous_update=False),\n",
    "        )"
   ]
  },
  {
   "cell_type": "code",
   "execution_count": null,
   "id": "interim-actor",
   "metadata": {},
   "outputs": [],
   "source": []
  }
 ],
 "metadata": {
  "kernelspec": {
   "display_name": "Python 3",
   "language": "python",
   "name": "python3"
  },
  "language_info": {
   "codemirror_mode": {
    "name": "ipython",
    "version": 3
   },
   "file_extension": ".py",
   "mimetype": "text/x-python",
   "name": "python",
   "nbconvert_exporter": "python",
   "pygments_lexer": "ipython3",
   "version": "3.7.10"
  }
 },
 "nbformat": 4,
 "nbformat_minor": 5
}
