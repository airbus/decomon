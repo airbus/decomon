{
 "cells": [
  {
   "cell_type": "markdown",
   "id": "casual-princess",
   "metadata": {},
   "source": [
    "\n",
    "# Linear Relaxation of Sigmoid"
   ]
  },
  {
   "cell_type": "markdown",
   "id": "ce6460be",
   "metadata": {},
   "source": [
    "this notebook is a visualization tests to assess that the linear relaxation of relu is well encoded"
   ]
  },
  {
   "cell_type": "code",
   "execution_count": 1,
   "id": "educational-matrix",
   "metadata": {},
   "outputs": [],
   "source": [
    "import ipywidgets as widgets\n",
    "import matplotlib.pyplot as plt\n",
    "import numpy as np\n",
    "from ipywidgets import interact\n",
    "from tensorflow.keras.layers import Activation\n",
    "from tensorflow.keras.models import Sequential"
   ]
  },
  {
   "cell_type": "code",
   "execution_count": 2,
   "id": "constant-cassette",
   "metadata": {},
   "outputs": [
    {
     "name": "stderr",
     "output_type": "stream",
     "text": [
      "2022-09-20 10:13:32.503104: I tensorflow/core/platform/cpu_feature_guard.cc:151] This TensorFlow binary is optimized with oneAPI Deep Neural Network Library (oneDNN) to use the following CPU instructions in performance-critical operations:  AVX2 FMA\n",
      "To enable them in other operations, rebuild TensorFlow with the appropriate compiler flags.\n"
     ]
    }
   ],
   "source": [
    "model = Sequential()\n",
    "model.add(Activation(\"relu\", input_dim=1))"
   ]
  },
  {
   "cell_type": "code",
   "execution_count": 3,
   "id": "mediterranean-victory",
   "metadata": {},
   "outputs": [],
   "source": [
    "import sys\n",
    "\n",
    "sys.path.append(\"../..\")\n",
    "from decomon.models import clone"
   ]
  },
  {
   "cell_type": "code",
   "execution_count": 4,
   "id": "instructional-boutique",
   "metadata": {},
   "outputs": [
    {
     "name": "stdout",
     "output_type": "stream",
     "text": [
      "dict_keys([140616125062608])\n",
      "dict_keys([140616125062608, 140615590700304])\n"
     ]
    }
   ],
   "source": [
    "decomon_model = clone(model, method=\"hybrid\")"
   ]
  },
  {
   "cell_type": "code",
   "execution_count": 5,
   "id": "adjacent-forth",
   "metadata": {},
   "outputs": [],
   "source": [
    "def relu(x):\n",
    "    return np.maximum(0.0, x)"
   ]
  },
  {
   "cell_type": "code",
   "execution_count": 6,
   "id": "fc9dc2f4",
   "metadata": {},
   "outputs": [],
   "source": [
    "lower = -10\n",
    "upper = 10\n",
    "x_min = lower * np.ones((1, 1))\n",
    "x_max = upper * np.ones((1, 1))\n",
    "box = np.concatenate([x_min[:, None], x_max[:, None]], 1)\n",
    "\n",
    "output = decomon_model.predict([box])"
   ]
  },
  {
   "cell_type": "code",
   "execution_count": 7,
   "id": "982b4500",
   "metadata": {},
   "outputs": [],
   "source": [
    "x, u, w_u, b_u, l, w_l, b_l = output"
   ]
  },
  {
   "cell_type": "code",
   "execution_count": 8,
   "id": "692d5d5c",
   "metadata": {},
   "outputs": [
    {
     "data": {
      "text/plain": [
       "array([[5.]], dtype=float32)"
      ]
     },
     "execution_count": 8,
     "metadata": {},
     "output_type": "execute_result"
    }
   ],
   "source": [
    "b_u"
   ]
  },
  {
   "cell_type": "code",
   "execution_count": null,
   "id": "5c1866cc",
   "metadata": {},
   "outputs": [],
   "source": []
  },
  {
   "cell_type": "code",
   "execution_count": null,
   "id": "f47dd83b",
   "metadata": {},
   "outputs": [],
   "source": []
  },
  {
   "cell_type": "code",
   "execution_count": 9,
   "id": "6041c848",
   "metadata": {},
   "outputs": [
    {
     "data": {
      "text/plain": [
       "[<KerasTensor: shape=(None, 2, 1) dtype=float32 (created by layer 'input_1')>]"
      ]
     },
     "execution_count": 9,
     "metadata": {},
     "output_type": "execute_result"
    }
   ],
   "source": [
    "decomon_model.inputs"
   ]
  },
  {
   "cell_type": "code",
   "execution_count": 10,
   "id": "tender-istanbul",
   "metadata": {},
   "outputs": [],
   "source": [
    "def linear_hull_upper_decomon(lower, upper):\n",
    "    x_min = lower * np.ones((1, 1))\n",
    "    x_max = upper * np.ones((1, 1))\n",
    "    box = np.concatenate([x_min[:, None], x_max[:, None]], 1)\n",
    "    # print(box)\n",
    "    output = decomon_model.predict([box])\n",
    "    _, _, w_u, b_u = output[:4]\n",
    "    print(w_u, b_u)\n",
    "\n",
    "    upper = np.maximum(0.0, w_u) * upper + np.minimum(0.0, w_u) * lower + b_u\n",
    "\n",
    "    return upper.min(), w_u.min(), b_u.min()\n",
    "\n",
    "\n",
    "def linear_hull_lower_decomon(lower, upper):\n",
    "\n",
    "    x_min = lower * np.ones((1, 1))\n",
    "    x_max = upper * np.ones((1, 1))\n",
    "    box = np.concatenate([x_min[:, None], x_max[:, None]], 1)\n",
    "\n",
    "    output = decomon_model.predict([box])\n",
    "    w_l, b_l = output[-2:]\n",
    "    lower = np.maximum(0.0, w_l) * lower + np.minimum(0.0, w_l) * upper + b_l\n",
    "    return lower.min(), w_l.min(), b_l.min()"
   ]
  },
  {
   "cell_type": "code",
   "execution_count": 11,
   "id": "charitable-slovenia",
   "metadata": {},
   "outputs": [],
   "source": [
    "def func(x_min, x_max):\n",
    "    n_step = 100\n",
    "    if x_max < x_min:\n",
    "        x_max_ = x_max + 0\n",
    "        x_max = x_min\n",
    "        x_min = x_max_\n",
    "    x = np.linspace(x_min, x_max, n_step)\n",
    "    y = np.linspace(-10, 10, 1000)\n",
    "\n",
    "    _, w_u, b_u = linear_hull_upper_decomon(x_min, x_max)\n",
    "    _, w_l, b_l = linear_hull_lower_decomon(x_min, x_max)\n",
    "    s_x = relu(x)\n",
    "    s_y = relu(y)\n",
    "    z_x = w_u * x + b_u\n",
    "    q_x = w_l * x + b_l\n",
    "\n",
    "    plt.ylim(-2, 11)\n",
    "\n",
    "    plt.plot(x, s_x, c=\"blue\")\n",
    "    plt.plot(x, z_x, c=\"orange\")\n",
    "    plt.plot(x, q_x, c=\"green\")\n",
    "\n",
    "    plt.plot(y, s_y, \"--\", c=\"k\")\n",
    "    plt.title(\"Linear Relaxation of ReLU\")"
   ]
  },
  {
   "cell_type": "code",
   "execution_count": 12,
   "id": "decent-september",
   "metadata": {},
   "outputs": [
    {
     "data": {
      "application/vnd.jupyter.widget-view+json": {
       "model_id": "2909f29998b7474fa86f0b310f15d1e2",
       "version_major": 2,
       "version_minor": 0
      },
      "text/plain": [
       "interactive(children=(FloatSlider(value=-10.0, continuous_update=False, description='x_min', max=10.0, min=-10…"
      ]
     },
     "metadata": {},
     "output_type": "display_data"
    },
    {
     "data": {
      "text/plain": [
       "<function __main__.func(x_min, x_max)>"
      ]
     },
     "execution_count": 12,
     "metadata": {},
     "output_type": "execute_result"
    }
   ],
   "source": [
    "interact(\n",
    "    func,\n",
    "    x_min=widgets.FloatSlider(value=-10, min=-10, max=10.0, step=0.01, continuous_update=False),\n",
    "    x_max=widgets.FloatSlider(value=10, min=-10, max=10, step=0.01, continuous_update=False),\n",
    ")"
   ]
  },
  {
   "cell_type": "code",
   "execution_count": null,
   "id": "interim-actor",
   "metadata": {},
   "outputs": [],
   "source": []
  },
  {
   "cell_type": "code",
   "execution_count": null,
   "id": "1cea58b4",
   "metadata": {},
   "outputs": [],
   "source": []
  },
  {
   "cell_type": "code",
   "execution_count": null,
   "id": "2129e34b",
   "metadata": {},
   "outputs": [],
   "source": []
  }
 ],
 "metadata": {
  "kernelspec": {
   "display_name": "Python 3 (ipykernel)",
   "language": "python",
   "name": "python3"
  },
  "language_info": {
   "codemirror_mode": {
    "name": "ipython",
    "version": 3
   },
   "file_extension": ".py",
   "mimetype": "text/x-python",
   "name": "python",
   "nbconvert_exporter": "python",
   "pygments_lexer": "ipython3",
   "version": "3.7.11"
  }
 },
 "nbformat": 4,
 "nbformat_minor": 5
}
