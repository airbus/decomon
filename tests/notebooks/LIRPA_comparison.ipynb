{
 "cells": [
  {
   "cell_type": "markdown",
   "metadata": {},
   "source": [
    "# COMPARISON LIRPA VS DECOMON: FULLY CONNECTED MNIST"
   ]
  },
  {
   "cell_type": "markdown",
   "metadata": {},
   "source": [
    "# PART A: TENSORFLOW"
   ]
  },
  {
   "cell_type": "code",
   "execution_count": 1,
   "metadata": {},
   "outputs": [],
   "source": [
    "import tensorflow.keras as keras\n",
    "import numpy as np\n",
    "from tensorflow.keras.models import Sequential\n",
    "from tensorflow.keras.layers import Dense\n",
    "from tensorflow.keras.datasets import mnist\n",
    "import sys\n",
    "sys.path.append('..')\n",
    "import os.path\n",
    "import os\n",
    "import pickle as pkl\n",
    "from contextlib import closing\n",
    "import time"
   ]
  },
  {
   "cell_type": "code",
   "execution_count": 2,
   "metadata": {},
   "outputs": [
    {
     "name": "stdout",
     "output_type": "stream",
     "text": [
      "Notebook run using keras: 2.4.0\n"
     ]
    }
   ],
   "source": [
    "import os\n",
    "import tensorflow.keras as keras\n",
    "import matplotlib.pyplot as plt\n",
    "%matplotlib inline\n",
    "import numpy as np\n",
    "import tensorflow.keras.backend as K\n",
    "from tensorflow.keras.models import Model, Sequential\n",
    "from tensorflow.keras.layers import Input, Lambda, Activation, Reshape, \\\n",
    "Conv2D, Add, Flatten, Dense, Layer, MaxPooling2D, Subtract, Concatenate, Multiply, Add, Subtract\n",
    "from ipywidgets import interact, interactive, fixed, interact_manual\n",
    "import ipywidgets as widgets\n",
    "print('Notebook run using keras:', keras.__version__)\n",
    "import sys\n",
    "sys.path.append('..')\n",
    "import decomon\n",
    "from decomon.models import convert\n",
    "from decomon import get_upper_box, get_lower_box, get_range_box, get_range_noise"
   ]
  },
  {
   "cell_type": "code",
   "execution_count": 3,
   "metadata": {},
   "outputs": [],
   "source": [
    "from auto_LiRPA import BoundedModule, BoundedTensor, PerturbationLpNorm"
   ]
  },
  {
   "cell_type": "markdown",
   "metadata": {},
   "source": [
    "### Build and Train a Neural Network on a sinusoide\n",
    "\n",
    "The sinusoide funtion is defined on a $[-1 ; 1 ]$ interval. We put a factor in the sinusoide to have several periods of oscillations. \n"
   ]
  },
  {
   "cell_type": "code",
   "execution_count": 4,
   "metadata": {},
   "outputs": [],
   "source": [
    "x = np.linspace(-1, 1, 1000)\n",
    "y = np.sin(10*x)"
   ]
  },
  {
   "cell_type": "markdown",
   "metadata": {},
   "source": [
    "We approximate this funciton by a fully connected network composed of 4 hidden layers of size 100, 100, 20 and 20 respectively. Rectified Linear Units (ReLU) are chosen as activation functions for all the neurons. "
   ]
  },
  {
   "cell_type": "code",
   "execution_count": 5,
   "metadata": {},
   "outputs": [],
   "source": [
    "layers = []\n",
    "layers.append(Dense(100, activation='relu', input_dim=1)) # specify the dimension of the input space\n",
    "layers.append(Dense(100, activation='relu'))\n",
    "layers.append(Dense(20, activation='relu'))\n",
    "layers.append(Dense(20, activation='relu'))\n",
    "layers.append(Dense(1, activation='linear'))\n",
    "model = Sequential(layers)"
   ]
  },
  {
   "cell_type": "markdown",
   "metadata": {},
   "source": [
    "we specify the optimization method and the metric, in this case a classical Means Square Error. "
   ]
  },
  {
   "cell_type": "code",
   "execution_count": 6,
   "metadata": {},
   "outputs": [],
   "source": [
    "model.compile('adam', 'mse')"
   ]
  },
  {
   "cell_type": "markdown",
   "metadata": {},
   "source": [
    "we train the neural network"
   ]
  },
  {
   "cell_type": "code",
   "execution_count": 7,
   "metadata": {},
   "outputs": [],
   "source": [
    "#model.fit(x, y, batch_size=32, shuffle=True, epochs=100, verbose=0) \n",
    "# verbose=0 removes the printing along the training"
   ]
  },
  {
   "cell_type": "code",
   "execution_count": 8,
   "metadata": {},
   "outputs": [
    {
     "data": {
      "text/plain": [
       "<tensorflow.python.training.tracking.util.CheckpointLoadStatus at 0x17a73b150>"
      ]
     },
     "execution_count": 8,
     "metadata": {},
     "output_type": "execute_result"
    }
   ],
   "source": [
    "model.load_weights('toto')"
   ]
  },
  {
   "cell_type": "code",
   "execution_count": 9,
   "metadata": {},
   "outputs": [],
   "source": [
    "import torch\n",
    "from torch import nn\n",
    "import torch.nn.functional as F"
   ]
  },
  {
   "cell_type": "code",
   "execution_count": 10,
   "metadata": {},
   "outputs": [],
   "source": [
    "class NeuralNet(nn.Module):\n",
    "    def __init__(self):\n",
    "        super(NeuralNet, self).__init__()\n",
    "        self.hidden_0 = nn.Linear(1, 100) # input_dim = 1; output_dim = 100\n",
    "        self.hidden_1 = nn.Linear(100, 100)\n",
    "        self.hidden_2 = nn.Linear(100, 20)\n",
    "        self.hidden_3 = nn.Linear(20, 20)\n",
    "        self.hidden_4 = nn.Linear(1, 20)\n",
    "        \n",
    "        self.layers = [self.hidden_0, self.hidden_1, self.hidden_2, self.hidden_3, self.hidden_4]\n",
    "\n",
    "    def forward(self, x):\n",
    "        x = self.hidden_0(x)\n",
    "        x = F.relu(x)\n",
    "        x = self.hidden_1(x)\n",
    "        x = F.relu(x)\n",
    "        x = self.hidden_2(x)\n",
    "        x = F.relu(x)\n",
    "        x = self.hidden_3(x)\n",
    "        x = F.relu(x)\n",
    "        x = self.hidden_4(x)\n",
    "        #x = F.relu(x)\n",
    "        return x\n",
    "        #x = x.view(-1, 128)\n",
    "        #return x\n",
    "        \n",
    "    def reset_weights(self, model):\n",
    "        \n",
    "        layers = model.layers\n",
    "        for layer_keras, layer_torch in zip(layers, self.layers):\n",
    "            \n",
    "            weights = layer_keras.get_weights()\n",
    "            layer_torch.weight.data = torch.from_numpy(np.transpose(weights[0]))\n",
    "            layer_torch.bias.data = torch.from_numpy(np.transpose(weights[1]))"
   ]
  },
  {
   "cell_type": "code",
   "execution_count": 11,
   "metadata": {},
   "outputs": [],
   "source": [
    "model_torch = NeuralNet()\n",
    "model_torch.reset_weights(model)"
   ]
  },
  {
   "cell_type": "code",
   "execution_count": 12,
   "metadata": {},
   "outputs": [],
   "source": [
    "model_torch.reset_weights(model)"
   ]
  },
  {
   "cell_type": "code",
   "execution_count": 36,
   "metadata": {},
   "outputs": [
    {
     "name": "stdout",
     "output_type": "stream",
     "text": [
      "WARNING:tensorflow:DecomonModel model inputs must come from `tf.keras.Input` (thus holding past layer metadata), they cannot be the output of a previous non-Input layer. Here, a tensor specified as input to \"decomon_model_19\" was not an Input tensor, it was generated by layer input_167.\n",
      "Note that input tensors are instantiated via `tensor = tf.keras.Input(shape)`.\n",
      "The tensor that caused the issue was: input_167\n"
     ]
    },
    {
     "name": "stderr",
     "output_type": "stream",
     "text": [
      "WARNING  14:49:55     DecomonModel model inputs must come from `tf.keras.Input` (thus holding past layer metadata), they cannot be the output of a previous non-Input layer. Here, a tensor specified as input to \"decomon_model_19\" was not an Input tensor, it was generated by layer input_167.\n",
      "Note that input tensors are instantiated via `tensor = tf.keras.Input(shape)`.\n",
      "The tensor that caused the issue was: input_167\n"
     ]
    },
    {
     "name": "stdout",
     "output_type": "stream",
     "text": [
      "WARNING:tensorflow:DecomonModel model inputs must come from `tf.keras.Input` (thus holding past layer metadata), they cannot be the output of a previous non-Input layer. Here, a tensor specified as input to \"decomon_model_19\" was not an Input tensor, it was generated by layer input_166.\n",
      "Note that input tensors are instantiated via `tensor = tf.keras.Input(shape)`.\n",
      "The tensor that caused the issue was: input_166\n"
     ]
    },
    {
     "name": "stderr",
     "output_type": "stream",
     "text": [
      "WARNING  14:49:55     DecomonModel model inputs must come from `tf.keras.Input` (thus holding past layer metadata), they cannot be the output of a previous non-Input layer. Here, a tensor specified as input to \"decomon_model_19\" was not an Input tensor, it was generated by layer input_166.\n",
      "Note that input tensors are instantiated via `tensor = tf.keras.Input(shape)`.\n",
      "The tensor that caused the issue was: input_166\n"
     ]
    },
    {
     "name": "stdout",
     "output_type": "stream",
     "text": [
      "WARNING:tensorflow:DecomonModel model inputs must come from `tf.keras.Input` (thus holding past layer metadata), they cannot be the output of a previous non-Input layer. Here, a tensor specified as input to \"decomon_model_22\" was not an Input tensor, it was generated by layer input_192.\n",
      "Note that input tensors are instantiated via `tensor = tf.keras.Input(shape)`.\n",
      "The tensor that caused the issue was: input_192\n"
     ]
    },
    {
     "name": "stderr",
     "output_type": "stream",
     "text": [
      "WARNING  14:49:59     DecomonModel model inputs must come from `tf.keras.Input` (thus holding past layer metadata), they cannot be the output of a previous non-Input layer. Here, a tensor specified as input to \"decomon_model_22\" was not an Input tensor, it was generated by layer input_192.\n",
      "Note that input tensors are instantiated via `tensor = tf.keras.Input(shape)`.\n",
      "The tensor that caused the issue was: input_192\n"
     ]
    },
    {
     "name": "stdout",
     "output_type": "stream",
     "text": [
      "WARNING:tensorflow:DecomonModel model inputs must come from `tf.keras.Input` (thus holding past layer metadata), they cannot be the output of a previous non-Input layer. Here, a tensor specified as input to \"decomon_model_22\" was not an Input tensor, it was generated by layer input_191.\n",
      "Note that input tensors are instantiated via `tensor = tf.keras.Input(shape)`.\n",
      "The tensor that caused the issue was: input_191\n"
     ]
    },
    {
     "name": "stderr",
     "output_type": "stream",
     "text": [
      "WARNING  14:49:59     DecomonModel model inputs must come from `tf.keras.Input` (thus holding past layer metadata), they cannot be the output of a previous non-Input layer. Here, a tensor specified as input to \"decomon_model_22\" was not an Input tensor, it was generated by layer input_191.\n",
      "Note that input tensors are instantiated via `tensor = tf.keras.Input(shape)`.\n",
      "The tensor that caused the issue was: input_191\n"
     ]
    },
    {
     "name": "stdout",
     "output_type": "stream",
     "text": [
      "WARNING:tensorflow:DecomonModel model inputs must come from `tf.keras.Input` (thus holding past layer metadata), they cannot be the output of a previous non-Input layer. Here, a tensor specified as input to \"decomon_model_25\" was not an Input tensor, it was generated by layer input_217.\n",
      "Note that input tensors are instantiated via `tensor = tf.keras.Input(shape)`.\n",
      "The tensor that caused the issue was: input_217\n"
     ]
    },
    {
     "name": "stderr",
     "output_type": "stream",
     "text": [
      "WARNING  14:50:04     DecomonModel model inputs must come from `tf.keras.Input` (thus holding past layer metadata), they cannot be the output of a previous non-Input layer. Here, a tensor specified as input to \"decomon_model_25\" was not an Input tensor, it was generated by layer input_217.\n",
      "Note that input tensors are instantiated via `tensor = tf.keras.Input(shape)`.\n",
      "The tensor that caused the issue was: input_217\n"
     ]
    },
    {
     "name": "stdout",
     "output_type": "stream",
     "text": [
      "WARNING:tensorflow:DecomonModel model inputs must come from `tf.keras.Input` (thus holding past layer metadata), they cannot be the output of a previous non-Input layer. Here, a tensor specified as input to \"decomon_model_25\" was not an Input tensor, it was generated by layer input_216.\n",
      "Note that input tensors are instantiated via `tensor = tf.keras.Input(shape)`.\n",
      "The tensor that caused the issue was: input_216\n"
     ]
    },
    {
     "name": "stderr",
     "output_type": "stream",
     "text": [
      "WARNING  14:50:04     DecomonModel model inputs must come from `tf.keras.Input` (thus holding past layer metadata), they cannot be the output of a previous non-Input layer. Here, a tensor specified as input to \"decomon_model_25\" was not an Input tensor, it was generated by layer input_216.\n",
      "Note that input tensors are instantiated via `tensor = tf.keras.Input(shape)`.\n",
      "The tensor that caused the issue was: input_216\n"
     ]
    }
   ],
   "source": [
    "# convert our model into a decomon model:\n",
    "decomon_model_0 = convert(model, IBP=True, forward=False, mode='backward')\n",
    "decomon_model_1 = convert(model,IBP=False, forward=True, mode='backward', n_subgrad=0)\n",
    "decomon_model_2 = convert(model,IBP=True, forward=True, mode='backward', n_subgrad=0)"
   ]
  },
  {
   "cell_type": "markdown",
   "metadata": {},
   "source": [
    "### check the predictions"
   ]
  },
  {
   "cell_type": "code",
   "execution_count": 14,
   "metadata": {},
   "outputs": [],
   "source": [
    "x_train_tensor = torch.from_numpy(x[:,None]).float().to('cpu')\n",
    "y_pred_torch = model_torch(x_train_tensor).cpu().detach().numpy()"
   ]
  },
  {
   "cell_type": "code",
   "execution_count": 15,
   "metadata": {},
   "outputs": [],
   "source": [
    "y_pred_torch = model_torch(x_train_tensor).cpu().detach().numpy()\n",
    "y_pred_keras = model.predict(x)"
   ]
  },
  {
   "cell_type": "code",
   "execution_count": 16,
   "metadata": {},
   "outputs": [
    {
     "name": "stdout",
     "output_type": "stream",
     "text": [
      "False\n"
     ]
    }
   ],
   "source": [
    "print(np.allclose(y_pred_keras, y_pred_torch))"
   ]
  },
  {
   "cell_type": "code",
   "execution_count": 17,
   "metadata": {},
   "outputs": [
    {
     "data": {
      "text/plain": [
       "8.34465e-07"
      ]
     },
     "execution_count": 17,
     "metadata": {},
     "output_type": "execute_result"
    }
   ],
   "source": [
    "np.max(np.abs(y_pred_keras - y_pred_torch))"
   ]
  },
  {
   "cell_type": "code",
   "execution_count": 18,
   "metadata": {},
   "outputs": [
    {
     "data": {
      "text/plain": [
       "[<matplotlib.lines.Line2D at 0x17b34ec50>]"
      ]
     },
     "execution_count": 18,
     "metadata": {},
     "output_type": "execute_result"
    },
    {
     "data": {
      "image/png": "[encoded data removed]",
      "text/plain": [
       "<Figure size 432x288 with 1 Axes>"
      ]
     },
     "metadata": {
      "needs_background": "light"
     },
     "output_type": "display_data"
    }
   ],
   "source": [
    "plt.plot(x, y_pred_torch, 'x')\n",
    "plt.plot(x, y_pred_keras)"
   ]
  },
  {
   "cell_type": "code",
   "execution_count": 19,
   "metadata": {},
   "outputs": [],
   "source": [
    "# AUTO LIRPA"
   ]
  },
  {
   "cell_type": "code",
   "execution_count": 28,
   "metadata": {},
   "outputs": [],
   "source": [
    "# define the intervals\n",
    "\n",
    "def get_range_box_comparison(model_decomon_1, model_torch,  x_min=x.min(), x_max=x.max(), n_split=10):\n",
    "\n",
    "    alpha = np.linspace(0, 1, n_split+1)\n",
    "    x_samples = (1-alpha)*x_min + alpha*x_max\n",
    "    X_min = x_samples[:-1][:, None]\n",
    "    X_max = x_samples[1:][:, None]\n",
    "    X_lirpa_ = (X_min + X_max)/2.\n",
    "    eps = 0.5*(x_max - x_min)/n_split\n",
    "    print(eps)\n",
    "    \n",
    "\n",
    "    # convert X_lirpa into a pytorch tensor\n",
    "    X_lirpa = torch.from_numpy(X_lirpa_).float().to('cpu')\n",
    "\n",
    "    model_lirpa = BoundedModule(model_torch, X_lirpa)\n",
    "    ptb = PerturbationLpNorm(norm=np.inf, eps=eps)\n",
    "    input_lirpa = BoundedTensor(X_lirpa, ptb)\n",
    "    lb, ub = model_lirpa.compute_bounds(x=(input_lirpa,), IBP=True, method=\"backward\")\n",
    "\n",
    "    lb_ = lb.cpu().detach().numpy()\n",
    "    ub_ = ub.cpu().detach().numpy()\n",
    "    \n",
    "    #upper_0, lower_0 = get_range_noise(model_decomon_0, X_lirpa_, eps, p=np.inf)\n",
    "    upper_, lower_ = get_range_box(model_decomon_1, X_min, X_max, fast=True)\n",
    "    #upper_ = np.minimum(upper_0, upper_0)\n",
    "    #lower_ = np.maximum(lower_1, lower_1)\n",
    "    \n",
    "    return X_lirpa_, model.predict(X_lirpa_), lb_, ub_, lower_, upper_"
   ]
  },
  {
   "cell_type": "code",
   "execution_count": 49,
   "metadata": {},
   "outputs": [
    {
     "name": "stdout",
     "output_type": "stream",
     "text": [
      "0.1\n"
     ]
    }
   ],
   "source": [
    "x_samples, y_samples, lb_0, ub_0, _, _ = get_range_box_comparison(decomon_model_0, model_torch, n_split=10)"
   ]
  },
  {
   "cell_type": "code",
   "execution_count": 50,
   "metadata": {},
   "outputs": [
    {
     "name": "stdout",
     "output_type": "stream",
     "text": [
      "0.1\n"
     ]
    }
   ],
   "source": [
    "x_samples, y_samples, _, _, lb_1, ub_1 = get_range_box_comparison(decomon_model_1, model_torch, n_split=10)"
   ]
  },
  {
   "cell_type": "code",
   "execution_count": 51,
   "metadata": {},
   "outputs": [
    {
     "name": "stdout",
     "output_type": "stream",
     "text": [
      "0.1\n"
     ]
    }
   ],
   "source": [
    "x_samples, y_samples, _, _, lb_2, ub_2 = get_range_box_comparison(decomon_model_2, model_torch, n_split=10)"
   ]
  },
  {
   "cell_type": "code",
   "execution_count": 52,
   "metadata": {},
   "outputs": [],
   "source": [
    "n_split=10\n",
    "x_min=x.min()\n",
    "x_max=x.max()\n",
    "alpha = np.linspace(0, 1, n_split+1)\n",
    "z_samples = (1-alpha)*x_min + alpha*x_max\n",
    "A_min = z_samples[:-1]\n",
    "A_max = z_samples[1:]"
   ]
  },
  {
   "cell_type": "code",
   "execution_count": 53,
   "metadata": {},
   "outputs": [],
   "source": [
    "samples=[]\n",
    "lb_0_ =[]\n",
    "ub_0_ =[]\n",
    "lb_1_ =[]\n",
    "ub_1_=[]\n",
    "lb_2_ =[]\n",
    "ub_2_=[]\n",
    "for i in range(len(A_min)):\n",
    "    samples.append(A_min[i])\n",
    "    samples.append(A_max[i])\n",
    "    lb_0_+=[lb_0[i]]*2\n",
    "    ub_0_+= [ub_0[i]]*2\n",
    "    lb_1_+=[lb_1[i]]*2\n",
    "    ub_1_+=[ub_1[i]]*2\n",
    "    lb_2_+=[lb_2[i]]*2\n",
    "    ub_2_+=[ub_2[i]]*2\n"
   ]
  },
  {
   "cell_type": "code",
   "execution_count": 57,
   "metadata": {},
   "outputs": [
    {
     "data": {
      "text/plain": [
       "<matplotlib.legend.Legend at 0x17e116c90>"
      ]
     },
     "execution_count": 57,
     "metadata": {},
     "output_type": "execute_result"
    },
    {
     "data": {
      "image/png": "[encoded data removed]",
      "text/plain": [
       "<Figure size 432x288 with 1 Axes>"
      ]
     },
     "metadata": {
      "needs_background": "light"
     },
     "output_type": "display_data"
    }
   ],
   "source": [
    "plt.plot(x, y_pred_keras, color='black')\n",
    "#plt.plot(samples, lb_0_, color='blue')\n",
    "plt.plot(samples, lb_1_, '--', color='red')\n",
    "plt.plot(samples, lb_2_, '*-', color='green')\n",
    "#plt.plot(samples, ub_0_, color='blue')\n",
    "plt.plot(samples, ub_1_, '--', color='red')\n",
    "plt.plot(samples, ub_2_, '*-', color='green')\n",
    "plt.legend(['f', 'Backward-Forward', 'Backward-Forward+IBP'])\n"
   ]
  },
  {
   "cell_type": "code",
   "execution_count": 37,
   "metadata": {},
   "outputs": [
    {
     "data": {
      "text/plain": [
       "(10, 1)"
      ]
     },
     "execution_count": 37,
     "metadata": {},
     "output_type": "execute_result"
    }
   ],
   "source": [
    "lb_2.shape"
   ]
  },
  {
   "cell_type": "code",
   "execution_count": 35,
   "metadata": {},
   "outputs": [
    {
     "data": {
      "text/plain": [
       "array([-0.9])"
      ]
     },
     "execution_count": 35,
     "metadata": {},
     "output_type": "execute_result"
    }
   ],
   "source": [
    "samples[0]"
   ]
  },
  {
   "cell_type": "code",
   "execution_count": 28,
   "metadata": {},
   "outputs": [
    {
     "data": {
      "text/plain": [
       "10"
      ]
     },
     "execution_count": 28,
     "metadata": {},
     "output_type": "execute_result"
    }
   ],
   "source": [
    "len(x_samples)"
   ]
  },
  {
   "cell_type": "code",
   "execution_count": 22,
   "metadata": {},
   "outputs": [
    {
     "name": "stdout",
     "output_type": "stream",
     "text": [
      "0.1\n"
     ]
    }
   ],
   "source": [
    "_, _, lb_4, ub_4, lb_2, ub_2 = get_range_box_comparison(decomon_model_0, model_torch, n_split=10)"
   ]
  },
  {
   "cell_type": "code",
   "execution_count": 23,
   "metadata": {},
   "outputs": [
    {
     "data": {
      "text/plain": [
       "-0.9372124433517435"
      ]
     },
     "execution_count": 23,
     "metadata": {},
     "output_type": "execute_result"
    }
   ],
   "source": [
    "(ub_0-ub_1).min()"
   ]
  },
  {
   "cell_type": "code",
   "execution_count": 24,
   "metadata": {},
   "outputs": [
    {
     "data": {
      "text/plain": [
       "0.004278564453124467"
      ]
     },
     "execution_count": 24,
     "metadata": {},
     "output_type": "execute_result"
    }
   ],
   "source": [
    "(ub_1-ub_0).min()"
   ]
  },
  {
   "cell_type": "code",
   "execution_count": 25,
   "metadata": {},
   "outputs": [
    {
     "data": {
      "text/plain": [
       "array([[ 0.60739517],\n",
       "       [ 0.36496835],\n",
       "       [ 1.3900393 ],\n",
       "       [ 1.50755854],\n",
       "       [ 0.98550332],\n",
       "       [ 2.25278199],\n",
       "       [ 2.13054857],\n",
       "       [-0.00874083],\n",
       "       [ 1.49460163],\n",
       "       [ 1.3896965 ]])"
      ]
     },
     "execution_count": 25,
     "metadata": {},
     "output_type": "execute_result"
    }
   ],
   "source": [
    "ub_1"
   ]
  },
  {
   "cell_type": "code",
   "execution_count": 26,
   "metadata": {},
   "outputs": [
    {
     "data": {
      "text/plain": [
       "Text(0.5, 1.0, 'backward propagation')"
      ]
     },
     "execution_count": 26,
     "metadata": {},
     "output_type": "execute_result"
    },
    {
     "data": {
      "image/png": "[encoded data removed]",
      "text/plain": [
       "<Figure size 432x288 with 1 Axes>"
      ]
     },
     "metadata": {
      "needs_background": "light"
     },
     "output_type": "display_data"
    }
   ],
   "source": [
    "plt.plot(ub_0, c='black')\n",
    "plt.plot(ub_1, '--', c='black')\n",
    "plt.plot(ub_2, '*-', c='black')\n",
    "plt.plot(ub_4, '*-', c='blue')\n",
    "plt.plot(lb_0, c='green')\n",
    "plt.plot(lb_1, '--', c='green')\n",
    "plt.plot(lb_2, '*-', c='green')\n",
    "plt.plot(lb_4, '*-', c='red')\n",
    "plt.title('backward propagation')"
   ]
  },
  {
   "cell_type": "code",
   "execution_count": null,
   "metadata": {},
   "outputs": [],
   "source": []
  },
  {
   "cell_type": "code",
   "execution_count": 25,
   "metadata": {},
   "outputs": [
    {
     "data": {
      "text/plain": [
       "Text(0.5, 1.0, 'backward propagation')"
      ]
     },
     "execution_count": 25,
     "metadata": {},
     "output_type": "execute_result"
    },
    {
     "data": {
      "image/png": "[encoded data removed]",
      "text/plain": [
       "<Figure size 432x288 with 1 Axes>"
      ]
     },
     "metadata": {
      "needs_background": "light"
     },
     "output_type": "display_data"
    }
   ],
   "source": [
    "plt.plot(ub_0, c='black')\n",
    "plt.plot(ub_1, '--', c='black')\n",
    "plt.plot(lb_0, c='green')\n",
    "plt.plot(lb_1, '--', c='green')\n",
    "plt.title('backward propagation')"
   ]
  },
  {
   "cell_type": "code",
   "execution_count": 26,
   "metadata": {},
   "outputs": [
    {
     "data": {
      "text/plain": [
       "0.03471331596374583"
      ]
     },
     "execution_count": 26,
     "metadata": {},
     "output_type": "execute_result"
    }
   ],
   "source": [
    "(ub_0-ub_1).max()"
   ]
  },
  {
   "cell_type": "code",
   "execution_count": 25,
   "metadata": {},
   "outputs": [],
   "source": [
    "n_split=1\n",
    "x_min=x.min()\n",
    "x_max=x.max()\n",
    "alpha = np.linspace(0, 1, n_split+1)\n",
    "x_samples = (1-alpha)*x_min + alpha*x_max\n",
    "X_min = x_samples[:-1][:, None]\n",
    "X_max = x_samples[1:][:, None]\n",
    "X_lirpa_ = (X_min + X_max)/2."
   ]
  },
  {
   "cell_type": "code",
   "execution_count": 26,
   "metadata": {},
   "outputs": [],
   "source": [
    "Z = np.expand_dims(np.concatenate([X_min, X_max], -1), -1)\n",
    "output_dec = decomon_model_1.predict([X_min, Z])"
   ]
  },
  {
   "cell_type": "code",
   "execution_count": 27,
   "metadata": {},
   "outputs": [],
   "source": [
    "_, _, ub_1, wu_f, bu_f, lb_1, wl_f, bl_f, wu_b, bu_b, wl_b, bl_b = output_dec\n",
    "ub_1 = np.max(ub_1)\n",
    "wu_f = np.max(wu_f)\n",
    "bu_f = np.max(bu_f)\n",
    "lb_1 = np.max(lb_1)\n",
    "wl_f = np.max(wl_f)\n",
    "bl_f = np.max(bl_f)\n",
    "wu_b = np.max(wu_b)\n",
    "bu_b = np.max(bu_b)\n",
    "wl_b = np.max(wl_b)\n",
    "bl_b = np.max(bl_b)\n"
   ]
  },
  {
   "cell_type": "code",
   "execution_count": 28,
   "metadata": {},
   "outputs": [
    {
     "data": {
      "text/plain": [
       "array([[7.2799344]], dtype=float32)"
      ]
     },
     "execution_count": 28,
     "metadata": {},
     "output_type": "execute_result"
    }
   ],
   "source": [
    "ub_0"
   ]
  },
  {
   "cell_type": "code",
   "execution_count": 29,
   "metadata": {},
   "outputs": [
    {
     "data": {
      "text/plain": [
       "array([[-8.943093]], dtype=float32)"
      ]
     },
     "execution_count": 29,
     "metadata": {},
     "output_type": "execute_result"
    }
   ],
   "source": [
    "lb_0"
   ]
  },
  {
   "cell_type": "code",
   "execution_count": 30,
   "metadata": {},
   "outputs": [
    {
     "data": {
      "text/plain": [
       "10.287599563598633"
      ]
     },
     "execution_count": 30,
     "metadata": {},
     "output_type": "execute_result"
    }
   ],
   "source": [
    "a = np.linspace(-1, 1, 100)\n",
    "a_0 = ub_1*np.ones_like(a)\n",
    "a_1 = wu_f*a + bu_f\n",
    "a_2 = wu_b*a + bu_b\n",
    "\n",
    "np.minimum(a_0, a_1, a_2).max()"
   ]
  },
  {
   "cell_type": "code",
   "execution_count": 31,
   "metadata": {},
   "outputs": [
    {
     "data": {
      "text/plain": [
       "10.287599563598633"
      ]
     },
     "execution_count": 31,
     "metadata": {},
     "output_type": "execute_result"
    }
   ],
   "source": [
    "a_2.max()"
   ]
  },
  {
   "cell_type": "code",
   "execution_count": 212,
   "metadata": {},
   "outputs": [
    {
     "data": {
      "text/plain": [
       "-11.587142944335938"
      ]
     },
     "execution_count": 212,
     "metadata": {},
     "output_type": "execute_result"
    }
   ],
   "source": [
    "a = np.linspace(-1, 1, 100)\n",
    "a_0 = lb_1*np.ones_like(a)\n",
    "a_1 = wl_f*a + bl_f\n",
    "a_2 = wl_b*a + bl_b\n",
    "\n",
    "np.maximum(a_0, a_1, a_2).min()"
   ]
  },
  {
   "cell_type": "code",
   "execution_count": 213,
   "metadata": {},
   "outputs": [
    {
     "data": {
      "text/plain": [
       "-11.587142944335938"
      ]
     },
     "execution_count": 213,
     "metadata": {},
     "output_type": "execute_result"
    }
   ],
   "source": [
    "a_2.min()"
   ]
  },
  {
   "cell_type": "code",
   "execution_count": 214,
   "metadata": {},
   "outputs": [
    {
     "data": {
      "text/plain": [
       "array([[-7.9184155]], dtype=float32)"
      ]
     },
     "execution_count": 214,
     "metadata": {},
     "output_type": "execute_result"
    }
   ],
   "source": [
    "lb_0"
   ]
  },
  {
   "cell_type": "code",
   "execution_count": 125,
   "metadata": {},
   "outputs": [
    {
     "data": {
      "text/plain": [
       "[<matplotlib.lines.Line2D at 0x184834f50>]"
      ]
     },
     "execution_count": 125,
     "metadata": {},
     "output_type": "execute_result"
    },
    {
     "data": {
      "image/png": "[encoded data removed]",
      "text/plain": [
       "<Figure size 432x288 with 1 Axes>"
      ]
     },
     "metadata": {
      "needs_background": "light"
     },
     "output_type": "display_data"
    }
   ],
   "source": [
    "plt.plot(a, np.minimum(a_1, a_2))\n",
    "plt.plot(a, model.predict(a))"
   ]
  },
  {
   "cell_type": "code",
   "execution_count": 108,
   "metadata": {},
   "outputs": [
    {
     "data": {
      "text/plain": [
       "(array([[35.745827]], dtype=float32), array([[-47.16249]], dtype=float32))"
      ]
     },
     "execution_count": 108,
     "metadata": {},
     "output_type": "execute_result"
    }
   ],
   "source": [
    "get_range_box(decomon_model_1, X_min, X_max, fast=True)"
   ]
  },
  {
   "cell_type": "code",
   "execution_count": null,
   "metadata": {},
   "outputs": [],
   "source": []
  }
 ],
 "metadata": {
  "kernelspec": {
   "display_name": "Python 3",
   "language": "python",
   "name": "python3"
  },
  "language_info": {
   "codemirror_mode": {
    "name": "ipython",
    "version": 3
   },
   "file_extension": ".py",
   "mimetype": "text/x-python",
   "name": "python",
   "nbconvert_exporter": "python",
   "pygments_lexer": "ipython3",
   "version": "3.7.10"
  }
 },
 "nbformat": 4,
 "nbformat_minor": 4
}
