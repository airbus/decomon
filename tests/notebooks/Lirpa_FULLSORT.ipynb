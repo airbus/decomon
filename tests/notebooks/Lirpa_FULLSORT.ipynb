{
 "cells": [
  {
   "cell_type": "code",
   "execution_count": null,
   "id": "reverse-champion",
   "metadata": {},
   "outputs": [],
   "source": [
    "# Full Sort Neural Network\n",
    "\n",
    "\n",
    "import matplotlib.pyplot as plt\n",
    "import tensorflow.keras as keras\n",
    "\n",
    "%matplotlib inline\n",
    "import numpy as np\n",
    "import tensorflow as tf\n",
    "import tensorflow.keras.backend as K\n",
    "from tensorflow.keras.layers import Dense, Layer\n",
    "from tensorflow.keras.models import Sequential\n",
    "\n",
    "print(\"Notebook run using keras:\", keras.__version__)\n",
    "import sys\n",
    "\n",
    "sys.path.append(\"..\")"
   ]
  },
  {
   "cell_type": "code",
   "execution_count": null,
   "id": "bound-cuisine",
   "metadata": {},
   "outputs": [],
   "source": []
  },
  {
   "cell_type": "code",
   "execution_count": null,
   "id": "raising-conservation",
   "metadata": {},
   "outputs": [],
   "source": [
    "class FullSort(Layer):\n",
    "    def __init__(self, **kwargs):\n",
    "        super(FullSort, self).__init__(**kwargs)\n",
    "\n",
    "    def build(self, input_shape):\n",
    "        super(FullSort, self).build(input_shape)\n",
    "\n",
    "    def compute_output_shape(self, input_shape):\n",
    "        import pdb\n",
    "\n",
    "        pdb.set_trace()\n",
    "        return input_shape\n",
    "\n",
    "    def call(self, inputs):\n",
    "        shape = inputs.shape[1:]\n",
    "        return K.reshape(tf.sort(inputs, axis=-1), [-1] + list(shape))"
   ]
  },
  {
   "cell_type": "code",
   "execution_count": null,
   "id": "daily-doubt",
   "metadata": {},
   "outputs": [],
   "source": [
    "x = np.linspace(-1, 1, 1000)\n",
    "y = np.sin(10 * x)"
   ]
  },
  {
   "cell_type": "code",
   "execution_count": null,
   "id": "aboriginal-harris",
   "metadata": {},
   "outputs": [],
   "source": [
    "layers = []\n",
    "layers.append(Dense(5, activation=\"linear\", input_dim=1))  # specify the dimension of the input space\n",
    "layers.append(FullSort())\n",
    "layers.append(Dense(1, activation=\"linear\"))\n",
    "# layers.append(FullSort())\n",
    "# layers.append(Dense(10, activation='linear'))\n",
    "# layers.append(FullSort())\n",
    "# layers.append(Dense(1, activation='linear'))\n",
    "\n",
    "model = Sequential(layers)"
   ]
  },
  {
   "cell_type": "code",
   "execution_count": null,
   "id": "packed-hunter",
   "metadata": {},
   "outputs": [],
   "source": [
    "model.compile(\"adam\", \"mse\")"
   ]
  },
  {
   "cell_type": "code",
   "execution_count": null,
   "id": "confirmed-spider",
   "metadata": {},
   "outputs": [],
   "source": [
    "_ = model.predict(x)"
   ]
  },
  {
   "cell_type": "code",
   "execution_count": null,
   "id": "japanese-finder",
   "metadata": {},
   "outputs": [],
   "source": [
    "from decomon.models import convert"
   ]
  },
  {
   "cell_type": "code",
   "execution_count": null,
   "id": "bearing-separation",
   "metadata": {},
   "outputs": [],
   "source": [
    "# convert our model into a decomon model:\n",
    "decomon_model = convert(model, forward=True, mode=\"forward\")"
   ]
  },
  {
   "cell_type": "code",
   "execution_count": null,
   "id": "hollow-typing",
   "metadata": {},
   "outputs": [],
   "source": [
    "model.fit(x, y, batch_size=32, shuffle=True, epochs=100, verbose=1)"
   ]
  },
  {
   "cell_type": "code",
   "execution_count": null,
   "id": "expired-worry",
   "metadata": {},
   "outputs": [],
   "source": [
    "x_test = np.linspace(-1, 1, 2000)\n",
    "y_pred = model.predict(x_test)"
   ]
  },
  {
   "cell_type": "code",
   "execution_count": null,
   "id": "minor-barrel",
   "metadata": {},
   "outputs": [],
   "source": [
    "plt.plot(x_test, y_pred)\n",
    "plt.legend([\"NN\"])"
   ]
  },
  {
   "cell_type": "code",
   "execution_count": null,
   "id": "understood-cursor",
   "metadata": {},
   "outputs": [],
   "source": []
  },
  {
   "cell_type": "code",
   "execution_count": null,
   "id": "difficult-dryer",
   "metadata": {},
   "outputs": [],
   "source": []
  }
 ],
 "metadata": {
  "kernelspec": {
   "display_name": "Python 3",
   "language": "python",
   "name": "python3"
  },
  "language_info": {
   "codemirror_mode": {
    "name": "ipython",
    "version": 3
   },
   "file_extension": ".py",
   "mimetype": "text/x-python",
   "name": "python",
   "nbconvert_exporter": "python",
   "pygments_lexer": "ipython3",
   "version": "3.7.10"
  }
 },
 "nbformat": 4,
 "nbformat_minor": 5
}
