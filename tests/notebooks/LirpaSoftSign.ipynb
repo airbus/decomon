{
 "cells": [
  {
   "cell_type": "markdown",
   "id": "rising-spray",
   "metadata": {},
   "source": [
    "# Lirpa Softsign"
   ]
  },
  {
   "cell_type": "code",
   "execution_count": 1,
   "id": "round-plain",
   "metadata": {},
   "outputs": [],
   "source": [
    "import matplotlib.pyplot as plt\n",
    "import numpy as np"
   ]
  },
  {
   "cell_type": "code",
   "execution_count": 2,
   "id": "incident-relaxation",
   "metadata": {},
   "outputs": [],
   "source": []
  },
  {
   "cell_type": "code",
   "execution_count": 3,
   "id": "desperate-junction",
   "metadata": {},
   "outputs": [],
   "source": [
    "def softsign(x):\n",
    "    return x / (1.0 + np.abs(x))\n",
    "\n",
    "\n",
    "def softsign_prime(x):\n",
    "    return 1.0 / (1.0 + np.abs(x)) ** 2"
   ]
  },
  {
   "cell_type": "code",
   "execution_count": 4,
   "id": "directed-reference",
   "metadata": {},
   "outputs": [],
   "source": [
    "x_ = np.linspace(-10, 10, 100)\n",
    "y_ = softsign(x_)"
   ]
  },
  {
   "cell_type": "code",
   "execution_count": 5,
   "id": "premier-observer",
   "metadata": {},
   "outputs": [
    {
     "data": {
      "text/plain": [
       "[<matplotlib.lines.Line2D at 0x136cb10d0>]"
      ]
     },
     "execution_count": 5,
     "metadata": {},
     "output_type": "execute_result"
    },
    {
     "data": {
      "image/png": "[encoded data removed]",
      "text/plain": [
       "<Figure size 432x288 with 1 Axes>"
      ]
     },
     "metadata": {
      "needs_background": "light"
     },
     "output_type": "display_data"
    }
   ],
   "source": [
    "plt.plot(x_, y_)"
   ]
  },
  {
   "cell_type": "code",
   "execution_count": 6,
   "id": "collective-spokesman",
   "metadata": {},
   "outputs": [],
   "source": [
    "def linear_hull_upper(lower, upper):\n",
    "\n",
    "    s_u_prime = softsign_prime(upper)\n",
    "    s_u = softsign(upper)\n",
    "    s_l = softsign(lower)\n",
    "    if s_u_prime >= (s_u - s_l) / (upper - lower):\n",
    "        w_u = (s_u - s_l) / (upper - lower)\n",
    "        b_u = -w_u * lower + s_l\n",
    "    else:\n",
    "        if lower >= 0:\n",
    "            w_u = 0.0\n",
    "            b_u = s_u\n",
    "        else:\n",
    "            t_ = np.linspace(0.0, 1.0, 100) * upper\n",
    "            s_p_t_ = softsign_prime(t_)\n",
    "            score = s_p_t_ - (softsign(t_) - s_l) / (t_ - lower)\n",
    "\n",
    "            index_0 = np.argmin(np.abs(score))\n",
    "            if score[index_0] <= 0:\n",
    "                index_0 -= 1\n",
    "            s_t = softsign(t_[index_0])\n",
    "            t = t_[index_0]\n",
    "\n",
    "            w_u = (s_t - s_l) / (t - lower)\n",
    "            b_u = -w_u * lower + s_l\n",
    "\n",
    "            V_0 = (w_u * upper + b_u - s_t) * (upper - t) / 2.0\n",
    "            # V_1 = (s_t-s_l)*(-t-lower)/2.\n",
    "            V_2 = (s_t - s_l) * (t - lower) / 2.0\n",
    "            print(V_2, V_0)\n",
    "            if V_2 <= V_0:\n",
    "                w_u = 0.0\n",
    "                b_u = s_u\n",
    "\n",
    "    return [w_u, b_u]"
   ]
  },
  {
   "cell_type": "code",
   "execution_count": 7,
   "id": "opponent-visitor",
   "metadata": {},
   "outputs": [],
   "source": [
    "def linear_hull_lower(lower, upper):\n",
    "\n",
    "    s_l_prime = softsign_prime(lower)\n",
    "    s_u = softsign(upper)\n",
    "    s_l = softsign(lower)\n",
    "\n",
    "    if s_l_prime - (s_u - s_l) / (upper - lower) >= 0.0:\n",
    "        w_l = (s_u - s_l) / (upper - lower)\n",
    "        b_l = -w_l * upper + s_u\n",
    "    else:\n",
    "        if upper <= 0:\n",
    "            w_l = 0.0\n",
    "            b_l = s_l\n",
    "\n",
    "        # partir de 0 vers lower\n",
    "        t_ = np.linspace(0.0, 1.0, 100) * lower\n",
    "        s_p_t_ = softsign_prime(t_)\n",
    "        score = s_p_t_ - (s_u - softsign(t_)) / (upper - t_)\n",
    "        index_0 = np.argmin(np.abs(score))\n",
    "        if score[index_0] <= 0:\n",
    "            index_0 += 1\n",
    "        s_t = softsign(t_[index_0])\n",
    "        t = t_[index_0]\n",
    "\n",
    "        w_l = (s_u - s_t) / (upper - t)\n",
    "        b_l = -w_l * upper + s_u\n",
    "\n",
    "        V_2 = (upper - t) * (s_u - s_t) / 2.0\n",
    "        # V_1 = (s_t-s_l)*(-t-lower)/2.\n",
    "        V_0 = (s_t - w_l * lower - b_l) * (t - lower) / 2.0\n",
    "\n",
    "        if V_2 <= V_0:\n",
    "            w_l = 0.0\n",
    "            b_l = s_l\n",
    "    return [w_l, b_l]"
   ]
  },
  {
   "cell_type": "code",
   "execution_count": 12,
   "id": "promising-currency",
   "metadata": {},
   "outputs": [],
   "source": [
    "def func(x_min, x_max):\n",
    "    n_step = 100\n",
    "    if x_max < x_min:\n",
    "        x_max_ = x_max + 0\n",
    "        x_max = x_min\n",
    "        x_min = x_max_\n",
    "    x = np.linspace(x_min, x_max, n_step)\n",
    "    y = np.linspace(-10, 10, 1000)\n",
    "\n",
    "    w_u, b_u = linear_hull_upper(x_min, x_max)\n",
    "    w_l, b_l = linear_hull_lower(x_min, x_max)\n",
    "    s_x = softsign(x)\n",
    "    s_y = softsign(y)\n",
    "    z_x = w_u * x + b_u\n",
    "    q_x = w_l * x + b_l\n",
    "\n",
    "    plt.title(\"{}, {}\".format(np.min(z_x - s_x), np.min(s_x - q_x)))\n",
    "\n",
    "    # import pdb; pdb.set_trace()\n",
    "\n",
    "    # plt.xlim(0., x_max)\n",
    "\n",
    "    plt.plot(x, s_x, c=\"blue\")\n",
    "    plt.plot(x, z_x, c=\"orange\")\n",
    "    # import pdb; pdb.set_trace()\n",
    "    plt.plot(x, q_x, c=\"green\")\n",
    "    plt.plot(y, s_y, \"--\", c=\"k\")"
   ]
  },
  {
   "cell_type": "code",
   "execution_count": 13,
   "id": "perceived-indonesia",
   "metadata": {},
   "outputs": [
    {
     "name": "stdout",
     "output_type": "stream",
     "text": [
      "4.15448343079922 1.682394116604643\n"
     ]
    },
    {
     "data": {
      "image/png": "[encoded data removed]",
      "text/plain": [
       "<Figure size 432x288 with 1 Axes>"
      ]
     },
     "metadata": {
      "needs_background": "light"
     },
     "output_type": "display_data"
    }
   ],
   "source": [
    "func(-5.0, 5.0)"
   ]
  },
  {
   "cell_type": "code",
   "execution_count": 23,
   "id": "continued-vector",
   "metadata": {},
   "outputs": [
    {
     "data": {
      "text/plain": [
       "-0.9090909090909091"
      ]
     },
     "execution_count": 23,
     "metadata": {},
     "output_type": "execute_result"
    }
   ],
   "source": [
    "softsign(-10)"
   ]
  },
  {
   "cell_type": "code",
   "execution_count": 24,
   "id": "perfect-growing",
   "metadata": {},
   "outputs": [
    {
     "data": {
      "text/plain": [
       "0.5"
      ]
     },
     "execution_count": 24,
     "metadata": {},
     "output_type": "execute_result"
    }
   ],
   "source": [
    "softsign(1.0)"
   ]
  },
  {
   "cell_type": "code",
   "execution_count": 21,
   "id": "regulation-chest",
   "metadata": {},
   "outputs": [],
   "source": [
    "x_min = -10\n",
    "x_max = 10\n",
    "n_step = 100\n",
    "x = np.linspace(x_min, x_max, n_step)\n",
    "z = softsign_prime(-4) * x - softsign(x)"
   ]
  },
  {
   "cell_type": "code",
   "execution_count": 22,
   "id": "worth-observer",
   "metadata": {},
   "outputs": [
    {
     "data": {
      "text/plain": [
       "[<matplotlib.lines.Line2D at 0x111515050>]"
      ]
     },
     "execution_count": 22,
     "metadata": {},
     "output_type": "execute_result"
    },
    {
     "data": {
      "image/png": "[encoded data removed]",
      "text/plain": [
       "<Figure size 432x288 with 1 Axes>"
      ]
     },
     "metadata": {
      "needs_background": "light"
     },
     "output_type": "display_data"
    }
   ],
   "source": [
    "plt.plot(x, z)"
   ]
  },
  {
   "cell_type": "code",
   "execution_count": null,
   "id": "executive-bridge",
   "metadata": {},
   "outputs": [],
   "source": []
  }
 ],
 "metadata": {
  "kernelspec": {
   "display_name": "Python 3",
   "language": "python",
   "name": "python3"
  },
  "language_info": {
   "codemirror_mode": {
    "name": "ipython",
    "version": 3
   },
   "file_extension": ".py",
   "mimetype": "text/x-python",
   "name": "python",
   "nbconvert_exporter": "python",
   "pygments_lexer": "ipython3",
   "version": "3.7.10"
  }
 },
 "nbformat": 4,
 "nbformat_minor": 5
}
