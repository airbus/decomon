{
 "cells": [
  {
   "cell_type": "markdown",
   "id": "casual-princess",
   "metadata": {},
   "source": [
    "\n",
    "# Linear Relaxation of Softsign"
   ]
  },
  {
   "cell_type": "code",
   "execution_count": 11,
   "id": "educational-matrix",
   "metadata": {},
   "outputs": [],
   "source": [
    "import numpy as np\n",
    "from tensorflow.keras.models import Sequential\n",
    "from tensorflow.keras.layers import Activation, Dense\n",
    "import matplotlib.pyplot as plt\n",
    "from ipywidgets import interact, interactive, fixed, interact_manual\n",
    "import ipywidgets as widgets"
   ]
  },
  {
   "cell_type": "code",
   "execution_count": 2,
   "id": "constant-cassette",
   "metadata": {},
   "outputs": [],
   "source": [
    "model = Sequential()\n",
    "model.add(Activation('softsign', input_dim=1))"
   ]
  },
  {
   "cell_type": "code",
   "execution_count": 4,
   "id": "mediterranean-victory",
   "metadata": {},
   "outputs": [],
   "source": [
    "import sys\n",
    "sys.path.append('../..')\n",
    "import decomon\n",
    "from decomon.models import convert, clone\n",
    "from decomon import get_upper_box, get_lower_box, get_range_box"
   ]
  },
  {
   "cell_type": "code",
   "execution_count": 5,
   "id": "instructional-boutique",
   "metadata": {},
   "outputs": [],
   "source": [
    "decomon_model = convert(model)"
   ]
  },
  {
   "cell_type": "code",
   "execution_count": 6,
   "id": "adjacent-forth",
   "metadata": {},
   "outputs": [],
   "source": [
    "def softsign(x):\n",
    "    return x/(np.abs(x)+1.)\n"
   ]
  },
  {
   "cell_type": "code",
   "execution_count": 13,
   "id": "premier-newspaper",
   "metadata": {},
   "outputs": [],
   "source": [
    "nn_layers = [Dense(10, activation='relu', input_dim=1), Dense(10, activation='relu'),\\\n",
    "            Dense(1)]\n",
    "\n",
    "nn_model = Sequential(nn_layers)"
   ]
  },
  {
   "cell_type": "code",
   "execution_count": 14,
   "id": "fourth-ecology",
   "metadata": {},
   "outputs": [],
   "source": [
    "nn_model.compile('adam', 'mse')"
   ]
  },
  {
   "cell_type": "code",
   "execution_count": 21,
   "id": "willing-season",
   "metadata": {},
   "outputs": [
    {
     "name": "stdout",
     "output_type": "stream",
     "text": [
      "Epoch 1/10\n",
      "32/32 [==============================] - 0s 785us/step - loss: 2.1177e-04\n",
      "Epoch 2/10\n",
      "32/32 [==============================] - 0s 676us/step - loss: 1.9849e-04\n",
      "Epoch 3/10\n",
      "32/32 [==============================] - 0s 720us/step - loss: 1.9057e-04\n",
      "Epoch 4/10\n",
      "32/32 [==============================] - 0s 754us/step - loss: 1.7154e-04\n",
      "Epoch 5/10\n",
      "32/32 [==============================] - 0s 790us/step - loss: 1.6040e-04\n",
      "Epoch 6/10\n",
      "32/32 [==============================] - 0s 580us/step - loss: 1.5209e-04\n",
      "Epoch 7/10\n",
      "32/32 [==============================] - 0s 596us/step - loss: 1.4004e-04\n",
      "Epoch 8/10\n",
      "32/32 [==============================] - 0s 703us/step - loss: 1.3499e-04\n",
      "Epoch 9/10\n",
      "32/32 [==============================] - 0s 532us/step - loss: 1.2533e-04\n",
      "Epoch 10/10\n",
      "32/32 [==============================] - 0s 618us/step - loss: 1.2094e-04\n"
     ]
    },
    {
     "data": {
      "text/plain": [
       "<tensorflow.python.keras.callbacks.History at 0x15eb58fd0>"
      ]
     },
     "execution_count": 21,
     "metadata": {},
     "output_type": "execute_result"
    }
   ],
   "source": [
    "x_ =np.linspace(-10, 10, 1000)\n",
    "nn_model.fit(x_, model.predict(x_), epochs=10)"
   ]
  },
  {
   "cell_type": "code",
   "execution_count": null,
   "id": "thirty-fossil",
   "metadata": {},
   "outputs": [],
   "source": []
  },
  {
   "cell_type": "code",
   "execution_count": 22,
   "id": "tender-istanbul",
   "metadata": {},
   "outputs": [],
   "source": [
    "def linear_hull_upper_decomon(lower, upper):\n",
    "    x_min = lower*np.ones((1,1))\n",
    "    x_max = upper*np.ones((1,1))\n",
    "    box = np.concatenate([x_min[:,None], x_max[:,None]], 1)\n",
    "    #print(box)\n",
    "    output = decomon_model.predict([x_max, box])\n",
    "    _, _, upper, _, w_u, b_u, _, _ = output\n",
    "\n",
    "    return upper.min(), w_u.min(), b_u.min()\n",
    "\n",
    "def linear_hull_lower_decomon(lower, upper):\n",
    "    \n",
    "    x_min = lower*np.ones((1,1))\n",
    "    x_max = upper*np.ones((1,1))\n",
    "    box = np.concatenate([x_min[:,None], x_max[:,None]], 1)\n",
    "    \n",
    "    output = decomon_model.predict([x_min, box])\n",
    "    _, _, _, lower, _, _, w_l, b_l = output\n",
    "    return lower.min(), w_l.min(), b_l.min()"
   ]
  },
  {
   "cell_type": "code",
   "execution_count": 23,
   "id": "charitable-slovenia",
   "metadata": {},
   "outputs": [],
   "source": [
    "def func(x_min, x_max):\n",
    "    n_step=100\n",
    "    if x_max <x_min:\n",
    "        x_max_ = x_max + 0\n",
    "        x_max = x_min\n",
    "        x_min = x_max_\n",
    "    x = np.linspace(x_min, x_max, n_step)\n",
    "    y = np.linspace(-10, 10, 1000)\n",
    "    \n",
    "    _,w_u, b_u = linear_hull_upper_decomon(x_min,x_max)\n",
    "    _, w_l, b_l = linear_hull_lower_decomon(x_min, x_max)\n",
    "    \n",
    "    s_z = nn_model.predict(x)\n",
    "    s_x = softsign(x)\n",
    "    s_y = softsign(y)\n",
    "    z_x = w_u*x + b_u\n",
    "    q_x = w_l*x + b_l\n",
    "\n",
    "    plt.ylim(-1.3, 1.3)\n",
    "    \n",
    "    plt.plot(x, s_x, c='blue')\n",
    "    plt.plot(x, z_x, c='orange')\n",
    "    plt.plot(x, q_x, c='green' )\n",
    "    plt.plot(x, s_z, c='pink')\n",
    "\n",
    "    plt.plot(y, s_y, '--', c='k')\n",
    "    plt.title('Linear Relaxation of Softsign')"
   ]
  },
  {
   "cell_type": "code",
   "execution_count": 24,
   "id": "decent-september",
   "metadata": {},
   "outputs": [
    {
     "data": {
      "application/vnd.jupyter.widget-view+json": {
       "model_id": "3779379a3ddf4dceb108f588e470639f",
       "version_major": 2,
       "version_minor": 0
      },
      "text/plain": [
       "interactive(children=(FloatSlider(value=-10.0, continuous_update=False, description='x_min', max=10.0, min=-10…"
      ]
     },
     "metadata": {},
     "output_type": "display_data"
    },
    {
     "data": {
      "text/plain": [
       "<function __main__.func(x_min, x_max)>"
      ]
     },
     "execution_count": 24,
     "metadata": {},
     "output_type": "execute_result"
    }
   ],
   "source": [
    "interact(func,\n",
    "        x_min = widgets.FloatSlider(value=-10,\n",
    "                                               min=-10,\n",
    "                                               max=10.,\n",
    "                                               step=0.01, continuous_update=False),\n",
    "        x_max = widgets.FloatSlider(value=10,\n",
    "                                               min=-10,\n",
    "                                               max=10,\n",
    "                                               step=0.01, continuous_update=False),\n",
    "        )"
   ]
  },
  {
   "cell_type": "code",
   "execution_count": null,
   "id": "recent-salvation",
   "metadata": {},
   "outputs": [],
   "source": []
  }
 ],
 "metadata": {
  "kernelspec": {
   "display_name": "Python 3",
   "language": "python",
   "name": "python3"
  },
  "language_info": {
   "codemirror_mode": {
    "name": "ipython",
    "version": 3
   },
   "file_extension": ".py",
   "mimetype": "text/x-python",
   "name": "python",
   "nbconvert_exporter": "python",
   "pygments_lexer": "ipython3",
   "version": "3.7.10"
  }
 },
 "nbformat": 4,
 "nbformat_minor": 5
}
