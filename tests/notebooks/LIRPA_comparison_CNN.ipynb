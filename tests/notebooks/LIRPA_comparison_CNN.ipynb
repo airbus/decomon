{
 "cells": [
  {
   "cell_type": "code",
   "execution_count": null,
   "id": "announced-intensity",
   "metadata": {},
   "outputs": [],
   "source": [
    "import numpy as np\n",
    "from tensorflow.keras.layers import Activation, Conv2D, Dense, Flatten, Reshape\n",
    "from tensorflow.keras.models import Sequential"
   ]
  },
  {
   "cell_type": "code",
   "execution_count": null,
   "id": "golden-hudson",
   "metadata": {},
   "outputs": [],
   "source": [
    "import torch\n",
    "import torch.nn.functional as F\n",
    "from torch import nn"
   ]
  },
  {
   "cell_type": "code",
   "execution_count": null,
   "id": "spatial-tonight",
   "metadata": {},
   "outputs": [],
   "source": [
    "model = Sequential()\n",
    "model.add(Reshape((6, 6, 1), input_dim=36))\n",
    "model.add(Conv2D(32, (6, 6), activation=\"linear\", bias_initializer=\"zeros\"))\n",
    "model.add(Activation(\"relu\"))\n",
    "model.add(Flatten())\n",
    "model.add(Dense(130, activation=\"linear\"))\n",
    "model.add(Activation(\"relu\"))\n",
    "model.add(Dense(1, activation=\"linear\"))"
   ]
  },
  {
   "cell_type": "code",
   "execution_count": null,
   "id": "concerned-croatia",
   "metadata": {},
   "outputs": [],
   "source": [
    "import sys\n",
    "\n",
    "sys.path.append(\"../..\")\n",
    "from decomon.models.convert import clone as convert"
   ]
  },
  {
   "cell_type": "code",
   "execution_count": null,
   "id": "identified-blind",
   "metadata": {},
   "outputs": [],
   "source": [
    "class NeuralNet(nn.Module):\n",
    "    def __init__(self):\n",
    "        super(NeuralNet, self).__init__()\n",
    "        self.conv1 = nn.Conv2d(in_channels=1, out_channels=32, kernel_size=(6, 6))\n",
    "        self.fc1 = nn.Linear(32, 130)\n",
    "        self.fc2 = nn.Linear(130, 1)\n",
    "        self.layers = [self.conv1, self.fc1, self.fc2]\n",
    "\n",
    "    def forward(self, x):\n",
    "        x = torch.reshape(x, (-1, 1, 6, 6))\n",
    "        x = self.conv1(x)\n",
    "        x = F.relu(x)\n",
    "        x = torch.reshape(x, (-1, 32))\n",
    "        x = self.fc1(x)\n",
    "        x = F.relu(x)\n",
    "        x = self.fc2(x)\n",
    "        return x\n",
    "\n",
    "    def reset_weights(self, model):\n",
    "        layers = model.layers\n",
    "        index = 0\n",
    "        for layer_keras in layers:\n",
    "            if len(layer_keras.get_weights()):\n",
    "                layer_torch = self.layers[index]\n",
    "                weights = layer_keras.get_weights()\n",
    "                if len(weights[0].shape) == 2:\n",
    "                    # dense layer\n",
    "                    layer_torch.weight.data = torch.from_numpy(np.transpose(weights[0]))\n",
    "                    layer_torch.bias.data = torch.from_numpy(np.transpose(weights[1]))\n",
    "                else:\n",
    "                    layer_torch.weight.data = torch.from_numpy(np.transpose(weights[0], (3, 2, 0, 1)))\n",
    "                    layer_torch.bias.data = torch.from_numpy(weights[1])\n",
    "                index += 1"
   ]
  },
  {
   "cell_type": "code",
   "execution_count": null,
   "id": "peaceful-basic",
   "metadata": {},
   "outputs": [],
   "source": [
    "model_torch = NeuralNet()"
   ]
  },
  {
   "cell_type": "code",
   "execution_count": null,
   "id": "underlying-corpus",
   "metadata": {},
   "outputs": [],
   "source": [
    "model_torch.reset_weights(model)"
   ]
  },
  {
   "cell_type": "code",
   "execution_count": null,
   "id": "solid-explanation",
   "metadata": {},
   "outputs": [],
   "source": [
    "x = np.array([np.random.rand() for _ in range(100)])[:, None] * np.ones((100, 36))"
   ]
  },
  {
   "cell_type": "code",
   "execution_count": null,
   "id": "boring-subscription",
   "metadata": {},
   "outputs": [],
   "source": [
    "x_train_tensor = torch.from_numpy(x).float().to(\"cpu\")\n",
    "y_pred_torch = model_torch(x_train_tensor).cpu().detach().numpy()"
   ]
  },
  {
   "cell_type": "code",
   "execution_count": null,
   "id": "cutting-engagement",
   "metadata": {},
   "outputs": [],
   "source": [
    "y_pred_keras = model.predict(x)"
   ]
  },
  {
   "cell_type": "code",
   "execution_count": null,
   "id": "dress-emergency",
   "metadata": {},
   "outputs": [],
   "source": [
    "from numpy.testing import assert_almost_equal, assert_array_less"
   ]
  },
  {
   "cell_type": "code",
   "execution_count": null,
   "id": "toxic-civilian",
   "metadata": {},
   "outputs": [],
   "source": [
    "assert_almost_equal(y_pred_keras.flatten(), y_pred_torch.flatten())"
   ]
  },
  {
   "cell_type": "code",
   "execution_count": null,
   "id": "western-reflection",
   "metadata": {},
   "outputs": [],
   "source": [
    "import sys\n",
    "\n",
    "sys.path.append(\"../..\")\n",
    "from decomon import get_range_box\n",
    "from decomon.models.convert import clone as convert"
   ]
  },
  {
   "cell_type": "code",
   "execution_count": null,
   "id": "environmental-month",
   "metadata": {},
   "outputs": [],
   "source": [
    "# convert our model into a decomon model:\n",
    "decomon_model_0 = convert(model, method=\"crown-ibp\")"
   ]
  },
  {
   "cell_type": "code",
   "execution_count": null,
   "id": "featured-yellow",
   "metadata": {},
   "outputs": [],
   "source": [
    "decomon_model_1 = convert(model, ibp=True, forward=False, method=\"crown\")"
   ]
  },
  {
   "cell_type": "code",
   "execution_count": null,
   "id": "brown-zambia",
   "metadata": {},
   "outputs": [],
   "source": [
    "from auto_LiRPA import BoundedModule, BoundedTensor, PerturbationLpNorm"
   ]
  },
  {
   "cell_type": "code",
   "execution_count": null,
   "id": "sixth-delaware",
   "metadata": {},
   "outputs": [],
   "source": [
    "# define the intervals\n",
    "\n",
    "\n",
    "def get_range_box_comparison(method, model_decomon_1, model_torch, x_=x, eps=0.1):\n",
    "    X_min = x - eps\n",
    "    X_max = x + eps\n",
    "    X_lirpa_ = (X_min + X_max) / 2.0\n",
    "\n",
    "    # convert X_lirpa into a pytorch tensor\n",
    "    X_lirpa = torch.from_numpy(X_lirpa_).float().to(\"cpu\")\n",
    "\n",
    "    model_lirpa = BoundedModule(model_torch, X_lirpa)\n",
    "    ptb = PerturbationLpNorm(norm=np.inf, eps=eps)\n",
    "    input_lirpa = BoundedTensor(X_lirpa, ptb)\n",
    "\n",
    "    if method == \"crown\":\n",
    "        IBP = False\n",
    "    else:\n",
    "        IBP = True\n",
    "\n",
    "    lb, ub = model_lirpa.compute_bounds(x=(input_lirpa,), IBP=IBP, method=method)\n",
    "\n",
    "    lb_ = lb.cpu().detach().numpy()\n",
    "    ub_ = ub.cpu().detach().numpy()\n",
    "\n",
    "    upper_, lower_ = get_range_box(model_decomon_1, X_min, X_max, fast=True)\n",
    "\n",
    "    return X_lirpa_, model.predict(X_lirpa_), lb_, ub_, lower_, upper_"
   ]
  },
  {
   "cell_type": "code",
   "execution_count": null,
   "id": "exact-correction",
   "metadata": {},
   "outputs": [],
   "source": [
    "x_samples, y_samples, lb_p_0, ub_p_0, lb_t_0, ub_t_0 = get_range_box_comparison(\n",
    "    \"crown-ibp\", decomon_model_0, model_torch\n",
    ")"
   ]
  },
  {
   "cell_type": "code",
   "execution_count": null,
   "id": "selective-hours",
   "metadata": {},
   "outputs": [],
   "source": [
    "x_samples, y_samples, lb_p_1, ub_p_1, lb_t_1, ub_t_1 = get_range_box_comparison(\"crown\", decomon_model_1, model_torch)"
   ]
  },
  {
   "cell_type": "code",
   "execution_count": null,
   "id": "welcome-phrase",
   "metadata": {},
   "outputs": [],
   "source": [
    "assert_almost_equal(ub_p_0, ub_t_0, decimal=5)"
   ]
  },
  {
   "cell_type": "code",
   "execution_count": null,
   "id": "failing-evanescence",
   "metadata": {},
   "outputs": [],
   "source": [
    "assert_almost_equal(lb_p_0, lb_t_0, decimal=5)"
   ]
  },
  {
   "cell_type": "code",
   "execution_count": null,
   "id": "swedish-granny",
   "metadata": {},
   "outputs": [],
   "source": [
    "assert_almost_equal(ub_p_1, ub_t_1, decimal=5)"
   ]
  },
  {
   "cell_type": "code",
   "execution_count": null,
   "id": "excited-folder",
   "metadata": {},
   "outputs": [],
   "source": [
    "assert_almost_equal(lb_p_1, lb_t_1, decimal=5)"
   ]
  },
  {
   "cell_type": "code",
   "execution_count": null,
   "id": "closed-sally",
   "metadata": {},
   "outputs": [],
   "source": []
  },
  {
   "cell_type": "code",
   "execution_count": null,
   "id": "steady-first",
   "metadata": {},
   "outputs": [],
   "source": []
  },
  {
   "cell_type": "code",
   "execution_count": null,
   "id": "bound-storage",
   "metadata": {},
   "outputs": [],
   "source": [
    "np.abs(ub_t_1 - ub_p_1).max()"
   ]
  },
  {
   "cell_type": "code",
   "execution_count": null,
   "id": "nutritional-teacher",
   "metadata": {},
   "outputs": [],
   "source": [
    "np.abs(lb_t_1 - lb_p_1).max()"
   ]
  },
  {
   "cell_type": "code",
   "execution_count": null,
   "id": "religious-little",
   "metadata": {},
   "outputs": [],
   "source": [
    "assert_array_less(ub_t_1, ub_p_1)"
   ]
  },
  {
   "cell_type": "code",
   "execution_count": null,
   "id": "greenhouse-employee",
   "metadata": {},
   "outputs": [],
   "source": [
    "assert_array_less(lb_p_1, lb_t_1)"
   ]
  },
  {
   "cell_type": "code",
   "execution_count": null,
   "id": "legitimate-scene",
   "metadata": {},
   "outputs": [],
   "source": []
  }
 ],
 "metadata": {
  "kernelspec": {
   "display_name": "Python 3 (ipykernel)",
   "language": "python",
   "name": "python3"
  },
  "language_info": {
   "codemirror_mode": {
    "name": "ipython",
    "version": 3
   },
   "file_extension": ".py",
   "mimetype": "text/x-python",
   "name": "python",
   "nbconvert_exporter": "python",
   "pygments_lexer": "ipython3",
   "version": "3.7.11"
  }
 },
 "nbformat": 4,
 "nbformat_minor": 5
}
