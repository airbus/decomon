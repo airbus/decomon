{
 "cells": [
  {
   "cell_type": "code",
   "execution_count": 1,
   "id": "announced-intensity",
   "metadata": {},
   "outputs": [],
   "source": [
    "import tensorflow.keras as keras\n",
    "import tensorflow.keras.backend as K\n",
    "from tensorflow.keras.models import Sequential\n",
    "from tensorflow.keras.layers import Dense, Flatten, Conv2D, Activation, Reshape, Input\n",
    "import numpy as np\n"
   ]
  },
  {
   "cell_type": "code",
   "execution_count": 2,
   "id": "golden-hudson",
   "metadata": {},
   "outputs": [],
   "source": [
    "import torch\n",
    "from torch import nn\n",
    "import torch.nn.functional as F"
   ]
  },
  {
   "cell_type": "code",
   "execution_count": 3,
   "id": "spatial-tonight",
   "metadata": {},
   "outputs": [],
   "source": [
    "model = Sequential()\n",
    "model.add(Reshape((6, 6, 1), input_dim=36))\n",
    "model.add(Conv2D(32, (6, 6), activation='linear', bias_initializer='zeros'))\n",
    "model.add(Activation('relu'))\n",
    "model.add(Flatten())\n",
    "model.add(Dense(130, activation='linear'))\n",
    "model.add(Activation('relu'))\n",
    "model.add(Dense(1, activation='linear'))"
   ]
  },
  {
   "cell_type": "code",
   "execution_count": 4,
   "id": "concerned-croatia",
   "metadata": {},
   "outputs": [],
   "source": [
    "import sys\n",
    "sys.path.append('../..')\n",
    "import decomon\n",
    "from decomon.models.convert import clone as convert\n"
   ]
  },
  {
   "cell_type": "code",
   "execution_count": 5,
   "id": "identified-blind",
   "metadata": {},
   "outputs": [],
   "source": [
    "class NeuralNet(nn.Module):\n",
    "    \n",
    "    def __init__(self):\n",
    "        super(NeuralNet, self).__init__()\n",
    "        self.conv1 = nn.Conv2d(in_channels=1,out_channels=32,\n",
    "                               kernel_size=(6, 6))\n",
    "        self.fc1 = nn.Linear(32, 130)\n",
    "        self.fc2 = nn.Linear(130, 1)\n",
    "        self.layers = [self.conv1, self.fc1, self.fc2]\n",
    "        \n",
    "    def forward(self,x):\n",
    "        x =torch.reshape(x, (-1, 1, 6, 6))\n",
    "        x=self.conv1(x)\n",
    "        x=F.relu(x)\n",
    "        x = torch.reshape(x, (-1, 32))\n",
    "        x = self.fc1(x)\n",
    "        x = F.relu(x)\n",
    "        x = self.fc2(x)\n",
    "        return x\n",
    "    \n",
    "    def reset_weights(self, model):\n",
    "        \n",
    "        layers = model.layers\n",
    "        index=0\n",
    "        for layer_keras in layers:\n",
    "            if len(layer_keras.get_weights()):\n",
    "                layer_torch = self.layers[index]\n",
    "                weights = layer_keras.get_weights()\n",
    "                if len(weights[0].shape)==2:\n",
    "                    #dense layer\n",
    "                    layer_torch.weight.data = torch.from_numpy(np.transpose(weights[0]))\n",
    "                    layer_torch.bias.data = torch.from_numpy(np.transpose(weights[1]))\n",
    "                else:\n",
    "                    layer_torch.weight.data = torch.from_numpy(\\\n",
    "                                                               np.transpose(weights[0], (3, 2, 0, 1)))\n",
    "                    layer_torch.bias.data = torch.from_numpy(weights[1])\n",
    "                index+=1"
   ]
  },
  {
   "cell_type": "code",
   "execution_count": 6,
   "id": "peaceful-basic",
   "metadata": {},
   "outputs": [],
   "source": [
    "model_torch = NeuralNet()"
   ]
  },
  {
   "cell_type": "code",
   "execution_count": 7,
   "id": "underlying-corpus",
   "metadata": {},
   "outputs": [],
   "source": [
    "model_torch.reset_weights(model)"
   ]
  },
  {
   "cell_type": "code",
   "execution_count": 8,
   "id": "solid-explanation",
   "metadata": {},
   "outputs": [],
   "source": [
    "x = np.array([np.random.rand() for _ in range(100)])[:,None]*np.ones((100, 36))"
   ]
  },
  {
   "cell_type": "code",
   "execution_count": 9,
   "id": "boring-subscription",
   "metadata": {},
   "outputs": [],
   "source": [
    "x_train_tensor = torch.from_numpy(x).float().to('cpu')\n",
    "y_pred_torch = model_torch(x_train_tensor).cpu().detach().numpy()"
   ]
  },
  {
   "cell_type": "code",
   "execution_count": 10,
   "id": "cutting-engagement",
   "metadata": {},
   "outputs": [],
   "source": [
    "y_pred_keras = model.predict(x)"
   ]
  },
  {
   "cell_type": "code",
   "execution_count": 11,
   "id": "dress-emergency",
   "metadata": {},
   "outputs": [],
   "source": [
    "from numpy.testing import assert_almost_equal, assert_array_less"
   ]
  },
  {
   "cell_type": "code",
   "execution_count": 12,
   "id": "toxic-civilian",
   "metadata": {},
   "outputs": [],
   "source": [
    "assert_almost_equal(y_pred_keras.flatten(), y_pred_torch.flatten())"
   ]
  },
  {
   "cell_type": "code",
   "execution_count": 13,
   "id": "western-reflection",
   "metadata": {},
   "outputs": [],
   "source": [
    "import sys\n",
    "sys.path.append('../..')\n",
    "import decomon\n",
    "from decomon.models.convert import clone as convert\n",
    "from decomon import get_upper_box, get_lower_box, get_range_box, get_range_noise"
   ]
  },
  {
   "cell_type": "code",
   "execution_count": 14,
   "id": "environmental-month",
   "metadata": {},
   "outputs": [],
   "source": [
    "# convert our model into a decomon model:\n",
    "decomon_model_0 = convert(model, method='crown-ibp')\n"
   ]
  },
  {
   "cell_type": "code",
   "execution_count": 15,
   "id": "featured-yellow",
   "metadata": {},
   "outputs": [],
   "source": [
    "decomon_model_1 = convert(model, ibp=True, forward=False, method='crown')\n"
   ]
  },
  {
   "cell_type": "code",
   "execution_count": 18,
   "id": "brown-zambia",
   "metadata": {},
   "outputs": [],
   "source": [
    "from auto_LiRPA import BoundedModule, BoundedTensor, PerturbationLpNorm"
   ]
  },
  {
   "cell_type": "code",
   "execution_count": 19,
   "id": "sixth-delaware",
   "metadata": {},
   "outputs": [],
   "source": [
    "# define the intervals\n",
    "\n",
    "def get_range_box_comparison(method, model_decomon_1, model_torch,  x_=x, eps=0.1):\n",
    "    \n",
    "    X_min = x - eps\n",
    "    X_max = x + eps\n",
    "    X_lirpa_ = (X_min + X_max)/2.\n",
    "\n",
    "    # convert X_lirpa into a pytorch tensor\n",
    "    X_lirpa = torch.from_numpy(X_lirpa_).float().to('cpu')\n",
    "\n",
    "    model_lirpa = BoundedModule(model_torch, X_lirpa)\n",
    "    ptb = PerturbationLpNorm(norm=np.inf, eps=eps)\n",
    "    input_lirpa = BoundedTensor(X_lirpa, ptb)\n",
    "\n",
    "    if method=='crown':\n",
    "        IBP=False\n",
    "    else:\n",
    "        IBP=True\n",
    "\n",
    "    lb, ub = model_lirpa.compute_bounds(x=(input_lirpa,), IBP=IBP, method=method)\n",
    "\n",
    "    lb_ = lb.cpu().detach().numpy()\n",
    "    ub_ = ub.cpu().detach().numpy()\n",
    "    \n",
    "    upper_, lower_ = get_range_box(model_decomon_1, X_min, X_max, fast=True)\n",
    "    \n",
    "    return X_lirpa_, model.predict(X_lirpa_), lb_, ub_, lower_, upper_"
   ]
  },
  {
   "cell_type": "code",
   "execution_count": 20,
   "id": "exact-correction",
   "metadata": {},
   "outputs": [],
   "source": [
    "x_samples, y_samples, lb_p_0, ub_p_0, lb_t_0, ub_t_0 = get_range_box_comparison('crown-ibp', decomon_model_0, model_torch)"
   ]
  },
  {
   "cell_type": "code",
   "execution_count": 21,
   "id": "selective-hours",
   "metadata": {},
   "outputs": [],
   "source": [
    "x_samples, y_samples, lb_p_1, ub_p_1, lb_t_1, ub_t_1 = get_range_box_comparison('crown', decomon_model_1, model_torch)"
   ]
  },
  {
   "cell_type": "code",
   "execution_count": 22,
   "id": "welcome-phrase",
   "metadata": {},
   "outputs": [],
   "source": [
    "assert_almost_equal(ub_p_0, ub_t_0, decimal=5)"
   ]
  },
  {
   "cell_type": "code",
   "execution_count": 23,
   "id": "failing-evanescence",
   "metadata": {},
   "outputs": [],
   "source": [
    "assert_almost_equal(lb_p_0, lb_t_0, decimal=5)"
   ]
  },
  {
   "cell_type": "code",
   "execution_count": 24,
   "id": "swedish-granny",
   "metadata": {},
   "outputs": [],
   "source": [
    "assert_almost_equal(ub_p_1, ub_t_1, decimal=5)"
   ]
  },
  {
   "cell_type": "code",
   "execution_count": 25,
   "id": "excited-folder",
   "metadata": {},
   "outputs": [],
   "source": [
    "assert_almost_equal(lb_p_1, lb_t_1, decimal=5)"
   ]
  },
  {
   "cell_type": "code",
   "execution_count": null,
   "id": "closed-sally",
   "metadata": {},
   "outputs": [],
   "source": []
  },
  {
   "cell_type": "code",
   "execution_count": null,
   "id": "steady-first",
   "metadata": {},
   "outputs": [],
   "source": []
  },
  {
   "cell_type": "code",
   "execution_count": 21,
   "id": "bound-storage",
   "metadata": {},
   "outputs": [
    {
     "data": {
      "text/plain": [
       "2.0861626e-07"
      ]
     },
     "execution_count": 21,
     "metadata": {},
     "output_type": "execute_result"
    }
   ],
   "source": [
    "np.abs(ub_t_1-ub_p_1).max()"
   ]
  },
  {
   "cell_type": "code",
   "execution_count": 47,
   "id": "nutritional-teacher",
   "metadata": {},
   "outputs": [
    {
     "data": {
      "text/plain": [
       "0.11045725"
      ]
     },
     "execution_count": 47,
     "metadata": {},
     "output_type": "execute_result"
    }
   ],
   "source": [
    "np.abs(lb_t_1-lb_p_1).max()"
   ]
  },
  {
   "cell_type": "code",
   "execution_count": 28,
   "id": "religious-little",
   "metadata": {},
   "outputs": [
    {
     "ename": "AssertionError",
     "evalue": "\nArrays are not less-ordered\n\nMismatched elements: 70 / 100 (70%)\nMax absolute difference: 0.04755587\nMax relative difference: 12.8660965\n x: array([[ 0.041873],\n       [ 0.101486],\n       [ 0.004733],...\n y: array([[ 0.026596],\n       [ 0.123892],\n       [-0.019979],...",
     "output_type": "error",
     "traceback": [
      "\u001b[0;31m---------------------------------------------------------------------------\u001b[0m",
      "\u001b[0;31mAssertionError\u001b[0m                            Traceback (most recent call last)",
      "\u001b[0;32m<ipython-input-28-da1a1ec73e6b>\u001b[0m in \u001b[0;36m<module>\u001b[0;34m\u001b[0m\n\u001b[0;32m----> 1\u001b[0;31m \u001b[0massert_array_less\u001b[0m\u001b[0;34m(\u001b[0m\u001b[0mub_t_1\u001b[0m\u001b[0;34m,\u001b[0m \u001b[0mub_p_1\u001b[0m\u001b[0;34m)\u001b[0m\u001b[0;34m\u001b[0m\u001b[0;34m\u001b[0m\u001b[0m\n\u001b[0m",
      "    \u001b[0;31m[... skipping hidden 1 frame]\u001b[0m\n",
      "\u001b[0;32m/anaconda3/envs/formal/lib/python3.7/site-packages/numpy/testing/_private/utils.py\u001b[0m in \u001b[0;36massert_array_compare\u001b[0;34m(comparison, x, y, err_msg, verbose, header, precision, equal_nan, equal_inf)\u001b[0m\n\u001b[1;32m    838\u001b[0m                                 \u001b[0mverbose\u001b[0m\u001b[0;34m=\u001b[0m\u001b[0mverbose\u001b[0m\u001b[0;34m,\u001b[0m \u001b[0mheader\u001b[0m\u001b[0;34m=\u001b[0m\u001b[0mheader\u001b[0m\u001b[0;34m,\u001b[0m\u001b[0;34m\u001b[0m\u001b[0;34m\u001b[0m\u001b[0m\n\u001b[1;32m    839\u001b[0m                                 names=('x', 'y'), precision=precision)\n\u001b[0;32m--> 840\u001b[0;31m             \u001b[0;32mraise\u001b[0m \u001b[0mAssertionError\u001b[0m\u001b[0;34m(\u001b[0m\u001b[0mmsg\u001b[0m\u001b[0;34m)\u001b[0m\u001b[0;34m\u001b[0m\u001b[0;34m\u001b[0m\u001b[0m\n\u001b[0m\u001b[1;32m    841\u001b[0m     \u001b[0;32mexcept\u001b[0m \u001b[0mValueError\u001b[0m\u001b[0;34m:\u001b[0m\u001b[0;34m\u001b[0m\u001b[0;34m\u001b[0m\u001b[0m\n\u001b[1;32m    842\u001b[0m         \u001b[0;32mimport\u001b[0m \u001b[0mtraceback\u001b[0m\u001b[0;34m\u001b[0m\u001b[0;34m\u001b[0m\u001b[0m\n",
      "\u001b[0;31mAssertionError\u001b[0m: \nArrays are not less-ordered\n\nMismatched elements: 70 / 100 (70%)\nMax absolute difference: 0.04755587\nMax relative difference: 12.8660965\n x: array([[ 0.041873],\n       [ 0.101486],\n       [ 0.004733],...\n y: array([[ 0.026596],\n       [ 0.123892],\n       [-0.019979],..."
     ]
    }
   ],
   "source": [
    "assert_array_less(ub_t_1, ub_p_1)"
   ]
  },
  {
   "cell_type": "code",
   "execution_count": 29,
   "id": "greenhouse-employee",
   "metadata": {},
   "outputs": [],
   "source": [
    "assert_array_less(lb_p_1, lb_t_1)"
   ]
  },
  {
   "cell_type": "code",
   "execution_count": null,
   "id": "legitimate-scene",
   "metadata": {},
   "outputs": [],
   "source": []
  }
 ],
 "metadata": {
  "kernelspec": {
   "display_name": "Python 3 (ipykernel)",
   "language": "python",
   "name": "python3"
  },
  "language_info": {
   "codemirror_mode": {
    "name": "ipython",
    "version": 3
   },
   "file_extension": ".py",
   "mimetype": "text/x-python",
   "name": "python",
   "nbconvert_exporter": "python",
   "pygments_lexer": "ipython3",
   "version": "3.7.11"
  }
 },
 "nbformat": 4,
 "nbformat_minor": 5
}
