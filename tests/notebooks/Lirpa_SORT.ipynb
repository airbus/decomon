{
 "cells": [
  {
   "cell_type": "markdown",
   "id": "removable-expert",
   "metadata": {},
   "source": [
    "Based on Approximating Lipschitz continuous functions with\n",
    "GroupSort neural networks\n",
    "\n",
    "Group sort is really cool\n",
    "up to know no certification pertubation analysis have been proposed\n",
    "inspired from Lirpa based methods, we analyse different sort methods and their linear relaxations to apply CROWN IBP on \n",
    "GroupSort Neural Networkq"
   ]
  },
  {
   "cell_type": "markdown",
   "id": "enabling-split",
   "metadata": {},
   "source": [
    "The algorithms we will cover are:\n",
    "Bubble sort\n",
    "Selection sort\n",
    "Merge sort\n",
    "\n",
    "sources: https://towardsdatascience.com/3-must-know-sorting-algorithms-7ce725fee9f5"
   ]
  },
  {
   "cell_type": "code",
   "execution_count": null,
   "id": "accepting-rally",
   "metadata": {},
   "outputs": [],
   "source": [
    "def get_toy_example():\n",
    "    return [3, 2, 8, 4, 1, 5]\n",
    "\n",
    "\n",
    "def get_toy_example_ibp(eps):\n",
    "    L_min = [e - eps_i for (e, eps_i) in zip(get_toy_example(), eps)]\n",
    "    L_max = [e + eps_i for (e, eps_i) in zip(get_toy_example(), eps)]\n",
    "\n",
    "    return L_min, L_max"
   ]
  },
  {
   "cell_type": "markdown",
   "id": "satellite-grant",
   "metadata": {},
   "source": [
    "# 1) Bubble sort\n",
    "\n",
    "In bubble sort algorithm, we go over a sequence of numbers by comparing consecutive numbers. If a number is smaller than its previous number, we swap them. We keep going over the list until all numbers are sorted."
   ]
  },
  {
   "cell_type": "code",
   "execution_count": null,
   "id": "congressional-modem",
   "metadata": {},
   "outputs": [],
   "source": [
    "def bubble_sort(L):\n",
    "    swap = False\n",
    "    while not swap:\n",
    "        swap = True\n",
    "        for j in range(1, len(L)):\n",
    "            if L[j - 1] > L[j]:\n",
    "                swap = False\n",
    "                L[j], L[j - 1] = L[j - 1], L[j]\n",
    "    print(L)"
   ]
  },
  {
   "cell_type": "code",
   "execution_count": null,
   "id": "regular-chrome",
   "metadata": {},
   "outputs": [],
   "source": [
    "def bubble_sort_lirpa(L):\n",
    "    for _ in range(len(L) ** 2):\n",
    "        for j in range(1, len(L)):\n",
    "            a = max(L[j], L[j - 1])\n",
    "            b = min(L[j], L[j - 1])\n",
    "\n",
    "            L[j] = a\n",
    "            L[j - 1] = b\n",
    "\n",
    "    print(L)"
   ]
  },
  {
   "cell_type": "code",
   "execution_count": null,
   "id": "focal-device",
   "metadata": {},
   "outputs": [],
   "source": [
    "def max_ibp(x_min, x_max, y_min, y_max):\n",
    "    return max(x_min, y_min), max(x_max, y_max)\n",
    "\n",
    "\n",
    "def min_ibp(x_min, x_max, y_min, y_max):\n",
    "    return min(x_min, y_min), min(x_max, y_max)\n",
    "\n",
    "\n",
    "def bubble_sort_IBP(L_min, L_max):\n",
    "    n = len(L_min)\n",
    "    for _ in range(n**2):\n",
    "        for j in range(1, n):\n",
    "            a_min, a_max = max_ibp(L_min[j], L_max[j], L_min[j - 1], L_max[j - 1])\n",
    "            b_min, b_max = min_ibp(L_min[j], L_max[j], L_min[j - 1], L_max[j - 1])\n",
    "\n",
    "            L_min[j] = a_min\n",
    "            L_max[j] = a_max\n",
    "            L_min[j - 1] = b_min\n",
    "            L_max[j - 1] = b_max\n",
    "\n",
    "    print(L_min)\n",
    "    print(L_max)"
   ]
  },
  {
   "cell_type": "code",
   "execution_count": null,
   "id": "italian-component",
   "metadata": {},
   "outputs": [],
   "source": [
    "bubble_sort(get_toy_example())"
   ]
  },
  {
   "cell_type": "code",
   "execution_count": null,
   "id": "comparable-namibia",
   "metadata": {},
   "outputs": [],
   "source": [
    "bubble_sort_lirpa(get_toy_example())"
   ]
  },
  {
   "cell_type": "code",
   "execution_count": null,
   "id": "occupied-dance",
   "metadata": {},
   "outputs": [],
   "source": [
    "L_min, L_max = get_toy_example_ibp([0, 2.1, 0.2, 0.4, 1, 0.05])\n",
    "bubble_sort_IBP(L_min, L_max)"
   ]
  },
  {
   "cell_type": "markdown",
   "id": "registered-exploration",
   "metadata": {},
   "source": [
    "# 2) Selection Sort\n",
    "\n",
    "The selection sort algorithm takes the first number and starting from the second one, all other numbers are compared with the first number. If a number is smaller than the first number, they are swapped.\n",
    "When the first iteration is complete, we make sure the smallest number is at the beginning of the list. Then, we take the second number and repeat the same process.\n",
    "After the execution is completed, the list is sorted in ascending order."
   ]
  },
  {
   "cell_type": "code",
   "execution_count": null,
   "id": "undefined-gather",
   "metadata": {},
   "outputs": [],
   "source": [
    "def selection_sort(L):\n",
    "    for i in range(len(L) - 1):\n",
    "        for j in range(i + 1, len(L)):\n",
    "            if L[j] < L[i]:\n",
    "                L[i], L[j] = L[j], L[i]\n",
    "\n",
    "    print(L)"
   ]
  },
  {
   "cell_type": "code",
   "execution_count": null,
   "id": "lovely-minutes",
   "metadata": {},
   "outputs": [],
   "source": [
    "def selection_sort_lirpa(L):\n",
    "    for i in range(len(L) - 1):\n",
    "        for j in range(i + 1, len(L)):\n",
    "            a = max(L[j], L[i])\n",
    "            b = min(L[j], L[i])\n",
    "\n",
    "            L[j] = a\n",
    "            L[i] = b\n",
    "    print(L)"
   ]
  },
  {
   "cell_type": "code",
   "execution_count": null,
   "id": "thrown-clothing",
   "metadata": {},
   "outputs": [],
   "source": [
    "selection_sort(get_toy_example())"
   ]
  },
  {
   "cell_type": "code",
   "execution_count": null,
   "id": "champion-palace",
   "metadata": {},
   "outputs": [],
   "source": [
    "selection_sort_lirpa(get_toy_example())"
   ]
  },
  {
   "cell_type": "code",
   "execution_count": null,
   "id": "warming-vermont",
   "metadata": {},
   "outputs": [],
   "source": [
    "def selection_sort_IBP(L_min, L_max):\n",
    "    n = len(L_min)\n",
    "    for i in range(n - 1):\n",
    "        for j in range(i + 1, n):\n",
    "            a_min, a_max = max_ibp(L_min[j], L_max[j], L_min[i], L_max[i])\n",
    "            b_min, b_max = min_ibp(L_min[j], L_max[j], L_min[i], L_max[i])\n",
    "\n",
    "            L_min[j] = a_min\n",
    "            L_max[j] = a_max\n",
    "            L_min[i] = b_min\n",
    "            L_max[i] = b_max\n",
    "\n",
    "    print(L_min)\n",
    "    print(L_max)"
   ]
  },
  {
   "cell_type": "code",
   "execution_count": null,
   "id": "fabulous-wilson",
   "metadata": {},
   "outputs": [],
   "source": [
    "L_min, L_max = get_toy_example_ibp([0, 2.1, 0.2, 0.4, 1, 0.05])\n",
    "selection_sort_IBP(L_min, L_max)"
   ]
  },
  {
   "cell_type": "code",
   "execution_count": null,
   "id": "quantitative-resource",
   "metadata": {},
   "outputs": [],
   "source": [
    "# do an interactive plot"
   ]
  },
  {
   "cell_type": "code",
   "execution_count": null,
   "id": "available-minimum",
   "metadata": {},
   "outputs": [],
   "source": [
    "l = get_toy_example()\n",
    "\n",
    "\n",
    "def func(i):\n",
    "    l[i] = -1"
   ]
  },
  {
   "cell_type": "code",
   "execution_count": null,
   "id": "industrial-spray",
   "metadata": {},
   "outputs": [],
   "source": []
  },
  {
   "cell_type": "code",
   "execution_count": null,
   "id": "constant-monster",
   "metadata": {},
   "outputs": [],
   "source": [
    "l"
   ]
  },
  {
   "cell_type": "code",
   "execution_count": null,
   "id": "sudden-covering",
   "metadata": {},
   "outputs": [],
   "source": [
    "func(5)"
   ]
  },
  {
   "cell_type": "code",
   "execution_count": null,
   "id": "yellow-transformation",
   "metadata": {},
   "outputs": [],
   "source": [
    "l"
   ]
  },
  {
   "cell_type": "code",
   "execution_count": null,
   "id": "obvious-wealth",
   "metadata": {},
   "outputs": [],
   "source": []
  }
 ],
 "metadata": {
  "kernelspec": {
   "display_name": "Python 3",
   "language": "python",
   "name": "python3"
  },
  "language_info": {
   "codemirror_mode": {
    "name": "ipython",
    "version": 3
   },
   "file_extension": ".py",
   "mimetype": "text/x-python",
   "name": "python",
   "nbconvert_exporter": "python",
   "pygments_lexer": "ipython3",
   "version": "3.7.10"
  }
 },
 "nbformat": 4,
 "nbformat_minor": 5
}
