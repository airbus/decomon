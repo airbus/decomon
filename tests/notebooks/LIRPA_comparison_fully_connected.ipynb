{
 "cells": [
  {
   "cell_type": "markdown",
   "metadata": {},
   "source": [
    "# COMPARISON LIRPA VS DECOMON: FULLY CONNECTED MNIST"
   ]
  },
  {
   "cell_type": "markdown",
   "metadata": {},
   "source": [
    "# PART A: TENSORFLOW"
   ]
  },
  {
   "cell_type": "code",
   "execution_count": 1,
   "metadata": {},
   "outputs": [],
   "source": [
    "import tensorflow.keras as keras\n",
    "import numpy as np\n",
    "from tensorflow.keras.models import Sequential\n",
    "from tensorflow.keras.layers import Dense, Activation\n",
    "from tensorflow.keras.datasets import mnist\n",
    "import sys\n",
    "sys.path.append('..')\n",
    "import os.path\n",
    "import os\n",
    "import pickle as pkl\n",
    "from contextlib import closing\n",
    "import time\n",
    "from numpy.testing import assert_almost_equal,  assert_array_less"
   ]
  },
  {
   "cell_type": "code",
   "execution_count": 2,
   "metadata": {},
   "outputs": [
    {
     "name": "stdout",
     "output_type": "stream",
     "text": [
      "Notebook run using keras: 2.4.0\n"
     ]
    }
   ],
   "source": [
    "import os\n",
    "import tensorflow.keras as keras\n",
    "import matplotlib.pyplot as plt\n",
    "%matplotlib inline\n",
    "import numpy as np\n",
    "import tensorflow.keras.backend as K\n",
    "from tensorflow.keras.models import Model, Sequential\n",
    "from tensorflow.keras.layers import Input, Lambda, Activation, Reshape, \\\n",
    "Conv2D, Add, Flatten, Dense, Layer, MaxPooling2D, Subtract, Concatenate, Multiply, Add, Subtract\n",
    "from ipywidgets import interact, interactive, fixed, interact_manual\n",
    "import ipywidgets as widgets\n",
    "print('Notebook run using keras:', keras.__version__)\n",
    "import sys\n",
    "sys.path.append('../..')\n",
    "import decomon\n",
    "from decomon.models.convert import clone as convert\n",
    "from decomon import get_upper_box, get_lower_box, get_range_box, get_range_noise"
   ]
  },
  {
   "cell_type": "code",
   "execution_count": 3,
   "metadata": {},
   "outputs": [],
   "source": [
    "from auto_LiRPA import BoundedModule, BoundedTensor, PerturbationLpNorm"
   ]
  },
  {
   "cell_type": "markdown",
   "metadata": {},
   "source": [
    "### Build and Train a Neural Network on a sinusoide\n",
    "\n",
    "The sinusoide funtion is defined on a $[-1 ; 1 ]$ interval. We put a factor in the sinusoide to have several periods of oscillations. \n"
   ]
  },
  {
   "cell_type": "code",
   "execution_count": 4,
   "metadata": {},
   "outputs": [],
   "source": [
    "x = np.linspace(-1, 1, 1000)\n",
    "y = np.sin(10*x)"
   ]
  },
  {
   "cell_type": "markdown",
   "metadata": {},
   "source": [
    "We approximate this funciton by a fully connected network composed of 4 hidden layers of size 100, 100, 20 and 20 respectively. Rectified Linear Units (ReLU) are chosen as activation functions for all the neurons. "
   ]
  },
  {
   "cell_type": "code",
   "execution_count": 5,
   "metadata": {},
   "outputs": [],
   "source": [
    "layers = []\n",
    "layers.append(Dense(100, activation='linear', input_dim=1)) # specify the dimension of the input space\n",
    "layers.append(Activation('relu'))\n",
    "layers.append(Dense(100, activation='linear'))\n",
    "layers.append(Activation('relu'))\n",
    "layers.append(Dense(20, activation='linear'))\n",
    "layers.append(Activation('relu'))\n",
    "layers.append(Dense(20, activation='linear'))\n",
    "layers.append(Activation('relu'))\n",
    "layers.append(Dense(1, activation='linear'))\n",
    "model = Sequential(layers)"
   ]
  },
  {
   "cell_type": "markdown",
   "metadata": {},
   "source": [
    "we specify the optimization method and the metric, in this case a classical Means Square Error. "
   ]
  },
  {
   "cell_type": "code",
   "execution_count": 6,
   "metadata": {},
   "outputs": [],
   "source": [
    "model.compile('adam', 'mse')"
   ]
  },
  {
   "cell_type": "markdown",
   "metadata": {},
   "source": [
    "we train the neural network"
   ]
  },
  {
   "cell_type": "code",
   "execution_count": 7,
   "metadata": {},
   "outputs": [
    {
     "data": {
      "text/plain": [
       "<tensorflow.python.keras.callbacks.History at 0x17cc563d0>"
      ]
     },
     "execution_count": 7,
     "metadata": {},
     "output_type": "execute_result"
    }
   ],
   "source": [
    "model.fit(x, y, batch_size=32, shuffle=True, epochs=100, verbose=0) \n",
    "# verbose=0 removes the printing along the training"
   ]
  },
  {
   "cell_type": "code",
   "execution_count": 8,
   "metadata": {},
   "outputs": [],
   "source": [
    "import torch\n",
    "from torch import nn\n",
    "import torch.nn.functional as F"
   ]
  },
  {
   "cell_type": "code",
   "execution_count": 18,
   "metadata": {},
   "outputs": [],
   "source": [
    "class NeuralNet(nn.Module):\n",
    "    def __init__(self):\n",
    "        super(NeuralNet, self).__init__()\n",
    "        self.hidden_0 = nn.Linear(1, 100) # input_dim = 1; output_dim = 100\n",
    "        self.hidden_1 = nn.Linear(100, 100)\n",
    "        self.hidden_2 = nn.Linear(100, 20)\n",
    "        self.hidden_3 = nn.Linear(20, 20)\n",
    "        self.hidden_4 = nn.Linear(1, 20)\n",
    "        \n",
    "        self.layers = [self.hidden_0, self.hidden_1, self.hidden_2, self.hidden_3, self.hidden_4]\n",
    "\n",
    "    def forward(self, x):\n",
    "        x = self.hidden_0(x)\n",
    "        x = F.relu(x)\n",
    "        x = self.hidden_1(x)\n",
    "        x = F.relu(x)\n",
    "        x = self.hidden_2(x)\n",
    "        x = F.relu(x)\n",
    "        x = self.hidden_3(x)\n",
    "        x = F.relu(x)\n",
    "        x = self.hidden_4(x)\n",
    "        return x\n",
    "        #x = x.view(-1, 128)\n",
    "        #return x\n",
    "        \n",
    "    def reset_weights(self, model):\n",
    "        \n",
    "        layers = model.layers\n",
    "        index=0\n",
    "        for layer_keras in layers:\n",
    "            if len(layer_keras.get_weights()):\n",
    "                print(layer_keras.name)\n",
    "                layer_torch = self.layers[index]\n",
    "                weights = layer_keras.get_weights()\n",
    "                layer_torch.weight.data = torch.from_numpy(np.transpose(weights[0]))\n",
    "                layer_torch.bias.data = torch.from_numpy(np.transpose(weights[1]))\n",
    "                index+=1         \n",
    "            "
   ]
  },
  {
   "cell_type": "code",
   "execution_count": 19,
   "metadata": {},
   "outputs": [
    {
     "name": "stdout",
     "output_type": "stream",
     "text": [
      "dense\n",
      "dense_1\n",
      "dense_2\n",
      "dense_3\n",
      "dense_4\n"
     ]
    }
   ],
   "source": [
    "model_torch = NeuralNet()\n",
    "model_torch.reset_weights(model)"
   ]
  },
  {
   "cell_type": "code",
   "execution_count": 20,
   "metadata": {},
   "outputs": [
    {
     "name": "stdout",
     "output_type": "stream",
     "text": [
      "dense\n",
      "dense_1\n",
      "dense_2\n",
      "dense_3\n",
      "dense_4\n"
     ]
    }
   ],
   "source": [
    "model_torch.reset_weights(model)"
   ]
  },
  {
   "cell_type": "code",
   "execution_count": 21,
   "metadata": {},
   "outputs": [],
   "source": [
    "# convert our model into a decomon model:\n",
    "decomon_model_0 = convert(model, method='crown-ibp')\n",
    "decomon_model_1 = convert(model, ibp=True, forward=False, method='crown')"
   ]
  },
  {
   "cell_type": "markdown",
   "metadata": {},
   "source": [
    "### check the predictions"
   ]
  },
  {
   "cell_type": "code",
   "execution_count": 22,
   "metadata": {},
   "outputs": [],
   "source": [
    "x_train_tensor = torch.from_numpy(x[:,None]).float().to('cpu')\n",
    "y_pred_torch = model_torch(x_train_tensor).cpu().detach().numpy()"
   ]
  },
  {
   "cell_type": "code",
   "execution_count": 23,
   "metadata": {},
   "outputs": [],
   "source": [
    "y_pred_torch = model_torch(x_train_tensor).cpu().detach().numpy()\n",
    "y_pred_keras = model.predict(x)"
   ]
  },
  {
   "cell_type": "code",
   "execution_count": 24,
   "metadata": {},
   "outputs": [],
   "source": [
    "assert_almost_equal(y_pred_keras, y_pred_torch, decimal=6)"
   ]
  },
  {
   "cell_type": "code",
   "execution_count": 25,
   "metadata": {},
   "outputs": [
    {
     "data": {
      "text/plain": [
       "[<matplotlib.lines.Line2D at 0x18497b750>]"
      ]
     },
     "execution_count": 25,
     "metadata": {},
     "output_type": "execute_result"
    },
    {
     "data": {
      "image/png": "[encoded data removed]",
      "text/plain": [
       "<Figure size 432x288 with 1 Axes>"
      ]
     },
     "metadata": {
      "needs_background": "light"
     },
     "output_type": "display_data"
    }
   ],
   "source": [
    "plt.plot(x, y_pred_torch, 'x')\n",
    "plt.plot(x, y_pred_keras)"
   ]
  },
  {
   "cell_type": "markdown",
   "metadata": {},
   "source": [
    "# AUTO LIRPA"
   ]
  },
  {
   "cell_type": "code",
   "execution_count": 26,
   "metadata": {},
   "outputs": [],
   "source": [
    "# define the intervals\n",
    "\n",
    "def get_range_box_comparison(method, model_decomon_1, model_torch,  x_min=x.min(), x_max=x.max(), n_split=10):\n",
    "\n",
    "    alpha = np.linspace(0, 1, n_split+1)\n",
    "    x_samples = (1-alpha)*x_min + alpha*x_max\n",
    "    X_min = x_samples[:-1][:, None]\n",
    "    X_max = x_samples[1:][:, None]\n",
    "    X_lirpa_ = (X_min + X_max)/2.\n",
    "    eps = 0.5*(x_max - x_min)/n_split    \n",
    "\n",
    "    # convert X_lirpa into a pytorch tensor\n",
    "    X_lirpa = torch.from_numpy(X_lirpa_).float().to('cpu')\n",
    "\n",
    "    model_lirpa = BoundedModule(model_torch, X_lirpa)\n",
    "    ptb = PerturbationLpNorm(norm=np.inf, eps=eps)\n",
    "    input_lirpa = BoundedTensor(X_lirpa, ptb)\n",
    "\n",
    "    if method=='crown':\n",
    "        IBP=False\n",
    "    else:\n",
    "        IBP=True\n",
    "\n",
    "    lb, ub = model_lirpa.compute_bounds(x=(input_lirpa,), IBP=IBP, method=method)\n",
    "\n",
    "    lb_ = lb.cpu().detach().numpy()\n",
    "    ub_ = ub.cpu().detach().numpy()\n",
    "    \n",
    "    #upper_0, lower_0 = get_range_noise(model_decomon_0, X_lirpa_, eps, p=np.inf)\n",
    "    upper_, lower_ = get_range_box(model_decomon_1, X_min, X_max, fast=True)\n",
    "    #upper_ = np.minimum(upper_0, upper_0)\n",
    "    #lower_ = np.maximum(lower_1, lower_1)\n",
    "    \n",
    "    return X_lirpa_, model.predict(X_lirpa_), lb_, ub_, lower_, upper_"
   ]
  },
  {
   "cell_type": "code",
   "execution_count": 27,
   "metadata": {},
   "outputs": [],
   "source": [
    "x_samples, y_samples, lb_p_0, ub_p_0, lb_t_0, ub_t_0 = get_range_box_comparison('crown-ibp', decomon_model_0, model_torch, n_split=10)"
   ]
  },
  {
   "cell_type": "code",
   "execution_count": 28,
   "metadata": {},
   "outputs": [],
   "source": [
    "x_samples, y_samples, lb_p_1, ub_p_1, lb_t_1, ub_t_1 = get_range_box_comparison('crown', decomon_model_1, model_torch, n_split=10)"
   ]
  },
  {
   "cell_type": "code",
   "execution_count": 29,
   "metadata": {},
   "outputs": [
    {
     "data": {
      "text/plain": [
       "array([[ 9.5367432e-07],\n",
       "       [ 1.3113022e-06],\n",
       "       [ 7.1525574e-07],\n",
       "       [-4.7683716e-07],\n",
       "       [ 0.0000000e+00],\n",
       "       [ 4.7683716e-07],\n",
       "       [-1.9073486e-06],\n",
       "       [ 2.3841858e-07],\n",
       "       [ 1.4305115e-06],\n",
       "       [ 9.5367432e-07]], dtype=float32)"
      ]
     },
     "execution_count": 29,
     "metadata": {},
     "output_type": "execute_result"
    }
   ],
   "source": [
    "ub_p_0 - ub_t_0"
   ]
  },
  {
   "cell_type": "code",
   "execution_count": 30,
   "metadata": {},
   "outputs": [],
   "source": [
    "assert_almost_equal(ub_p_0, ub_t_0, decimal=5)"
   ]
  },
  {
   "cell_type": "code",
   "execution_count": 31,
   "metadata": {},
   "outputs": [],
   "source": [
    "assert_almost_equal(lb_p_0, lb_t_0, decimal=5)"
   ]
  },
  {
   "cell_type": "code",
   "execution_count": 33,
   "metadata": {},
   "outputs": [],
   "source": [
    "assert_almost_equal(lb_p_1, lb_t_1, decimal=5)"
   ]
  },
  {
   "cell_type": "code",
   "execution_count": 34,
   "metadata": {},
   "outputs": [],
   "source": [
    "assert_almost_equal(ub_p_1, ub_t_1, decimal=5)"
   ]
  }
 ],
 "metadata": {
  "kernelspec": {
   "display_name": "Python 3",
   "language": "python",
   "name": "python3"
  },
  "language_info": {
   "codemirror_mode": {
    "name": "ipython",
    "version": 3
   },
   "file_extension": ".py",
   "mimetype": "text/x-python",
   "name": "python",
   "nbconvert_exporter": "python",
   "pygments_lexer": "ipython3",
   "version": "3.7.10"
  }
 },
 "nbformat": 4,
 "nbformat_minor": 4
}
