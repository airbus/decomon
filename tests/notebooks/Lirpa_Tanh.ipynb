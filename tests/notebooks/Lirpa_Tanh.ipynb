{
 "cells": [
  {
   "cell_type": "markdown",
   "id": "casual-princess",
   "metadata": {},
   "source": [
    "\n",
    "# Linear Relaxation of Tanh"
   ]
  },
  {
   "cell_type": "code",
   "execution_count": null,
   "id": "educational-matrix",
   "metadata": {},
   "outputs": [],
   "source": [
    "import ipywidgets as widgets\n",
    "import matplotlib.pyplot as plt\n",
    "import numpy as np\n",
    "from ipywidgets import interact\n",
    "from tensorflow.keras.layers import Activation\n",
    "from tensorflow.keras.models import Sequential"
   ]
  },
  {
   "cell_type": "code",
   "execution_count": null,
   "id": "constant-cassette",
   "metadata": {},
   "outputs": [],
   "source": [
    "model = Sequential()\n",
    "model.add(Activation(\"tanh\", input_dim=1))"
   ]
  },
  {
   "cell_type": "code",
   "execution_count": null,
   "id": "mediterranean-victory",
   "metadata": {},
   "outputs": [],
   "source": [
    "import sys\n",
    "\n",
    "sys.path.append(\"..\")\n",
    "from decomon.models import convert"
   ]
  },
  {
   "cell_type": "code",
   "execution_count": null,
   "id": "instructional-boutique",
   "metadata": {},
   "outputs": [],
   "source": [
    "decomon_model = convert(model)"
   ]
  },
  {
   "cell_type": "code",
   "execution_count": null,
   "id": "adjacent-forth",
   "metadata": {},
   "outputs": [],
   "source": [
    "def tanh(x):\n",
    "    return np.tanh(x)"
   ]
  },
  {
   "cell_type": "code",
   "execution_count": null,
   "id": "tender-istanbul",
   "metadata": {},
   "outputs": [],
   "source": [
    "def linear_hull_upper_decomon(lower, upper):\n",
    "    x_min = lower * np.ones((1, 1))\n",
    "    x_max = upper * np.ones((1, 1))\n",
    "    box = np.concatenate([x_min[:, None], x_max[:, None]], 1)\n",
    "    # print(box)\n",
    "    output = decomon_model.predict([x_max, box])\n",
    "    _, _, upper, _, w_u, b_u, _, _ = output\n",
    "\n",
    "    return upper.min(), w_u.min(), b_u.min()\n",
    "\n",
    "\n",
    "def linear_hull_lower_decomon(lower, upper):\n",
    "    x_min = lower * np.ones((1, 1))\n",
    "    x_max = upper * np.ones((1, 1))\n",
    "    box = np.concatenate([x_min[:, None], x_max[:, None]], 1)\n",
    "\n",
    "    output = decomon_model.predict([x_min, box])\n",
    "    _, _, _, lower, _, _, w_l, b_l = output\n",
    "    return lower.min(), w_l.min(), b_l.min()"
   ]
  },
  {
   "cell_type": "code",
   "execution_count": null,
   "id": "charitable-slovenia",
   "metadata": {},
   "outputs": [],
   "source": [
    "def func(x_min, x_max):\n",
    "    n_step = 100\n",
    "    if x_max < x_min:\n",
    "        x_max_ = x_max + 0\n",
    "        x_max = x_min\n",
    "        x_min = x_max_\n",
    "    x = np.linspace(x_min, x_max, n_step)\n",
    "    y = np.linspace(-10, 10, 1000)\n",
    "\n",
    "    _, w_u, b_u = linear_hull_upper_decomon(x_min, x_max)\n",
    "    _, w_l, b_l = linear_hull_lower_decomon(x_min, x_max)\n",
    "    s_x = tanh(x)\n",
    "    s_y = tanh(y)\n",
    "    z_x = w_u * x + b_u\n",
    "    q_x = w_l * x + b_l\n",
    "\n",
    "    plt.ylim(-1.3, 1.3)\n",
    "\n",
    "    plt.plot(x, s_x, c=\"blue\")\n",
    "    plt.plot(x, z_x, c=\"orange\")\n",
    "    plt.plot(x, q_x, c=\"green\")\n",
    "\n",
    "    plt.plot(y, s_y, \"--\", c=\"k\")\n",
    "    plt.title(\"Linear Relaxation of Tanh\")"
   ]
  },
  {
   "cell_type": "code",
   "execution_count": null,
   "id": "decent-september",
   "metadata": {},
   "outputs": [],
   "source": [
    "interact(\n",
    "    func,\n",
    "    x_min=widgets.FloatSlider(value=-10, min=-10, max=10.0, step=0.01, continuous_update=False),\n",
    "    x_max=widgets.FloatSlider(value=10, min=-10, max=10, step=0.01, continuous_update=False),\n",
    ")"
   ]
  },
  {
   "cell_type": "code",
   "execution_count": null,
   "id": "recent-salvation",
   "metadata": {},
   "outputs": [],
   "source": []
  }
 ],
 "metadata": {
  "kernelspec": {
   "display_name": "Python 3",
   "language": "python",
   "name": "python3"
  },
  "language_info": {
   "codemirror_mode": {
    "name": "ipython",
    "version": 3
   },
   "file_extension": ".py",
   "mimetype": "text/x-python",
   "name": "python",
   "nbconvert_exporter": "python",
   "pygments_lexer": "ipython3",
   "version": "3.7.10"
  }
 },
 "nbformat": 4,
 "nbformat_minor": 5
}
